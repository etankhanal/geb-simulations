{
 "cells": [
  {
   "cell_type": "markdown",
   "metadata": {},
   "source": [
    "# Controller Run and Analyze w/ Faceted Output\n"
   ]
  },
  {
   "cell_type": "markdown",
   "metadata": {},
   "source": [
    "## Setup and Dependencies"
   ]
  },
  {
   "cell_type": "code",
   "execution_count": null,
   "metadata": {},
   "outputs": [],
   "source": [
    "# Set project root folder, to enable importing project files from subdirectories\n",
    "from pathlib import Path\n",
    "import os\n",
    "\n",
    "path = Path().resolve()\n",
    "root_path = str(path).split('notebooks')[0]\n",
    "os.chdir(root_path)\n",
    "\n",
    "# Import all shared dependencies and setup\n",
    "from shared import *"
   ]
  },
  {
   "cell_type": "code",
   "execution_count": null,
   "metadata": {},
   "outputs": [],
   "source": [
    "import datetime\n",
    "import time\n",
    "import warnings\n",
    "warnings.filterwarnings('ignore')\n",
    "import plotly.express as px\n",
    "import plotly.graph_objects as go\n",
    "from plotly.subplots import make_subplots\n",
    "import plotly.io as pio\n",
    "pio.renderers.default = \"png\"\n",
    "png_renderer = pio.renderers[\"png\"]\n",
    "png_renderer.width = 2000\n",
    "png_renderer.height = 1200\n",
    "\n",
    "\n",
    "from models.system_model_v3.model.params.init import params\n",
    "from experiments.system_model_v3.run import run_experiment\n",
    "from experiments.system_model_v3.configure import generate_params\n",
    "from experiments.system_model_v3.post_process import post_process_results\n",
    "from models.constants import RAY "
   ]
  },
  {
   "cell_type": "markdown",
   "metadata": {},
   "source": [
    "## Simulation Configuration"
   ]
  },
  {
   "cell_type": "markdown",
   "metadata": {},
   "source": [
    "### Length of sims and number of runs"
   ]
  },
  {
   "cell_type": "code",
   "execution_count": null,
   "metadata": {},
   "outputs": [],
   "source": [
    "# Number of timesteps(hours) to run\n",
    "# Max timesteps is 24 * 30 * 12 = 1 year\n",
    "SIMULATION_TIMESTEPS = 24 * 30 * 3\n",
    "\n",
    "# Number of runs. Each run uses a different simulated ETH dataset\n",
    "MONTE_CARLO_RUNS = 2"
   ]
  },
  {
   "cell_type": "markdown",
   "metadata": {},
   "source": [
    "### Parameters"
   ]
  },
  {
   "cell_type": "code",
   "execution_count": null,
   "metadata": {},
   "outputs": [],
   "source": [
    "# Set param values. These will override defaults\n",
    "# Default param values can be found in `models/system_model_v3/model/params/init.py`\n",
    "params_override = { \n",
    "    'debug': [False],\n",
    "    'eth_trend': [1],# 0:no trend; >0:uptrend; <0:downtrend \n",
    "    'liquidity_demand_enabled': [False],\n",
    "    'liquidity_demand_shock': [False],\n",
    "    'liquidation_buffer': [2],\n",
    "    'max_redemption_rate': [50], # used by SAFE owners\n",
    "    'min_redemption_rate': [-50], # used by SAFE owners\n",
    "    'kp': [1e-8, 1e-7],\n",
    "    'ki': [5e-15, 5e-14],\n",
    "    'alpha': [0.9999 * RAY],\n",
    "    'rate_trader_mean_pct': [3],\n",
    "    'rate_trader_min_pct': [0],\n",
    "    'rate_trader_std_pct': [2 * (3-0)],\n",
    "    'rate_trader_mean_days': [0],\n",
    "    'rate_trader_min_days': [0],\n",
    "    'rate_trader_std_days': [2 * (0-0)],\n",
    "    'eth_leverager_target_min_liquidity_ratio': [2.9],\n",
    "    'eth_leverager_target_max_liquidity_ratio': [2.9]\n",
    "}\n",
    "params_update = generate_params(params_override)\n",
    "params.update(params_update)"
   ]
  },
  {
   "cell_type": "markdown",
   "metadata": {},
   "source": [
    "## Run Simulation"
   ]
  },
  {
   "cell_type": "code",
   "execution_count": null,
   "metadata": {},
   "outputs": [],
   "source": [
    "start = time.time()\n",
    "df_raw = run_experiment(timesteps=SIMULATION_TIMESTEPS,\n",
    "               runs=MONTE_CARLO_RUNS, params=params);\n",
    "df = post_process_results(df_raw, params)\n",
    "print(f\"Run experiment and post-process took {time.time() - start} secs\")"
   ]
  },
  {
   "cell_type": "code",
   "execution_count": null,
   "metadata": {},
   "outputs": [],
   "source": [
    "# Optionally, trim results by timestep\n",
    "df_trim = df[df['timestep'] >= 20][df['timestep'] <= 24*30*12]"
   ]
  },
  {
   "cell_type": "code",
   "execution_count": null,
   "metadata": {},
   "outputs": [],
   "source": [
    "def facet_plot(df, run, facet_col, facet_row):\n",
    "    \"\"\"\n",
    "    Show faceted plots for a singe simulation run\n",
    "    \"\"\"\n",
    "    \n",
    "    # Just plot first facet_col, facet_row since eth is same for all\n",
    "    first_col = df[f'{facet_col}'].unique()[0]\n",
    "    first_row = df[f'{facet_row}'].unique()[0]\n",
    "    png_renderer.height = 700\n",
    "    fig = px.line(\n",
    "        df.query(f'run == {run}')\n",
    "          .query(f'{facet_col} == {first_col}')\n",
    "          .query(f'{facet_row} == {first_row}'),\n",
    "        title=f\"ETH/USD\",\n",
    "        x=\"timestamp\",\n",
    "        y=[\"eth_price\"],\n",
    "        color_discrete_sequence=['blue'],\n",
    "        labels={'timestamp': '', 'eth_price': ''}\n",
    "    )\n",
    "    fig.update_layout(width=500, height=2000)\n",
    "    fig.data[0].name = \"ETH/USD\"\n",
    "    fig.update_layout(title_x=0.5)\n",
    "    fig.update_layout(showlegend=False)\n",
    "    fig.update_layout({'legend_title_text': '', 'legend_x': 0.00, 'legend_y': 1.0})\n",
    "    fig.update_layout(font={'size': 24})\n",
    "    fig.update_traces(line=dict(width=2))\n",
    "    fig.update_layout(yaxis={'title': ''}, xaxis={'title': ''})\n",
    "\n",
    "    fig.show()\n",
    "\n",
    "    fig = px.line(\n",
    "        df.query(f'run == {run}'),\n",
    "        title=f\"RAI/USD\",\n",
    "        x=\"timestamp\",       \n",
    "        y=[\"market_price_twap\", \"target_price\"],\n",
    "        color_discrete_sequence=['purple', 'red'],\n",
    "        labels={'timestamp': '', 'target_price': '', 'market_price_twap': '', 'value': ''},\n",
    "        facet_col=f'{facet_col}',\n",
    "        facet_row=f'{facet_row}'\n",
    "    )\n",
    "    fig.data[0].name = \"RAI/USD TWAP\"\n",
    "    fig.data[1].name = \"Redemption Price\"\n",
    "    #fig.for_each_annotation(lambda a: a.update(text=a.text.replace(\"max_redemption_rate\", \"max rate\")))\n",
    "\n",
    "    fig.update_layout(title_x=0.5)\n",
    "    fig.update_layout({'legend_title_text': '', 'legend_x': 0.0, 'legend_y': 0})\n",
    "    fig.update_layout(showlegend=False)\n",
    "    fig.update_layout(font={'size': 24})\n",
    "    fig.update_traces(line=dict(width=2))\n",
    "    fig.update_layout(yaxis={'title': ''}, xaxis={'title': ''})\n",
    "    fig.show()\n",
    "    \n",
    "    fig = px.line(\n",
    "        df.query(f'run == {run}'),\n",
    "        title=f\"Redemption Rate APY, Note: y-axis set to min/max rate in the run\",\n",
    "        x=\"timestamp\",\n",
    "        y=['apy'],\n",
    "        color_discrete_sequence=[\"blue\"],\n",
    "        labels={'timestamp': '', 'apy': '', 'value': ''},\n",
    "        facet_col=f'{facet_col}',\n",
    "        facet_row=f'{facet_row}'\n",
    "    )\n",
    "\n",
    "    fig.data[0].name = \"Redemption Rate APY\"\n",
    "    fig.for_each_annotation(lambda a: a.update(text=a.text.replace(\"max_redemption_rate\", \"max rate\")))\n",
    "     \n",
    "    min_rate = df.query(f'run == {run}')['apy'].min()\n",
    "    max_rate = df.query(f'run == {run}')['apy'].max()\n",
    "    fig.update_yaxes(range=[min_rate, max_rate])\n",
    "    fig.update_layout(title_x=0.5)\n",
    "    fig.update_layout({'legend_title_text': '', 'legend_x': 0.00, 'legend_y': 1.0})\n",
    "    fig.update_layout(showlegend=False)\n",
    "    fig.update_layout(font={'size':24})\n",
    "    fig.update_traces(line=dict(width=2))\n",
    "    fig.update_layout(yaxis={'title': ''}, xaxis={'title': ''})\n",
    "    fig.show()\n",
    "    \n",
    "    fig = px.line(\n",
    "        df.query(f'run == {run}'),\n",
    "        title=f\"Rate trader total base\",\n",
    "        x=\"timestamp\",       \n",
    "        y=['rate_trader_total_base'],\n",
    "        color_discrete_sequence=[\"green\"],\n",
    "        facet_col=f'{facet_col}',\n",
    "        facet_row=f'{facet_row}'\n",
    "    )\n",
    "\n",
    "    fig.update_layout(title_x=0.5)\n",
    "    fig.update_layout({'legend_title_text': '', 'legend_x': 0.00, 'legend_y': 1.0})\n",
    "    fig.update_layout(showlegend=False)\n",
    "    fig.update_layout(font={'size':24})\n",
    "    fig.update_traces(line=dict(width=2))\n",
    "    fig.show()\n",
    "\n",
    "    fig = px.line(\n",
    "        df.query(f'run == {run}'),\n",
    "        title=f\"ETH Leverager Collateral\",\n",
    "        x=\"timestamp\",\n",
    "        y=['eth_leverager_collateral'],\n",
    "        color_discrete_sequence=['red'],\n",
    "        facet_col=f'{facet_col}',\n",
    "        facet_row=f'{facet_row}'\n",
    "    )\n",
    "\n",
    "    fig.update_layout(title_x=0.5)\n",
    "    fig.update_layout({'legend_title_text': '', 'legend_x': 0.00, 'legend_y': 1.0})\n",
    "    fig.update_layout(showlegend=False)\n",
    "    fig.update_layout(font={'size':24})\n",
    "    fig.update_traces(line=dict(width=2))\n",
    "    fig.show()\n",
    "\n",
    "    fig = px.line(\n",
    "        df.query(f'run == {run}'),\n",
    "        title=f\"ETH Leverager C-ratio\",\n",
    "        x=\"timestamp\",        \n",
    "        y=['eth_leverager_cratio'],\n",
    "        color_discrete_sequence=['black'],\n",
    "        facet_col=f'{facet_col}',\n",
    "        facet_row=f'{facet_row}'\n",
    "    )\n",
    "\n",
    "    fig.update_layout(title_x=0.5)\n",
    "    fig.update_layout({'legend_title_text': '', 'legend_x': 0.00, 'legend_y': 1.0})\n",
    "    fig.update_layout(showlegend=False)\n",
    "    fig.update_layout(font={'size':24})\n",
    "    fig.update_traces(line=dict(width=2))\n",
    "    fig.show()"
   ]
  },
  {
   "cell_type": "code",
   "execution_count": null,
   "metadata": {},
   "outputs": [],
   "source": [
    "for run in range(1, MONTE_CARLO_RUNS + 1):\n",
    "    print(f\"{run=}\")\n",
    "    facet_plot(df_trim, run, facet_col='ki', facet_row='kp')"
   ]
  }
 ],
 "metadata": {
  "jupytext": {
   "cell_metadata_filter": "-all",
   "encoding": "# -*- coding: utf-8 -*-",
   "formats": "ipynb,py:percent"
  },
  "kernelspec": {
   "display_name": "Python 3",
   "language": "python",
   "name": "python3"
  },
  "language_info": {
   "codemirror_mode": {
    "name": "ipython",
    "version": 3
   },
   "file_extension": ".py",
   "mimetype": "text/x-python",
   "name": "python",
   "nbconvert_exporter": "python",
   "pygments_lexer": "ipython3",
   "version": "3.8.5"
  }
 },
 "nbformat": 4,
 "nbformat_minor": 4
}
