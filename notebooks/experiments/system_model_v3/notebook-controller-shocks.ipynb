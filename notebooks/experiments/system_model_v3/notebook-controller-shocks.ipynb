{
 "cells": [
  {
   "cell_type": "markdown",
   "metadata": {},
   "source": [
    "# Experiment Analysis: Controller parameter stability during shocks\n",
    "Perform shocks of ETH price to test controller parameter stability, without stochastic processes.\n"
   ]
  },
  {
   "cell_type": "markdown",
   "metadata": {},
   "source": [
    "# Setup and Dependencies"
   ]
  },
  {
   "cell_type": "code",
   "execution_count": null,
   "metadata": {
    "lines_to_next_cell": 2
   },
   "outputs": [],
   "source": [
    "# Set project root folder, to enable importing project files from subdirectories\n",
    "from pathlib import Path\n",
    "import os\n",
    "import datetime\n",
    "\n",
    "path = Path().resolve()\n",
    "root_path = str(path).split('notebooks')[0]\n",
    "os.chdir(root_path)"
   ]
  },
  {
   "cell_type": "code",
   "execution_count": null,
   "metadata": {},
   "outputs": [],
   "source": [
    "# Import all shared dependencies and setup\n",
    "from shared import *\n",
    "\n",
    "import plotly.express as px\n",
    "import plotly.graph_objects as go\n",
    "from plotly.subplots import make_subplots\n",
    "import plotly.io as pio\n",
    "pio.renderers.default = \"png\"\n",
    "png_renderer = pio.renderers[\"png\"]\n",
    "png_renderer.width = 1000\n",
    "png_renderer.height = 600\n",
    "from pprint import pprint\n",
    "\n",
    "from models.system_model_v3.model.params.init import params\n",
    "from models.system_model_v3.model.state_variables.init import state_variables\n",
    "from experiments.system_model_v3.configure import generate_params\n",
    "from experiments.system_model_v3.run import run_experiment"
   ]
  },
  {
   "cell_type": "code",
   "execution_count": null,
   "metadata": {},
   "outputs": [],
   "source": [
    "# Update dataframe display settings\n",
    "pd.set_option('display.max_columns', 100)\n",
    "pd.set_option('display.max_rows', 50)"
   ]
  },
  {
   "cell_type": "code",
   "execution_count": null,
   "metadata": {},
   "outputs": [],
   "source": [
    "SIMULATION_TIMESTEPS = 24 * 30 * 2 # Two month horizon for shock tests\n",
    "MONTE_CARLO_RUNS = 5 # In this notebook, each run is mapped to a different shock\n",
    "\n",
    "kp_sweep = [5e-7, 1e-7, 5e-8, 1e-08]\n",
    "ki_sweep = [5e-15, 1e-14, 5e-14,1e-13]\n",
    "\n",
    "sweeps = {\n",
    "    'kp': kp_sweep,\n",
    "    'ki': ki_sweep,\n",
    "}\n",
    "\n",
    "# generate_params() expands sweeps to the cross product of its values\n",
    "# so all possible combinations are run\n",
    "#\n",
    "# Example:\n",
    "# sweeps = {\n",
    "#    'kp': [5e-8, 6e-8],\n",
    "#    'ki': [5e-13, 5e-14],\n",
    "#}\n",
    "# becomes\n",
    "#\n",
    "# sweeps = {\n",
    "#    'kp': [5e-8, 5e-8, 6e-8, 6e-8],\n",
    "#    'ki': [5e-13, 5e-14], 5e-13, 5e-14],\n",
    "#}\n",
    "\n",
    "params_update = generate_params(sweeps)\n",
    "params.update(params_update)"
   ]
  },
  {
   "cell_type": "code",
   "execution_count": null,
   "metadata": {},
   "outputs": [],
   "source": [
    "# Override eth_price to create specific shocks\n",
    "params_override = {\n",
    "    'liquidation_ratio': [1.45],\n",
    "    'eth_price': [lambda run, timestep, df=None: [\n",
    "        # Shocks at 14 days; controller turns on at 7 days\n",
    "        300, # no shock baseline\n",
    "        300 if timestep < 24 * 14 else 300 * 1.3, # 30% step, remains for rest of simulation\n",
    "        300 * 1.3 if timestep in list(range(24*14, 24*14 + 6, 1)) else 300, # 30% impulse for 6 hours\n",
    "        300 if timestep < 24 * 14 else 300 * 0.7, # negative 30% step, remains for rest of simulation\n",
    "        300 * 0.7 if timestep in list(range(24*14, 24*14 + 6, 1)) else 300, # negative 30% impulse for 6 hours\n",
    "    ][run - 1]]\n",
    "}\n",
    "params.update(params_override)"
   ]
  },
  {
   "cell_type": "code",
   "execution_count": null,
   "metadata": {},
   "outputs": [],
   "source": [
    "df_raw = run_experiment(timesteps=SIMULATION_TIMESTEPS, runs=MONTE_CARLO_RUNS, params=params, initial_state=state_variables)"
   ]
  },
  {
   "cell_type": "markdown",
   "metadata": {},
   "source": [
    "# Post Process Results"
   ]
  },
  {
   "cell_type": "code",
   "execution_count": null,
   "metadata": {
    "lines_to_next_cell": 2
   },
   "outputs": [],
   "source": [
    "from experiments.system_model_v3.post_process import post_process_results"
   ]
  },
  {
   "cell_type": "markdown",
   "metadata": {},
   "source": [
    "Remove substeps, add `set_params` to dataframe, and add post-processing columns:"
   ]
  },
  {
   "cell_type": "code",
   "execution_count": null,
   "metadata": {},
   "outputs": [],
   "source": [
    "df = post_process_results(df_raw, params)"
   ]
  },
  {
   "cell_type": "markdown",
   "metadata": {},
   "source": [
    "# Shock Analysis"
   ]
  },
  {
   "cell_type": "code",
   "execution_count": null,
   "metadata": {},
   "outputs": [],
   "source": [
    "titles = {1: 'Baseline',\n",
    "          2: '30% step',\n",
    "          3: '30% impulse, 6 hours',\n",
    "          4: 'Negative 30% step',\n",
    "          5: 'Negative 30% impulse, 6 hours'\n",
    "         }\n",
    "\n",
    "for i in range(1, 6):\n",
    "    fig = px.line(\n",
    "        df.query(f'subset == 0 &run == {i}')[['timestamp', 'eth_price', 'run']],\n",
    "        title=f\"ETH Price, Run {i}, {titles[i]}\",\n",
    "        x=\"timestamp\",\n",
    "        y=[\"eth_price\"]\n",
    "    )\n",
    "    fig.show()\n",
    "    fig = px.line(\n",
    "        df.query(f'run == {i}'),\n",
    "        title=f\"RAI Price, Run {i}, {titles[i]}\",\n",
    "        x=\"timestamp\",\n",
    "        y=[\"market_price\", \"market_price_twap\", \"target_price\"],\n",
    "        facet_col=\"kp\",\n",
    "        facet_row=\"ki\"\n",
    "    )\n",
    "    # fig.for_each_annotation(lambda a: a.update(text = f\"kp={param_sweep[int(a.text.split('=')[-1])]['kp']} ki={param_sweep[int(a.text.split('=')[-1])]['ki']}\"))\n",
    "    fig.show()\n",
    "    fig = px.line(\n",
    "        df.query(f'run == {i}'),\n",
    "        title=f\"Redemption Rate(APY), Run {i}, {titles[i]}\",\n",
    "        x=\"timestamp\",\n",
    "        y=[\"apy\"],\n",
    "        facet_col=\"kp\",\n",
    "        facet_row=\"ki\"\n",
    "    )\n",
    "    # fig.for_each_annotation(lambda a: a.update(text = f\"kp={param_sweep[int(a.text.split('=')[-1])]['kp']} ki={param_sweep[int(a.text.split('=')[-1])]['ki']}\"))\n",
    "    fig.show()"
   ]
  }
 ],
 "metadata": {
  "jupytext": {
   "cell_metadata_filter": "-all",
   "encoding": "# -*- coding: utf-8 -*-",
   "formats": "ipynb,py:percent"
  },
  "kernelspec": {
   "display_name": "Python 3",
   "language": "python",
   "name": "python3"
  },
  "language_info": {
   "codemirror_mode": {
    "name": "ipython",
    "version": 3
   },
   "file_extension": ".py",
   "mimetype": "text/x-python",
   "name": "python",
   "nbconvert_exporter": "python",
   "pygments_lexer": "ipython3",
   "version": "3.8.5"
  }
 },
 "nbformat": 4,
 "nbformat_minor": 4
}
