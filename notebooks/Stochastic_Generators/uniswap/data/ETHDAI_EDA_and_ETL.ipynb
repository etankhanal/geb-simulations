{
 "cells": [
  {
   "cell_type": "markdown",
   "metadata": {
    "_uuid": "869ba1ebf9baba614dabe45950b6251c8e16505f"
   },
   "source": [
    "# Uniswap ETHDAI Analysis\n",
    "\n",
    "\n",
    "To use, please follow the following tutorial for how to configure big query: https://cloud.google.com/bigquery/docs/quickstarts/quickstart-client-libraries\n",
    "\n",
    "\n",
    "In this notebook, we are illustrating how to query the EthDai Uniswap smart contract and analysis it's data. see [Uniswap_Model.ipynb](Uniswap_Model.ipynb) for a cadCAD model around Uniswap."
   ]
  },
  {
   "cell_type": "code",
   "execution_count": 1,
   "metadata": {
    "_uuid": "20fc9de233adb0789eef9ab7ac4978977beaa0c2"
   },
   "outputs": [
    {
     "data": {
      "text/plain": [
       "{'0x09cabec1ead1c0ba254b09efb3ee13841712be14': 'DAI'}"
      ]
     },
     "execution_count": 1,
     "metadata": {},
     "output_type": "execute_result"
    }
   ],
   "source": [
    "FROM_BLOCK_TIMESTAMP = \"'2018-11-02 00:00:00'\" \n",
    "TO_BLOCK_TIMESTAMP = \"'2019-09-23 23:59:59'\" \n",
    "MY_TIMEOUT = 300\n",
    "\n",
    "# relevant Events signatures\n",
    "events_signatures = {\n",
    "    'TokenPurchase': 'TokenPurchase(address,uint256,uint256)', #event({buyer: indexed(address), eth_sold: indexed(uint256(wei)), tokens_bought: indexed(uint256)})\n",
    "    'EthPurchase': 'EthPurchase(address,uint256,uint256',#,event({buyer: indexed(address), tokens_sold: indexed(uint256), eth_bought: indexed(uint256(wei))})\n",
    "    'AddLiquidity': 'AddLiquidity(address,uint256,uint256)',#,event({provider: indexed(address), eth_amount: indexed(uint256(wei)), token_amount: indexed(uint256)})\n",
    "    'RemoveLiquidity': 'RemoveLiquidity(address,uint256,uint256)',#,event({provider: indexed(address), eth_amount: indexed(uint256(wei)), token_amount: indexed(uint256)})\n",
    "    'Transfer': 'Transfer(address,address,uint256)',#,event({_from: indexed(address), _to: indexed(address), _value: uint256})\n",
    "    'Approval': 'Approval(address,address,uint256)'#,event({_owner: indexed(address), _spender: indexed(address), _value: uint256})\n",
    "}\n",
    "events_hashes = {\n",
    "    'cd60aa75dea3072fbc07ae6d7d856b5dc5f4eee88854f5b4abf7b680ef8bc50f': 'TokenPurchase',\n",
    "    '7f4091b46c33e918a0f3aa42307641d17bb67029427a5369e54b353984238705': 'EthPurchase',\n",
    "    '06239653922ac7bea6aa2b19dc486b9361821d37712eb796adfd38d81de278ca': 'AddLiquidity',\n",
    "    '0fbf06c058b90cb038a618f8c2acbf6145f8b3570fd1fa56abb8f0f3f05b36e8': 'RemoveLiquidity',\n",
    "    'ddf252ad1be2c89b69c2b068fc378daa952ba7f163c4a11628f55a4df523b3ef': 'Transfer',\n",
    "    '8c5be1e5ebec7d5bd14f71427d1e84f3dd0314c0f7b2291e5b200ac8c7c3b925': 'Approval'\n",
    "}\n",
    "contracts = {\n",
    "    '0x09cabEC1eAd1c0Ba254B09efb3EE13841712bE14'.lower(): 'DAI'\n",
    "}\n",
    "contracts"
   ]
  },
  {
   "cell_type": "code",
   "execution_count": 2,
   "metadata": {
    "_uuid": "5a5b909fdfec539bc9b7095d9ba6104236b59944"
   },
   "outputs": [
    {
     "ename": "ModuleNotFoundError",
     "evalue": "No module named 'google.cloud'",
     "output_type": "error",
     "traceback": [
      "\u001b[0;31m---------------------------------------------------------------------------\u001b[0m",
      "\u001b[0;31mModuleNotFoundError\u001b[0m                       Traceback (most recent call last)",
      "\u001b[0;32m<ipython-input-2-b15d90ee2d8b>\u001b[0m in \u001b[0;36m<module>\u001b[0;34m\u001b[0m\n\u001b[0;32m----> 1\u001b[0;31m \u001b[0;32mfrom\u001b[0m \u001b[0mgoogle\u001b[0m\u001b[0;34m.\u001b[0m\u001b[0mcloud\u001b[0m \u001b[0;32mimport\u001b[0m \u001b[0mbigquery\u001b[0m\u001b[0;34m\u001b[0m\u001b[0;34m\u001b[0m\u001b[0m\n\u001b[0m\u001b[1;32m      2\u001b[0m \u001b[0;32mimport\u001b[0m \u001b[0mpandas\u001b[0m \u001b[0;32mas\u001b[0m \u001b[0mpd\u001b[0m\u001b[0;34m\u001b[0m\u001b[0;34m\u001b[0m\u001b[0m\n\u001b[1;32m      3\u001b[0m \u001b[0;32mimport\u001b[0m \u001b[0mmatplotlib\u001b[0m\u001b[0;34m.\u001b[0m\u001b[0mpyplot\u001b[0m \u001b[0;32mas\u001b[0m \u001b[0mplt\u001b[0m\u001b[0;34m\u001b[0m\u001b[0;34m\u001b[0m\u001b[0m\n\u001b[1;32m      4\u001b[0m \u001b[0mget_ipython\u001b[0m\u001b[0;34m(\u001b[0m\u001b[0;34m)\u001b[0m\u001b[0;34m.\u001b[0m\u001b[0mrun_line_magic\u001b[0m\u001b[0;34m(\u001b[0m\u001b[0;34m'matplotlib'\u001b[0m\u001b[0;34m,\u001b[0m \u001b[0;34m'inline'\u001b[0m\u001b[0;34m)\u001b[0m\u001b[0;34m\u001b[0m\u001b[0;34m\u001b[0m\u001b[0m\n\u001b[1;32m      5\u001b[0m \u001b[0mpd\u001b[0m\u001b[0;34m.\u001b[0m\u001b[0mset_option\u001b[0m\u001b[0;34m(\u001b[0m\u001b[0;34m'max_colwidth'\u001b[0m\u001b[0;34m,\u001b[0m \u001b[0;36m70\u001b[0m\u001b[0;34m)\u001b[0m\u001b[0;34m\u001b[0m\u001b[0;34m\u001b[0m\u001b[0m\n",
      "\u001b[0;31mModuleNotFoundError\u001b[0m: No module named 'google.cloud'"
     ]
    }
   ],
   "source": [
    "from google.cloud import bigquery\n",
    "import pandas as pd\n",
    "import matplotlib.pyplot as plt\n",
    "%matplotlib inline\n",
    "pd.set_option('max_colwidth', 70)"
   ]
  },
  {
   "cell_type": "code",
   "execution_count": null,
   "metadata": {
    "_uuid": "92f57554e4f29610c1a11b828d0024c3a73dfe37"
   },
   "outputs": [],
   "source": [
    "client = bigquery.Client()\n",
    "query = \"\"\"\n",
    "SELECT \n",
    "  events.transaction_hash AS transactionHash,\n",
    "  events.transaction_index,\n",
    "  txns.from_address AS transaction_sender, \n",
    "  events.address,\n",
    "  events.data,\n",
    "  events.topics,\n",
    "  events.block_timestamp,\n",
    "  events.block_number AS blockNumber_dec\n",
    "FROM\n",
    "  `bigquery-public-data.ethereum_blockchain.logs` AS events\n",
    "INNER JOIN\n",
    "  `bigquery-public-data.ethereum_blockchain.transactions` AS txns\n",
    "ON\n",
    "  events.transaction_hash = txns.hash\n",
    "WHERE TRUE\n",
    "  AND events.block_timestamp >= {from_block_ts} \n",
    "  AND events.block_timestamp <= {to_block_ts}\n",
    "  AND txns.block_timestamp >= {from_block_ts} --might seem redundant, but because of partitioning this reduces cost\n",
    "  AND txns.block_timestamp <= {to_block_ts} --might seem redundant, but because of partitioning this reduces cost\n",
    "  AND events.address IN ({contract_list})\n",
    "\"\"\".format(\n",
    "    from_block_ts=FROM_BLOCK_TIMESTAMP, \n",
    "    to_block_ts=TO_BLOCK_TIMESTAMP, \n",
    "    contract_list=(','.join([\"'{}'\".format(k) for k in list(contracts.keys())])))\n",
    "\n",
    "query_job = client.query(query)\n",
    "iterator = query_job.result(timeout=MY_TIMEOUT)\n",
    "rows = list(iterator)\n",
    "events = pd.DataFrame(data=[list(x.values()) for x in rows], columns=list(rows[0].keys()))\n",
    "events['contract'] = events['address'].apply(lambda x: contracts[x])\n",
    "events['event'] = events['topics'].apply(lambda x: events_hashes[x[0][2:]])\n",
    "events = events.sort_values(['blockNumber_dec','transaction_index']).reset_index(drop=True)\n",
    "events.head(10)"
   ]
  },
  {
   "cell_type": "code",
   "execution_count": null,
   "metadata": {
    "_uuid": "3648cd60386e47df2a4ac84cdbacbde6ee40e737"
   },
   "outputs": [],
   "source": [
    "print('Block range: ' + str(events.blockNumber_dec.min()) + ' to ' + str(events.blockNumber_dec.max()))"
   ]
  },
  {
   "cell_type": "code",
   "execution_count": null,
   "metadata": {
    "_uuid": "57539389d5d4910f860a72a161cf576ced58f983"
   },
   "outputs": [],
   "source": [
    "events.groupby(['contract','event']).transactionHash.count()"
   ]
  },
  {
   "cell_type": "markdown",
   "metadata": {
    "_uuid": "7ff6b391ff4e30ffc63c4343c7f5828de9963028"
   },
   "source": [
    "^ As expected, most events refer to trades (EthPurchase and TokenPurchase)"
   ]
  },
  {
   "cell_type": "code",
   "execution_count": null,
   "metadata": {
    "_uuid": "d9431ad49c1beeac596699308fb999a372b95593"
   },
   "outputs": [],
   "source": [
    "event_counts = events.groupby(['contract','event']).transactionHash.count()\n",
    "event_counts.sort_values().plot(kind='barh', figsize=(8, 6))"
   ]
  },
  {
   "cell_type": "code",
   "execution_count": null,
   "metadata": {
    "_uuid": "ea4ca6f2d48d4ab5de5d3297f55d0149cebaf03d"
   },
   "outputs": [],
   "source": [
    "event_counts_df = event_counts.reset_index()\n",
    "event_counts_df.columns = ['contract', 'event', 'count']\n",
    "event_counts_df"
   ]
  },
  {
   "cell_type": "code",
   "execution_count": null,
   "metadata": {
    "_uuid": "2c7d8eefbcd66870a2ea6d9f8b1bc8f838bf6683"
   },
   "outputs": [],
   "source": [
    "events['contract_event'] = events['contract'] + events['event']\n",
    "events['block_group'] = events['blockNumber_dec'].apply(lambda x: int(x/10000))"
   ]
  },
  {
   "cell_type": "code",
   "execution_count": null,
   "metadata": {
    "_uuid": "44aa78d388da6ab62b7713f5d2a87b033fdf59ac"
   },
   "outputs": [],
   "source": [
    "areaplot = events.groupby(['block_group','contract_event']).transactionHash.count().reset_index().pivot(index='block_group', columns='contract_event', values='transactionHash')#.plot.area()\n",
    "areaplot.plot.area()\n",
    "plt.legend(loc=1)"
   ]
  },
  {
   "cell_type": "code",
   "execution_count": null,
   "metadata": {
    "_uuid": "03ce83d90d6e08c8e0b13188882a86a496ff1bac"
   },
   "outputs": [],
   "source": [
    "areaplot.divide(areaplot.sum(axis=1), axis=0).plot.area(figsize=(16, 9))\n",
    "plt.legend(loc=1)"
   ]
  },
  {
   "cell_type": "markdown",
   "metadata": {},
   "source": [
    "Remove Transfers and Approvals, as we won't need them going further"
   ]
  },
  {
   "cell_type": "code",
   "execution_count": null,
   "metadata": {},
   "outputs": [],
   "source": [
    "# events = events[~events.event.isin(['Transfer','Approval'])]\n",
    "# events = events.drop('data', axis='columns')"
   ]
  },
  {
   "cell_type": "code",
   "execution_count": null,
   "metadata": {},
   "outputs": [],
   "source": [
    "events['agent'] = '0x' + events['topics'].apply(lambda x: x[1][26:66])"
   ]
  },
  {
   "cell_type": "code",
   "execution_count": null,
   "metadata": {},
   "outputs": [],
   "source": [
    "def getEthDeltaFromTopics(topics):\n",
    "    event_hash = topics[0][2:]\n",
    "    if events_hashes[event_hash] == 'TokenPurchase':\n",
    "        return int(topics[2],16)\n",
    "    if events_hashes[event_hash] == 'EthPurchase':\n",
    "        return -int(topics[3],16)\n",
    "    if events_hashes[event_hash] == 'AddLiquidity':\n",
    "        return int(topics[2],16)\n",
    "    if events_hashes[event_hash] == 'RemoveLiquidity':\n",
    "        return -int(topics[2],16)\n",
    "    return 0\n",
    "    \n",
    "def getTokenDeltaFromTopics(topics):\n",
    "    event_hash = topics[0][2:]\n",
    "    if events_hashes[event_hash] == 'TokenPurchase':\n",
    "        return -int(topics[3],16)\n",
    "    if events_hashes[event_hash] == 'EthPurchase':\n",
    "        return int(topics[2],16)\n",
    "    if events_hashes[event_hash] == 'AddLiquidity':\n",
    "        return int(topics[3],16)\n",
    "    if events_hashes[event_hash] == 'RemoveLiquidity':\n",
    "        return -int(topics[3],16)\n",
    "    return 0\n",
    "    \n",
    "def getUNIDeltaFromTopics(topics):\n",
    "    event_hash = topics[0][2:]\n",
    "    if events_hashes[event_hash] == 'Transfer':\n",
    "        if topics[1] == '0x0000000000000000000000000000000000000000000000000000000000000000':\n",
    "            return 1\n",
    "        if topics[2] == '0x0000000000000000000000000000000000000000000000000000000000000000':\n",
    "            return -1\n",
    "    return 0\n",
    "    \n",
    "def getTradingVolumeFromTopics(topics):\n",
    "    event_hash = topics[0][2:]\n",
    "    if events_hashes[event_hash] == 'TokenPurchase':\n",
    "        return int(topics[2],16)\n",
    "    if events_hashes[event_hash] == 'EthPurchase':\n",
    "        return int(topics[3],16)\n",
    "    return 0\n",
    "    \n",
    "events['eth_delta'] = events['topics'].apply(getEthDeltaFromTopics)\n",
    "events['token_delta'] = events['topics'].apply(getTokenDeltaFromTopics)\n",
    "\n",
    "events['uni_delta'] = events['data'].apply(lambda x: 0 if x == '0x' else int(x,16))\n",
    "events['uni_delta'] = events['uni_delta'] * events['topics'].apply(getUNIDeltaFromTopics)\n",
    "\n",
    "events['eth_balance'] = events['eth_delta'].cumsum()\n",
    "events['token_balance'] = events['token_delta'].cumsum()\n",
    "events['UNI_supply'] = events['uni_delta'].cumsum()\n",
    "events['invariant'] = events['eth_balance']*events['token_balance']\n",
    "events.to_pickle('uniswap_events.pickle')\n",
    "events.head()"
   ]
  },
  {
   "cell_type": "code",
   "execution_count": null,
   "metadata": {},
   "outputs": [],
   "source": [
    "trades = events[events.event.isin(['TokenPurchase','EthPurchase'])].copy()\n",
    "trades['trading_volume'] = abs(trades['eth_delta'])"
   ]
  },
  {
   "cell_type": "code",
   "execution_count": null,
   "metadata": {},
   "outputs": [],
   "source": [
    "trades.groupby(['agent']).size().to_frame().rename(columns={0:'n_trades'}).hist(bins=300)"
   ]
  },
  {
   "cell_type": "code",
   "execution_count": null,
   "metadata": {},
   "outputs": [],
   "source": [
    "trades = trades.join(trades.groupby(['agent']).size().to_frame().rename(columns={0:'n_trades'}), on='agent')"
   ]
  },
  {
   "cell_type": "code",
   "execution_count": null,
   "metadata": {},
   "outputs": [],
   "source": [
    "volume_frequency = trades.groupby(['n_trades']).trading_volume.sum()#.sort_values(ascending=False)\n",
    "volume_frequency = volume_frequency.reset_index()\n",
    "volume_frequency['trading_volume'] = volume_frequency['trading_volume'].astype(float)\n",
    "volume_frequency.plot.scatter(x='n_trades', y='trading_volume')"
   ]
  },
  {
   "cell_type": "code",
   "execution_count": null,
   "metadata": {
    "_uuid": "a070cad2907f2a322ffd6299c2e92f5040cedf19"
   },
   "outputs": [],
   "source": [
    "topVolTraders = trades.groupby(['agent']).trading_volume.sum().sort_values(ascending=False)\n",
    "topVolTraders = set(topVolTraders.head(20).index.values)"
   ]
  },
  {
   "cell_type": "code",
   "execution_count": null,
   "metadata": {
    "_uuid": "f3e17c4639779ec71c1954d0590a6c791ca2d8db"
   },
   "outputs": [],
   "source": [
    "trades['agent_class_vol'] = trades['agent'].apply(lambda x: '1- Top Volume Trader' \\\n",
    "                                                if x in topVolTraders \\\n",
    "                                                else '2- Other')\n",
    "trades['agent_class_freq'] = trades['n_trades'].apply(lambda x: '1- 200+' \\\n",
    "                                                if x>=200 \\\n",
    "                                                else '2- 10-199' if x>=10 \\\n",
    "                                                else '3- <10')"
   ]
  },
  {
   "cell_type": "code",
   "execution_count": null,
   "metadata": {},
   "outputs": [],
   "source": [
    "areaplot = trades.groupby(['block_group','agent_class_vol']).trading_volume.sum().reset_index().pivot(index='block_group', columns='agent_class_vol', values='trading_volume')\n",
    "areaplot.divide(areaplot.sum(axis=1), axis=0).plot.area(figsize=(16, 9))\n",
    "plt.legend(loc=1)"
   ]
  },
  {
   "cell_type": "code",
   "execution_count": null,
   "metadata": {},
   "outputs": [],
   "source": [
    "areaplot = trades.groupby(['block_group','agent_class_freq']).trading_volume.sum().reset_index().pivot(index='block_group', columns='agent_class_freq', values='trading_volume')\n",
    "areaplot.divide(areaplot.sum(axis=1), axis=0).plot.area(figsize=(16, 9))\n",
    "plt.legend(loc=1)"
   ]
  },
  {
   "cell_type": "code",
   "execution_count": null,
   "metadata": {},
   "outputs": [],
   "source": [
    "trades['isRound'] = (((trades['eth_delta']%1e15)==0) | ((trades['token_delta']%1e15)==0))\n",
    "trades['isRound'] = trades['isRound'].apply(lambda x: 'Round Trade' if x else 'Not Round')"
   ]
  },
  {
   "cell_type": "code",
   "execution_count": null,
   "metadata": {},
   "outputs": [],
   "source": [
    "areaplot = trades.groupby(['block_group','isRound']).trading_volume.sum().reset_index().pivot(index='block_group', columns='isRound', values='trading_volume')\n",
    "areaplot.divide(areaplot.sum(axis=1), axis=0).plot.area(figsize=(16, 9))\n",
    "plt.legend(loc=1)"
   ]
  },
  {
   "cell_type": "code",
   "execution_count": null,
   "metadata": {},
   "outputs": [],
   "source": [
    "trades['isDirect'] = trades['transaction_sender']==trades['agent']\n",
    "trades['isDirect'] = trades['isDirect'].apply(lambda x: '2- Traded directly' if x else '1- Traded via proxy')"
   ]
  },
  {
   "cell_type": "code",
   "execution_count": null,
   "metadata": {},
   "outputs": [],
   "source": [
    "areaplot = trades.groupby(['block_group','isDirect']).trading_volume.sum().reset_index().pivot(index='block_group', columns='isDirect', values='trading_volume')\n",
    "areaplot.divide(areaplot.sum(axis=1), axis=0).plot.area(figsize=(16, 9))\n",
    "plt.legend(loc=1)"
   ]
  },
  {
   "cell_type": "markdown",
   "metadata": {},
   "source": [
    "## Conclusion"
   ]
  }
 ],
 "metadata": {
  "kernelspec": {
   "display_name": "Python 3",
   "language": "python",
   "name": "python3"
  },
  "language_info": {
   "codemirror_mode": {
    "name": "ipython",
    "version": 3
   },
   "file_extension": ".py",
   "mimetype": "text/x-python",
   "name": "python",
   "nbconvert_exporter": "python",
   "pygments_lexer": "ipython3",
   "version": "3.8.5"
  }
 },
 "nbformat": 4,
 "nbformat_minor": 4
}
