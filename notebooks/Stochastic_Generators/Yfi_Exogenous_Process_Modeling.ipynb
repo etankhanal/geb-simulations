{
 "cells": [
  {
   "cell_type": "markdown",
   "metadata": {},
   "source": [
    "# Exogenous Process modeling \n",
    "\n",
    "## YFI price stochastic process\n",
    "\n",
    "1. Acquire hourly YFI/ETH and ETH/DAI data from Sushiswap.\n",
    "\n",
    "'https://api.thegraph.com/subgraphs/name/sushiswap/exchange'\n",
    "\n",
    "```\n",
    "\n",
    "query {\n",
    "  yfi_eth: pair(id: \"0x088ee5007c98a9677165d78dd2109ae4a3d04d0c\") {\n",
    "     hourData(first: 1000, where: {date_gte: 1599678000}, orderBy: date, orderDirection: asc) {\n",
    "      date \n",
    "      reserve0\n",
    "      reserve1\n",
    "    }\n",
    "  }\n",
    "  eth_dai: pair(id: \"0xc3d03e4f041fd4cd388c549ee2a29a9e5075882f\") {\n",
    "     hourData(first: 1000, where: {date_gte: 1599678000}, orderBy: date, orderDirection: asc) {\n",
    "      date\n",
    "      reserve0\n",
    "      reserve1\n",
    "    }\n",
    "  }\n",
    " }\n",
    "\n",
    "\n",
    "\n",
    " \n",
    "```\n",
    "\n",
    "2. Fit a parametric distribution to the price of YFI, gamma + Kalman fit (prediction) resulting in a distribution $F^p_{YFI}(t; \\mu_{YFI})$ and fitted parameters $\\mu_{YFI}$.\n"
   ]
  },
  {
   "cell_type": "code",
   "execution_count": 2,
   "metadata": {},
   "outputs": [],
   "source": [
    "# import libraries\n",
    "import pandas as pd\n",
    "import numpy as np\n",
    "from scipy.stats import gamma\n",
    "from sklearn.metrics import mean_squared_error\n",
    "import matplotlib.pyplot as plt\n",
    "from math import sqrt\n",
    "import json\n",
    "\n",
    "%matplotlib inline"
   ]
  },
  {
   "cell_type": "markdown",
   "metadata": {},
   "source": [
    "## Data preprocessing"
   ]
  },
  {
   "cell_type": "code",
   "execution_count": 18,
   "metadata": {},
   "outputs": [
    {
     "data": {
      "text/html": [
       "<div>\n",
       "<style scoped>\n",
       "    .dataframe tbody tr th:only-of-type {\n",
       "        vertical-align: middle;\n",
       "    }\n",
       "\n",
       "    .dataframe tbody tr th {\n",
       "        vertical-align: top;\n",
       "    }\n",
       "\n",
       "    .dataframe thead th {\n",
       "        text-align: right;\n",
       "    }\n",
       "</style>\n",
       "<table border=\"1\" class=\"dataframe\">\n",
       "  <thead>\n",
       "    <tr style=\"text-align: right;\">\n",
       "      <th></th>\n",
       "      <th>date</th>\n",
       "      <th>reserve0_yfi_eth</th>\n",
       "      <th>reserve1_yfi_eth</th>\n",
       "      <th>price_yfi_eth</th>\n",
       "      <th>reserve0_eth_dai</th>\n",
       "      <th>reserve1_eth_dai</th>\n",
       "      <th>price_eth_dai</th>\n",
       "      <th>price_yfi_dai</th>\n",
       "    </tr>\n",
       "  </thead>\n",
       "  <tbody>\n",
       "    <tr>\n",
       "      <th>0</th>\n",
       "      <td>1599678000</td>\n",
       "      <td>2009.596458072390846029</td>\n",
       "      <td>155227.453385001762285429</td>\n",
       "      <td>77.243097</td>\n",
       "      <td>51761051.122107124992252392</td>\n",
       "      <td>147612.453840634273522047</td>\n",
       "      <td>350.655041</td>\n",
       "      <td>27085.681249</td>\n",
       "    </tr>\n",
       "    <tr>\n",
       "      <th>1</th>\n",
       "      <td>1599681600</td>\n",
       "      <td>2126.414712120784814386</td>\n",
       "      <td>164127.048609080393787933</td>\n",
       "      <td>77.184873</td>\n",
       "      <td>51979357.869295276055049274</td>\n",
       "      <td>149446.8797774439759661</td>\n",
       "      <td>347.811597</td>\n",
       "      <td>26845.793769</td>\n",
       "    </tr>\n",
       "    <tr>\n",
       "      <th>2</th>\n",
       "      <td>1599685200</td>\n",
       "      <td>2371.030724186724082673</td>\n",
       "      <td>181694.616061049541782353</td>\n",
       "      <td>76.631068</td>\n",
       "      <td>52392118.822639665423189873</td>\n",
       "      <td>152819.239441470575581596</td>\n",
       "      <td>342.837191</td>\n",
       "      <td>26271.980031</td>\n",
       "    </tr>\n",
       "    <tr>\n",
       "      <th>3</th>\n",
       "      <td>1599688800</td>\n",
       "      <td>2427.315319203883993562</td>\n",
       "      <td>189874.916526584011239062</td>\n",
       "      <td>78.224248</td>\n",
       "      <td>63721709.870607815045627935</td>\n",
       "      <td>185764.143027318151258215</td>\n",
       "      <td>343.024810</td>\n",
       "      <td>26832.857954</td>\n",
       "    </tr>\n",
       "    <tr>\n",
       "      <th>4</th>\n",
       "      <td>1599692400</td>\n",
       "      <td>2444.47405231384136094</td>\n",
       "      <td>192041.745357897455805235</td>\n",
       "      <td>78.561581</td>\n",
       "      <td>64326380.437497150088600106</td>\n",
       "      <td>187669.657715376796451079</td>\n",
       "      <td>342.763882</td>\n",
       "      <td>26928.072363</td>\n",
       "    </tr>\n",
       "    <tr>\n",
       "      <th>...</th>\n",
       "      <td>...</td>\n",
       "      <td>...</td>\n",
       "      <td>...</td>\n",
       "      <td>...</td>\n",
       "      <td>...</td>\n",
       "      <td>...</td>\n",
       "      <td>...</td>\n",
       "      <td>...</td>\n",
       "    </tr>\n",
       "    <tr>\n",
       "      <th>989</th>\n",
       "      <td>1603263600</td>\n",
       "      <td>941.506546876698584942</td>\n",
       "      <td>33477.126912016925911554</td>\n",
       "      <td>35.556977</td>\n",
       "      <td>23369412.719267036162953092</td>\n",
       "      <td>62074.349319292496832639</td>\n",
       "      <td>376.474550</td>\n",
       "      <td>13386.297023</td>\n",
       "    </tr>\n",
       "    <tr>\n",
       "      <th>990</th>\n",
       "      <td>1603267200</td>\n",
       "      <td>941.816546876698584942</td>\n",
       "      <td>33464.836689720321768577</td>\n",
       "      <td>35.532224</td>\n",
       "      <td>23337782.01892090521329163</td>\n",
       "      <td>62158.810155890475406643</td>\n",
       "      <td>375.454130</td>\n",
       "      <td>13340.720337</td>\n",
       "    </tr>\n",
       "    <tr>\n",
       "      <th>991</th>\n",
       "      <td>1603270800</td>\n",
       "      <td>940.897915193145141944</td>\n",
       "      <td>33497.806839720321764481</td>\n",
       "      <td>35.601957</td>\n",
       "      <td>23322959.585366136253212424</td>\n",
       "      <td>62198.47790090085781882</td>\n",
       "      <td>374.976372</td>\n",
       "      <td>13349.892560</td>\n",
       "    </tr>\n",
       "    <tr>\n",
       "      <th>992</th>\n",
       "      <td>1603274400</td>\n",
       "      <td>941.784117342677572395</td>\n",
       "      <td>33466.421731113531558376</td>\n",
       "      <td>35.535131</td>\n",
       "      <td>23357265.129598553348639047</td>\n",
       "      <td>62107.399031378071531723</td>\n",
       "      <td>376.078623</td>\n",
       "      <td>13364.003047</td>\n",
       "    </tr>\n",
       "    <tr>\n",
       "      <th>993</th>\n",
       "      <td>1603278000</td>\n",
       "      <td>942.345793436834170244</td>\n",
       "      <td>33447.393638801763133677</td>\n",
       "      <td>35.493758</td>\n",
       "      <td>23375235.787435668689443318</td>\n",
       "      <td>62059.996430463562771999</td>\n",
       "      <td>376.655448</td>\n",
       "      <td>13368.917375</td>\n",
       "    </tr>\n",
       "  </tbody>\n",
       "</table>\n",
       "<p>994 rows × 8 columns</p>\n",
       "</div>"
      ],
      "text/plain": [
       "           date         reserve0_yfi_eth           reserve1_yfi_eth  \\\n",
       "0    1599678000  2009.596458072390846029  155227.453385001762285429   \n",
       "1    1599681600  2126.414712120784814386  164127.048609080393787933   \n",
       "2    1599685200  2371.030724186724082673  181694.616061049541782353   \n",
       "3    1599688800  2427.315319203883993562  189874.916526584011239062   \n",
       "4    1599692400   2444.47405231384136094  192041.745357897455805235   \n",
       "..          ...                      ...                        ...   \n",
       "989  1603263600   941.506546876698584942   33477.126912016925911554   \n",
       "990  1603267200   941.816546876698584942   33464.836689720321768577   \n",
       "991  1603270800   940.897915193145141944   33497.806839720321764481   \n",
       "992  1603274400   941.784117342677572395   33466.421731113531558376   \n",
       "993  1603278000   942.345793436834170244   33447.393638801763133677   \n",
       "\n",
       "     price_yfi_eth             reserve0_eth_dai           reserve1_eth_dai  \\\n",
       "0        77.243097  51761051.122107124992252392  147612.453840634273522047   \n",
       "1        77.184873  51979357.869295276055049274    149446.8797774439759661   \n",
       "2        76.631068  52392118.822639665423189873  152819.239441470575581596   \n",
       "3        78.224248  63721709.870607815045627935  185764.143027318151258215   \n",
       "4        78.561581  64326380.437497150088600106  187669.657715376796451079   \n",
       "..             ...                          ...                        ...   \n",
       "989      35.556977  23369412.719267036162953092   62074.349319292496832639   \n",
       "990      35.532224   23337782.01892090521329163   62158.810155890475406643   \n",
       "991      35.601957  23322959.585366136253212424    62198.47790090085781882   \n",
       "992      35.535131  23357265.129598553348639047   62107.399031378071531723   \n",
       "993      35.493758  23375235.787435668689443318   62059.996430463562771999   \n",
       "\n",
       "     price_eth_dai  price_yfi_dai  \n",
       "0       350.655041   27085.681249  \n",
       "1       347.811597   26845.793769  \n",
       "2       342.837191   26271.980031  \n",
       "3       343.024810   26832.857954  \n",
       "4       342.763882   26928.072363  \n",
       "..             ...            ...  \n",
       "989     376.474550   13386.297023  \n",
       "990     375.454130   13340.720337  \n",
       "991     374.976372   13349.892560  \n",
       "992     376.078623   13364.003047  \n",
       "993     376.655448   13368.917375  \n",
       "\n",
       "[994 rows x 8 columns]"
      ]
     },
     "execution_count": 18,
     "metadata": {},
     "output_type": "execute_result"
    }
   ],
   "source": [
    "# import raw GraphQL results\n",
    "\n",
    "# prepare YFI/ETH price \n",
    "historical_yfi_eth_hourly_json = pd.json_normalize(pd.read_json('data/sushi_yfi_eth_dai_hourly.json')['data']['yfi_eth']['hourData'])\n",
    "historical_yfi_eth_hourly_json['price'] =  pd.to_numeric(historical_yfi_eth_hourly_json['reserve1']) / pd.to_numeric(historical_yfi_eth_hourly_json['reserve0'])\n",
    "\n",
    "# prepare ETH/DAI price\n",
    "historical_eth_dai_hourly_json =  pd.json_normalize(pd.read_json('data/sushi_yfi_eth_dai_hourly.json')['data']['eth_dai']['hourData'])\n",
    "historical_eth_dai_hourly_json['price'] =  pd.to_numeric(historical_eth_dai_hourly_json['reserve0']) / pd.to_numeric(historical_eth_dai_hourly_json['reserve1'])\n",
    "\n",
    "# merge on date and suffix the prices \n",
    "historical_yfi_dai_hourly = historical_yfi_eth_hourly_json.merge(historical_eth_dai_hourly_json, on='date', suffixes=('_yfi_eth', '_eth_dai'))\n",
    "# multiply YFI/ETH * ETH/DAI to get YFI/DAI\n",
    "historical_yfi_dai_hourly['price_yfi_dai'] = historical_yfi_dai_hourly['price_yfi_eth'] * historical_yfi_dai_hourly['price_eth_dai']\n",
    "# double check\n",
    "historical_yfi_dai_hourly"
   ]
  },
  {
   "cell_type": "code",
   "execution_count": 27,
   "metadata": {},
   "outputs": [],
   "source": [
    "historical_yfi_dai_hourly['Date'] = pd.to_datetime(historical_yfi_dai_hourly['date'], unit='s')\n",
    "historical_yfi_dai_hourly['price'] = historical_yfi_dai_hourly['price_yfi_dai']\n",
    "#historical_yfi_dai_hourly = historical_yfi_dai_hourly[historical_yfi_dai_hourly['Date']>'2017-01-01']"
   ]
  },
  {
   "cell_type": "code",
   "execution_count": 28,
   "metadata": {},
   "outputs": [],
   "source": [
    "# sort by date from earliest to latest\n",
    "sorted_historical_yfi_dai_hourly = historical_yfi_dai_hourly.sort_values(by='Date')"
   ]
  },
  {
   "cell_type": "code",
   "execution_count": 29,
   "metadata": {},
   "outputs": [],
   "source": [
    "# split into training and test data. \n",
    "train, test= np.split(sorted_historical_yfi_dai_hourly, [int(.9 *len(sorted_historical_yfi_dai_hourly))])"
   ]
  },
  {
   "cell_type": "code",
   "execution_count": 30,
   "metadata": {},
   "outputs": [
    {
     "data": {
      "text/html": [
       "<div>\n",
       "<style scoped>\n",
       "    .dataframe tbody tr th:only-of-type {\n",
       "        vertical-align: middle;\n",
       "    }\n",
       "\n",
       "    .dataframe tbody tr th {\n",
       "        vertical-align: top;\n",
       "    }\n",
       "\n",
       "    .dataframe thead th {\n",
       "        text-align: right;\n",
       "    }\n",
       "</style>\n",
       "<table border=\"1\" class=\"dataframe\">\n",
       "  <thead>\n",
       "    <tr style=\"text-align: right;\">\n",
       "      <th></th>\n",
       "      <th>date</th>\n",
       "      <th>reserve0_yfi_eth</th>\n",
       "      <th>reserve1_yfi_eth</th>\n",
       "      <th>price_yfi_eth</th>\n",
       "      <th>reserve0_eth_dai</th>\n",
       "      <th>reserve1_eth_dai</th>\n",
       "      <th>price_eth_dai</th>\n",
       "      <th>price_yfi_dai</th>\n",
       "      <th>Date</th>\n",
       "      <th>price</th>\n",
       "    </tr>\n",
       "  </thead>\n",
       "  <tbody>\n",
       "    <tr>\n",
       "      <th>889</th>\n",
       "      <td>1602889200</td>\n",
       "      <td>1002.821710680238911522</td>\n",
       "      <td>36969.212592285752591624</td>\n",
       "      <td>36.865190</td>\n",
       "      <td>23059843.194587518616740656</td>\n",
       "      <td>63554.442101697926213116</td>\n",
       "      <td>362.836057</td>\n",
       "      <td>13376.020079</td>\n",
       "      <td>2020-10-16 23:00:00</td>\n",
       "      <td>13376.020079</td>\n",
       "    </tr>\n",
       "    <tr>\n",
       "      <th>890</th>\n",
       "      <td>1602892800</td>\n",
       "      <td>1006.513459004386117533</td>\n",
       "      <td>36838.312378962268679478</td>\n",
       "      <td>36.599920</td>\n",
       "      <td>23033014.635105854345873205</td>\n",
       "      <td>63628.694748654732446763</td>\n",
       "      <td>361.990997</td>\n",
       "      <td>13248.841630</td>\n",
       "      <td>2020-10-17 00:00:00</td>\n",
       "      <td>13248.841630</td>\n",
       "    </tr>\n",
       "    <tr>\n",
       "      <th>891</th>\n",
       "      <td>1602896400</td>\n",
       "      <td>997.376404928916597123</td>\n",
       "      <td>37093.883802815104406788</td>\n",
       "      <td>37.191459</td>\n",
       "      <td>23089919.854101115142473237</td>\n",
       "      <td>63472.351218614552690305</td>\n",
       "      <td>363.779180</td>\n",
       "      <td>13529.478491</td>\n",
       "      <td>2020-10-17 01:00:00</td>\n",
       "      <td>13529.478491</td>\n",
       "    </tr>\n",
       "    <tr>\n",
       "      <th>892</th>\n",
       "      <td>1602900000</td>\n",
       "      <td>995.311016517948943094</td>\n",
       "      <td>36916.845933241651893186</td>\n",
       "      <td>37.090764</td>\n",
       "      <td>23104773.593845212988691012</td>\n",
       "      <td>63431.670488796739957005</td>\n",
       "      <td>364.246652</td>\n",
       "      <td>13510.186568</td>\n",
       "      <td>2020-10-17 02:00:00</td>\n",
       "      <td>13510.186568</td>\n",
       "    </tr>\n",
       "    <tr>\n",
       "      <th>893</th>\n",
       "      <td>1602903600</td>\n",
       "      <td>989.137813097835617133</td>\n",
       "      <td>37147.93885464484881148</td>\n",
       "      <td>37.555878</td>\n",
       "      <td>23100190.695268624970198806</td>\n",
       "      <td>63444.292708886867624135</td>\n",
       "      <td>364.101950</td>\n",
       "      <td>13674.168350</td>\n",
       "      <td>2020-10-17 03:00:00</td>\n",
       "      <td>13674.168350</td>\n",
       "    </tr>\n",
       "  </tbody>\n",
       "</table>\n",
       "</div>"
      ],
      "text/plain": [
       "           date         reserve0_yfi_eth          reserve1_yfi_eth  \\\n",
       "889  1602889200  1002.821710680238911522  36969.212592285752591624   \n",
       "890  1602892800  1006.513459004386117533  36838.312378962268679478   \n",
       "891  1602896400   997.376404928916597123  37093.883802815104406788   \n",
       "892  1602900000   995.311016517948943094  36916.845933241651893186   \n",
       "893  1602903600   989.137813097835617133   37147.93885464484881148   \n",
       "\n",
       "     price_yfi_eth             reserve0_eth_dai          reserve1_eth_dai  \\\n",
       "889      36.865190  23059843.194587518616740656  63554.442101697926213116   \n",
       "890      36.599920  23033014.635105854345873205  63628.694748654732446763   \n",
       "891      37.191459  23089919.854101115142473237  63472.351218614552690305   \n",
       "892      37.090764  23104773.593845212988691012  63431.670488796739957005   \n",
       "893      37.555878  23100190.695268624970198806  63444.292708886867624135   \n",
       "\n",
       "     price_eth_dai  price_yfi_dai                Date         price  \n",
       "889     362.836057   13376.020079 2020-10-16 23:00:00  13376.020079  \n",
       "890     361.990997   13248.841630 2020-10-17 00:00:00  13248.841630  \n",
       "891     363.779180   13529.478491 2020-10-17 01:00:00  13529.478491  \n",
       "892     364.246652   13510.186568 2020-10-17 02:00:00  13510.186568  \n",
       "893     364.101950   13674.168350 2020-10-17 03:00:00  13674.168350  "
      ]
     },
     "execution_count": 30,
     "metadata": {},
     "output_type": "execute_result"
    }
   ],
   "source": [
    "train.tail()"
   ]
  },
  {
   "cell_type": "code",
   "execution_count": 31,
   "metadata": {},
   "outputs": [
    {
     "data": {
      "text/plain": [
       "<AxesSubplot:title={'center':'YFI/DAI Hourly data'}, xlabel='Date'>"
      ]
     },
     "execution_count": 31,
     "metadata": {},
     "output_type": "execute_result"
    },
    {
     "data": {
      "image/png": "[encoded data removed]",
      "text/plain": [
       "<Figure size 432x288 with 1 Axes>"
      ]
     },
     "metadata": {
      "needs_background": "light"
     },
     "output_type": "display_data"
    }
   ],
   "source": [
    "train.plot(x='Date',y='price',title='YFI/DAI Hourly data')"
   ]
  },
  {
   "cell_type": "markdown",
   "metadata": {},
   "source": [
    "## Kalman filter\n",
    "\n",
    "Kalman filters are a lightweight algorithm often in an economic context for reducing noise in signals. The Kalman Filter is trained on a subset of the data, and then the parameters are passed into a prediction function for use in subsequent samples. As Kalman filters are one step predictors, at each time step, the filters is retrained and the system state and parameters are updated. \n",
    "\n",
    "This implemention was refined by Andrew Clark in a [recent paper](https://ideas.repec.org/p/rdg/emxxdp/em-dp2020-22.html) that used Kalman filters embedded into a cadCAD model for forecasting exchange rates."
   ]
  },
  {
   "cell_type": "code",
   "execution_count": 32,
   "metadata": {},
   "outputs": [],
   "source": [
    "import pandas as pd\n",
    "import numpy as np\n",
    "from scipy.stats import gamma\n",
    "\n",
    "def kalman_filter(observations,initialValue,truthValues=None,plot=False,paramExport=False):\n",
    "    '''\n",
    "    Description:\n",
    "    Function to create a Kalman Filter for smoothing currency timestamps in order to search for the\n",
    "    intrinisic value.\n",
    "    \n",
    "    Parameters:\n",
    "    observations: Array of observations, i.e. predicted secondary market prices.\n",
    "    initialValue: Initial Starting value of filter\n",
    "    truthValues: Array of truth values, i.e. GPS location or secondary market prices. Or can be left\n",
    "    blank if none exist\n",
    "    plot: If True, plot the observations, truth values and kalman filter.\n",
    "    paramExport: If True, the parameters xhat,P,xhatminus,Pminus,K are returned to use in training.\n",
    "    \n",
    "    Example:\n",
    "    xhat,P,xhatminus,Pminus,K = kalman_filter(observations=train.Close.values[0:-1],\n",
    "                                              initialValue=train.Close.values[-1],paramExport=True)\n",
    "    '''\n",
    "    # intial parameters\n",
    "    n_iter = len(observations)\n",
    "    sz = (n_iter,) # size of array\n",
    "    if isinstance(truthValues,np.ndarray):\n",
    "        x = truthValues # truth value\n",
    "    z = observations# observations (normal about x, sigma=0.1)\n",
    "\n",
    "    Q = 1e-5 # process variance\n",
    "\n",
    "    # allocate space for arrays\n",
    "    xhat=np.zeros(sz)      # a posteri estimate of x\n",
    "    P=np.zeros(sz)         # a posteri error estimate\n",
    "    xhatminus=np.zeros(sz) # a priori estimate of x\n",
    "    Pminus=np.zeros(sz)    # a priori error estimate\n",
    "    K=np.zeros(sz)         # gain or blending factor\n",
    "\n",
    "    R = 0.5**2 # estimate of measurement variance, change to see effect\n",
    "\n",
    "    # intial guesses\n",
    "    xhat[0] = initialValue\n",
    "    P[0] = 1.0\n",
    "\n",
    "    for k in range(1,n_iter):\n",
    "        # time update\n",
    "        xhatminus[k] = xhat[k-1]\n",
    "        Pminus[k] = P[k-1]+Q\n",
    "\n",
    "        # measurement update\n",
    "        K[k] = Pminus[k]/( Pminus[k]+R )\n",
    "        xhat[k] = xhatminus[k]+K[k]*(z[k]-xhatminus[k])\n",
    "        P[k] = (1-K[k])*Pminus[k]\n",
    "\n",
    "    if plot==True:\n",
    "        plt.figure()\n",
    "        plt.plot(z,'k+',label='Actual data')\n",
    "        plt.plot(xhat,'b-',label='a posteri estimate')\n",
    "        if isinstance(truthValues,np.ndarray):\n",
    "            plt.plot(x,color='g',label='truth value')\n",
    "        plt.legend()\n",
    "        plt.title('Kalman Filter Estimates', fontweight='bold')\n",
    "        plt.xlabel('Iteration')\n",
    "        plt.ylabel('USD')\n",
    "        plt.show()\n",
    "\n",
    "    if paramExport==True:\n",
    "        return  xhat,P,xhatminus,Pminus,K\n",
    "\n",
    "    else:\n",
    "\n",
    "        return xhat\n",
    "\n",
    "def kalman_filter_predict(xhat,P,xhatminus,Pminus,K,observations,truthValues=None,paramExport=False):\n",
    "    '''\n",
    "    Description:\n",
    "    Function to predict a pre-trained Kalman Filter 1 step forward.\n",
    "    \n",
    "    Parameters:\n",
    "    xhat: Trained Kalman filter values - array\n",
    "    P: Trained Kalman variance - array\n",
    "    xhatminus: Trained Kalman xhat delta - array\n",
    "    Pminus: Trained Kalman variance delta - array\n",
    "    K: Kalman gain - array\n",
    "    observations: Array of observations, i.e. predicted secondary market prices.\n",
    "    truthValues: Array of truth values, i.e. GPS location or secondary market prices. Or can be left\n",
    "    blank if none exist\n",
    "    paramExport: If True, the parameters xhat,P,xhatminus,Pminus,K are returned to use in next predicted step.\n",
    "    \n",
    "    Example:\n",
    "    xhat,P,xhatminus,Pminus,K = kalman_filter_predict(xhatInput,PInput,\n",
    "                                                      xhatminusInput,PminusInput,KInput,observation,\n",
    "                                                       paramExport=True)\n",
    "    '''\n",
    "    # intial parameters\n",
    "    if isinstance(truthValues,np.ndarray):\n",
    "        x = truthValues # truth value\n",
    "    z = observations# observations (normal about x, sigma=0.1)\n",
    "\n",
    "    Q = 1e-5 # process variance\n",
    "\n",
    "    R = 0.5**2 # estimate of measurement variance, change to see effect\n",
    "\n",
    "\n",
    "    # time update\n",
    "    xhatminus = np.append(xhatminus,xhat[-1])\n",
    "    Pminus = np.append(Pminus,P[-1]+Q)\n",
    "\n",
    "    # measurement update\n",
    "    K = np.append(K,Pminus[-1]/( Pminus[-1]+R ))\n",
    "    xhat = np.append(xhat,xhatminus[-1]+K[-1]*(z[-1]-xhatminus[-1]))\n",
    "    P = np.append(P,(1-K[-1])*Pminus[-1])\n",
    "\n",
    "    if paramExport==True:\n",
    "        return  xhat,P,xhatminus,Pminus,K\n",
    "\n",
    "    else:\n",
    "\n",
    "        return xhat"
   ]
  },
  {
   "cell_type": "markdown",
   "metadata": {},
   "source": [
    "## Process training\n",
    "\n",
    "Fit the gamma distribution off of the training data."
   ]
  },
  {
   "cell_type": "code",
   "execution_count": 33,
   "metadata": {},
   "outputs": [
    {
     "data": {
      "text/plain": [
       "17267.114445284114"
      ]
     },
     "execution_count": 33,
     "metadata": {},
     "output_type": "execute_result"
    }
   ],
   "source": [
    "timesteps = 24 * 365 # 24 hours a day * 365 days a year \n",
    "# fit ohm distribution\n",
    "fit_shape, fit_loc, fit_scale = gamma.fit(train.price.values)\n",
    "sample = np.random.gamma(fit_shape, fit_scale, 100)[0]\n",
    "sample"
   ]
  },
  {
   "cell_type": "code",
   "execution_count": 35,
   "metadata": {},
   "outputs": [
    {
     "data": {
      "text/plain": [
       "Text(0.5, 1.0, 'Histogram of YFI Price IID Samples')"
      ]
     },
     "execution_count": 35,
     "metadata": {},
     "output_type": "execute_result"
    },
    {
     "data": {
      "image/png": "[encoded data removed]",
      "text/plain": [
       "<Figure size 432x288 with 1 Axes>"
      ]
     },
     "metadata": {
      "needs_background": "light"
     },
     "output_type": "display_data"
    }
   ],
   "source": [
    "# generate 100 samples for initialization of Kalman\n",
    "samples = np.random.gamma(fit_shape, fit_scale, 100)\n",
    "plt.hist(samples)\n",
    "plt.title('Histogram of YFI Price IID Samples')"
   ]
  },
  {
   "cell_type": "code",
   "execution_count": 36,
   "metadata": {},
   "outputs": [
    {
     "data": {
      "image/png": "[encoded data removed]",
      "text/plain": [
       "<Figure size 432x288 with 1 Axes>"
      ]
     },
     "metadata": {
      "needs_background": "light"
     },
     "output_type": "display_data"
    }
   ],
   "source": [
    "# train kalman\n",
    "xhat,P,xhatminus,Pminus,K = kalman_filter(observations=samples[0:-1],\n",
    "                                          initialValue=samples[-1],paramExport=True,plot=True)"
   ]
  },
  {
   "cell_type": "markdown",
   "metadata": {},
   "source": [
    "## Validation\n",
    "\n",
    "To test how our generator is working, we will make 100 predictions and compare to the test data."
   ]
  },
  {
   "cell_type": "code",
   "execution_count": 37,
   "metadata": {},
   "outputs": [],
   "source": [
    "ohm_values = []\n",
    "filter_values = {'xhat':xhat,'P':P,\n",
    "                 'xhatminus':xhatminus,'Pminus':Pminus,\n",
    "                 'K':K}\n",
    "\n",
    "for i in range(0,100):\n",
    "    sample = np.random.gamma(fit_shape, fit_scale, 1)[0]\n",
    "    ohm_values.append(sample)\n",
    "    xhat,P,xhatminus,Pminus,K = kalman_filter_predict(filter_values['xhat'],\n",
    "                                                  filter_values['P'],\n",
    "                                                  filter_values['xhatminus'],\n",
    "                                                  filter_values['Pminus'],\n",
    "                                                  filter_values['K'],\n",
    "                                                  ohm_values,\n",
    "                                                  paramExport=True)\n",
    "    filter_values = {'xhat':xhat,'P':P,\n",
    "                 'xhatminus':xhatminus,'Pminus':Pminus,\n",
    "                 'K':K}\n",
    "                                                                    "
   ]
  },
  {
   "cell_type": "code",
   "execution_count": null,
   "metadata": {},
   "outputs": [],
   "source": []
  },
  {
   "cell_type": "code",
   "execution_count": 38,
   "metadata": {
    "scrolled": true
   },
   "outputs": [
    {
     "data": {
      "image/png": "[encoded data removed]",
      "text/plain": [
       "<Figure size 432x288 with 1 Axes>"
      ]
     },
     "metadata": {
      "needs_background": "light"
     },
     "output_type": "display_data"
    }
   ],
   "source": [
    "plt.plot(xhat[100:], label = 'Predicted')\n",
    "plt.plot(test.head(100)['price'].values, label = 'Actual')\n",
    "plt.xlabel('Predictions')\n",
    "plt.ylabel('Ohm value in USD')\n",
    "# Set a title of the current axes.\n",
    "plt.title('Predicted vs actual')\n",
    "plt.legend()\n",
    "# Display a figure.\n",
    "plt.show()"
   ]
  },
  {
   "cell_type": "markdown",
   "metadata": {},
   "source": [
    "## Generate data for simulation"
   ]
  },
  {
   "cell_type": "code",
   "execution_count": 39,
   "metadata": {},
   "outputs": [
    {
     "data": {
      "image/png": "[encoded data removed]",
      "text/plain": [
       "<Figure size 432x288 with 1 Axes>"
      ]
     },
     "metadata": {
      "needs_background": "light"
     },
     "output_type": "display_data"
    }
   ],
   "source": [
    "samples = np.random.gamma(fit_shape, fit_scale, 100)\n",
    "# train kalman\n",
    "xhat,P,xhatminus,Pminus,K = kalman_filter(observations=samples[0:-1],\n",
    "                                          initialValue=samples[-1],paramExport=True,plot=True)"
   ]
  },
  {
   "cell_type": "code",
   "execution_count": 40,
   "metadata": {},
   "outputs": [],
   "source": [
    "ohm_values = []\n",
    "filter_values = {'xhat':xhat,'P':P,\n",
    "                 'xhatminus':xhatminus,'Pminus':Pminus,\n",
    "                 'K':K}\n",
    "\n",
    "for i in range(0,timesteps+1):\n",
    "    sample = np.random.gamma(fit_shape, fit_scale, 1)[0]\n",
    "    ohm_values.append(sample)\n",
    "    xhat,P,xhatminus,Pminus,K = kalman_filter_predict(filter_values['xhat'],\n",
    "                                                  filter_values['P'],\n",
    "                                                  filter_values['xhatminus'],\n",
    "                                                  filter_values['Pminus'],\n",
    "                                                  filter_values['K'],\n",
    "                                                  ohm_values,\n",
    "                                                  paramExport=True)\n",
    "    filter_values = {'xhat':xhat,'P':P,\n",
    "                 'xhatminus':xhatminus,'Pminus':Pminus,\n",
    "                 'K':K}\n",
    "                                                                    "
   ]
  },
  {
   "cell_type": "code",
   "execution_count": 41,
   "metadata": {},
   "outputs": [
    {
     "data": {
      "text/plain": [
       "Text(0.5, 1.0, 'Histogram of YFI Price IID Samples')"
      ]
     },
     "execution_count": 41,
     "metadata": {},
     "output_type": "execute_result"
    },
    {
     "data": {
      "image/png": "[encoded data removed]",
      "text/plain": [
       "<Figure size 432x288 with 1 Axes>"
      ]
     },
     "metadata": {
      "needs_background": "light"
     },
     "output_type": "display_data"
    }
   ],
   "source": [
    "plt.hist(xhat[100:])\n",
    "plt.title('Histogram of YFI Price IID Samples')"
   ]
  },
  {
   "cell_type": "code",
   "execution_count": 42,
   "metadata": {},
   "outputs": [
    {
     "data": {
      "text/plain": [
       "Text(0.5, 1.0, 'Predicted YFI Prices')"
      ]
     },
     "execution_count": 42,
     "metadata": {},
     "output_type": "execute_result"
    },
    {
     "data": {
      "image/png": "[encoded data removed]",
      "text/plain": [
       "<Figure size 432x288 with 1 Axes>"
      ]
     },
     "metadata": {
      "needs_background": "light"
     },
     "output_type": "display_data"
    }
   ],
   "source": [
    "plt.plot(xhat[100:])\n",
    "plt.title('Predicted YFI Prices')"
   ]
  },
  {
   "cell_type": "code",
   "execution_count": 43,
   "metadata": {},
   "outputs": [
    {
     "data": {
      "text/plain": [
       "8760"
      ]
     },
     "execution_count": 43,
     "metadata": {},
     "output_type": "execute_result"
    }
   ],
   "source": [
    "timesteps"
   ]
  },
  {
   "cell_type": "code",
   "execution_count": 45,
   "metadata": {},
   "outputs": [
    {
     "data": {
      "text/html": [
       "<div>\n",
       "<style scoped>\n",
       "    .dataframe tbody tr th:only-of-type {\n",
       "        vertical-align: middle;\n",
       "    }\n",
       "\n",
       "    .dataframe tbody tr th {\n",
       "        vertical-align: top;\n",
       "    }\n",
       "\n",
       "    .dataframe thead th {\n",
       "        text-align: right;\n",
       "    }\n",
       "</style>\n",
       "<table border=\"1\" class=\"dataframe\">\n",
       "  <thead>\n",
       "    <tr style=\"text-align: right;\">\n",
       "      <th></th>\n",
       "      <th>Yfi_price</th>\n",
       "    </tr>\n",
       "  </thead>\n",
       "  <tbody>\n",
       "    <tr>\n",
       "      <th>0</th>\n",
       "      <td>4401.623535</td>\n",
       "    </tr>\n",
       "    <tr>\n",
       "      <th>1</th>\n",
       "      <td>24416.329857</td>\n",
       "    </tr>\n",
       "    <tr>\n",
       "      <th>2</th>\n",
       "      <td>10714.516184</td>\n",
       "    </tr>\n",
       "    <tr>\n",
       "      <th>3</th>\n",
       "      <td>3657.401399</td>\n",
       "    </tr>\n",
       "    <tr>\n",
       "      <th>4</th>\n",
       "      <td>6111.173348</td>\n",
       "    </tr>\n",
       "  </tbody>\n",
       "</table>\n",
       "</div>"
      ],
      "text/plain": [
       "      Yfi_price\n",
       "0   4401.623535\n",
       "1  24416.329857\n",
       "2  10714.516184\n",
       "3   3657.401399\n",
       "4   6111.173348"
      ]
     },
     "execution_count": 45,
     "metadata": {},
     "output_type": "execute_result"
    }
   ],
   "source": [
    "yfi_prices = pd.DataFrame(ohm_values,columns=['Yfi_price'])\n",
    "yfi_prices.head()"
   ]
  },
  {
   "cell_type": "code",
   "execution_count": 46,
   "metadata": {},
   "outputs": [],
   "source": [
    "# export data\n",
    "yfi_prices.to_csv('data/yfi_prices.csv')"
   ]
  },
  {
   "cell_type": "markdown",
   "metadata": {},
   "source": [
    "### Generate Monte Carlo runs"
   ]
  },
  {
   "cell_type": "code",
   "execution_count": 47,
   "metadata": {},
   "outputs": [],
   "source": [
    "def generate_timeseries(xhat, P, xhatminus, Pminus, K):\n",
    "    values = []\n",
    "    filter_values = {'xhat':xhat,'P':P,\n",
    "                     'xhatminus':xhatminus,'Pminus':Pminus,\n",
    "                     'K':K}\n",
    "\n",
    "    for i in range(0,timesteps+1):\n",
    "        sample = np.random.gamma(fit_shape, fit_scale, 1)[0]\n",
    "        values.append(sample)\n",
    "        xhat,P,xhatminus,Pminus,K = kalman_filter_predict(filter_values['xhat'],\n",
    "                                                      filter_values['P'],\n",
    "                                                      filter_values['xhatminus'],\n",
    "                                                      filter_values['Pminus'],\n",
    "                                                      filter_values['K'],\n",
    "                                                      values,\n",
    "                                                      paramExport=True)\n",
    "        filter_values = {'xhat':xhat,'P':P,\n",
    "                     'xhatminus':xhatminus,'Pminus':Pminus,\n",
    "                     'K':K}\n",
    "\n",
    "    return values, xhat, P, xhatminus, Pminus, K"
   ]
  },
  {
   "cell_type": "code",
   "execution_count": 48,
   "metadata": {},
   "outputs": [
    {
     "data": {
      "text/html": [
       "<div>\n",
       "<style scoped>\n",
       "    .dataframe tbody tr th:only-of-type {\n",
       "        vertical-align: middle;\n",
       "    }\n",
       "\n",
       "    .dataframe tbody tr th {\n",
       "        vertical-align: top;\n",
       "    }\n",
       "\n",
       "    .dataframe thead th {\n",
       "        text-align: right;\n",
       "    }\n",
       "</style>\n",
       "<table border=\"1\" class=\"dataframe\">\n",
       "  <thead>\n",
       "    <tr style=\"text-align: right;\">\n",
       "      <th></th>\n",
       "      <th>0</th>\n",
       "      <th>1</th>\n",
       "      <th>2</th>\n",
       "      <th>3</th>\n",
       "      <th>4</th>\n",
       "      <th>5</th>\n",
       "      <th>6</th>\n",
       "      <th>7</th>\n",
       "      <th>8</th>\n",
       "      <th>9</th>\n",
       "    </tr>\n",
       "  </thead>\n",
       "  <tbody>\n",
       "    <tr>\n",
       "      <th>0</th>\n",
       "      <td>12092.062727</td>\n",
       "      <td>11918.826382</td>\n",
       "      <td>12575.014832</td>\n",
       "      <td>11321.722212</td>\n",
       "      <td>12311.923028</td>\n",
       "      <td>12341.701783</td>\n",
       "      <td>11505.588139</td>\n",
       "      <td>11426.238974</td>\n",
       "      <td>12783.736822</td>\n",
       "      <td>12103.564534</td>\n",
       "    </tr>\n",
       "    <tr>\n",
       "      <th>1</th>\n",
       "      <td>11985.870856</td>\n",
       "      <td>11818.400188</td>\n",
       "      <td>12460.705624</td>\n",
       "      <td>11330.216861</td>\n",
       "      <td>12457.727346</td>\n",
       "      <td>12362.990886</td>\n",
       "      <td>11641.938956</td>\n",
       "      <td>11313.488440</td>\n",
       "      <td>12750.569570</td>\n",
       "      <td>12153.911662</td>\n",
       "    </tr>\n",
       "    <tr>\n",
       "      <th>2</th>\n",
       "      <td>12028.059931</td>\n",
       "      <td>11827.934170</td>\n",
       "      <td>12406.246152</td>\n",
       "      <td>11596.988134</td>\n",
       "      <td>12331.853312</td>\n",
       "      <td>12304.198741</td>\n",
       "      <td>11597.861595</td>\n",
       "      <td>11277.677388</td>\n",
       "      <td>13017.579454</td>\n",
       "      <td>12049.627419</td>\n",
       "    </tr>\n",
       "    <tr>\n",
       "      <th>3</th>\n",
       "      <td>11916.863672</td>\n",
       "      <td>11798.371397</td>\n",
       "      <td>12486.188661</td>\n",
       "      <td>11719.455413</td>\n",
       "      <td>12419.628216</td>\n",
       "      <td>12301.918003</td>\n",
       "      <td>11536.214634</td>\n",
       "      <td>11395.168166</td>\n",
       "      <td>12886.534746</td>\n",
       "      <td>12130.264443</td>\n",
       "    </tr>\n",
       "    <tr>\n",
       "      <th>4</th>\n",
       "      <td>11825.529333</td>\n",
       "      <td>11733.512332</td>\n",
       "      <td>12538.367070</td>\n",
       "      <td>11675.077051</td>\n",
       "      <td>12376.041185</td>\n",
       "      <td>12408.707950</td>\n",
       "      <td>11581.136992</td>\n",
       "      <td>11405.164957</td>\n",
       "      <td>12829.018816</td>\n",
       "      <td>12013.438495</td>\n",
       "    </tr>\n",
       "    <tr>\n",
       "      <th>...</th>\n",
       "      <td>...</td>\n",
       "      <td>...</td>\n",
       "      <td>...</td>\n",
       "      <td>...</td>\n",
       "      <td>...</td>\n",
       "      <td>...</td>\n",
       "      <td>...</td>\n",
       "      <td>...</td>\n",
       "      <td>...</td>\n",
       "      <td>...</td>\n",
       "    </tr>\n",
       "    <tr>\n",
       "      <th>8754</th>\n",
       "      <td>12625.978547</td>\n",
       "      <td>12303.388757</td>\n",
       "      <td>11563.203904</td>\n",
       "      <td>11118.380907</td>\n",
       "      <td>11951.716761</td>\n",
       "      <td>11405.601343</td>\n",
       "      <td>13172.032135</td>\n",
       "      <td>12268.126675</td>\n",
       "      <td>12219.542024</td>\n",
       "      <td>11138.318754</td>\n",
       "    </tr>\n",
       "    <tr>\n",
       "      <th>8755</th>\n",
       "      <td>12593.352106</td>\n",
       "      <td>12272.676167</td>\n",
       "      <td>11568.863038</td>\n",
       "      <td>11159.829205</td>\n",
       "      <td>11925.545730</td>\n",
       "      <td>11367.909863</td>\n",
       "      <td>13111.257227</td>\n",
       "      <td>12231.232755</td>\n",
       "      <td>12176.113087</td>\n",
       "      <td>11111.331925</td>\n",
       "    </tr>\n",
       "    <tr>\n",
       "      <th>8756</th>\n",
       "      <td>12559.009236</td>\n",
       "      <td>12253.841260</td>\n",
       "      <td>11568.838495</td>\n",
       "      <td>11140.813575</td>\n",
       "      <td>11951.496788</td>\n",
       "      <td>11307.248724</td>\n",
       "      <td>13053.137779</td>\n",
       "      <td>12268.453747</td>\n",
       "      <td>12149.760450</td>\n",
       "      <td>11155.649456</td>\n",
       "    </tr>\n",
       "    <tr>\n",
       "      <th>8757</th>\n",
       "      <td>12526.565471</td>\n",
       "      <td>12320.232129</td>\n",
       "      <td>11515.064722</td>\n",
       "      <td>11167.902032</td>\n",
       "      <td>11912.003074</td>\n",
       "      <td>11308.460701</td>\n",
       "      <td>13012.568108</td>\n",
       "      <td>12320.338171</td>\n",
       "      <td>12097.780618</td>\n",
       "      <td>11105.132424</td>\n",
       "    </tr>\n",
       "    <tr>\n",
       "      <th>8758</th>\n",
       "      <td>12541.123175</td>\n",
       "      <td>12288.272457</td>\n",
       "      <td>11535.720119</td>\n",
       "      <td>11139.329283</td>\n",
       "      <td>11863.174012</td>\n",
       "      <td>11258.874227</td>\n",
       "      <td>13019.043293</td>\n",
       "      <td>12247.529840</td>\n",
       "      <td>12031.820232</td>\n",
       "      <td>11178.346563</td>\n",
       "    </tr>\n",
       "  </tbody>\n",
       "</table>\n",
       "<p>8759 rows × 10 columns</p>\n",
       "</div>"
      ],
      "text/plain": [
       "                 0             1             2             3             4  \\\n",
       "0     12092.062727  11918.826382  12575.014832  11321.722212  12311.923028   \n",
       "1     11985.870856  11818.400188  12460.705624  11330.216861  12457.727346   \n",
       "2     12028.059931  11827.934170  12406.246152  11596.988134  12331.853312   \n",
       "3     11916.863672  11798.371397  12486.188661  11719.455413  12419.628216   \n",
       "4     11825.529333  11733.512332  12538.367070  11675.077051  12376.041185   \n",
       "...            ...           ...           ...           ...           ...   \n",
       "8754  12625.978547  12303.388757  11563.203904  11118.380907  11951.716761   \n",
       "8755  12593.352106  12272.676167  11568.863038  11159.829205  11925.545730   \n",
       "8756  12559.009236  12253.841260  11568.838495  11140.813575  11951.496788   \n",
       "8757  12526.565471  12320.232129  11515.064722  11167.902032  11912.003074   \n",
       "8758  12541.123175  12288.272457  11535.720119  11139.329283  11863.174012   \n",
       "\n",
       "                 5             6             7             8             9  \n",
       "0     12341.701783  11505.588139  11426.238974  12783.736822  12103.564534  \n",
       "1     12362.990886  11641.938956  11313.488440  12750.569570  12153.911662  \n",
       "2     12304.198741  11597.861595  11277.677388  13017.579454  12049.627419  \n",
       "3     12301.918003  11536.214634  11395.168166  12886.534746  12130.264443  \n",
       "4     12408.707950  11581.136992  11405.164957  12829.018816  12013.438495  \n",
       "...            ...           ...           ...           ...           ...  \n",
       "8754  11405.601343  13172.032135  12268.126675  12219.542024  11138.318754  \n",
       "8755  11367.909863  13111.257227  12231.232755  12176.113087  11111.331925  \n",
       "8756  11307.248724  13053.137779  12268.453747  12149.760450  11155.649456  \n",
       "8757  11308.460701  13012.568108  12320.338171  12097.780618  11105.132424  \n",
       "8758  11258.874227  13019.043293  12247.529840  12031.820232  11178.346563  \n",
       "\n",
       "[8759 rows x 10 columns]"
      ]
     },
     "execution_count": 48,
     "metadata": {},
     "output_type": "execute_result"
    }
   ],
   "source": [
    "monte_carlo_runs = 10\n",
    "\n",
    "values_mc = {}\n",
    "for run in range(0, monte_carlo_runs):\n",
    "    np.random.seed(seed=run)\n",
    "    \n",
    "    buffer_for_transcients = 100\n",
    "    samples = np.random.gamma(fit_shape, fit_scale, timesteps + buffer_for_transcients)\n",
    "    # train kalman\n",
    "    xhat,P,xhatminus,Pminus,K = kalman_filter(observations=samples[0:-1],\n",
    "                                              initialValue=samples[-1],paramExport=True,plot=False)\n",
    "    \n",
    "    # values, _, _, _, _, _ = generate_eth_timeseries(xhat, P, xhatminus, Pminus, K)\n",
    "    values_mc[run] = xhat[buffer_for_transcients:]\n",
    "    \n",
    "values, xhat, P, xhatminus, Pminus, K = generate_timeseries(xhat, P, xhatminus, Pminus, K)\n",
    "\n",
    "values_mc_df = pd.DataFrame(values_mc)\n",
    "values_mc_df.to_csv('data/yfi_values_mc.csv')\n",
    "values_mc_df"
   ]
  },
  {
   "cell_type": "markdown",
   "metadata": {},
   "source": [
    "## Implementation information\n",
    "Below is an example of how to integrate these univariate time series datasets into the exogenous process section of a cadCAD model, assuming each timestep is an hour.\n",
    "\n",
    "\n",
    "```\n",
    "    \n",
    "# partial_state_update_block.py\n",
    "partial_state_update_block = {\n",
    "    # Exogenous\n",
    "    'Exogenous': {\n",
    "        'policies': {\n",
    "        },\n",
    "        'variables': {\n",
    "            'eth_price': eth_price_mech,\n",
    "        }\n",
    "    },\n",
    "    \n",
    "# exogenousProcesses.py\n",
    "\n",
    "\n",
    "# import libraries\n",
    "import pandas as pd\n",
    "\n",
    "# import data\n",
    "eth_prices = pd.read_csv('data/eth_prices.csv')\n",
    "\n",
    "# mechanisms\n",
    "def eth_price_mech(params, step, sL, s, _input):\n",
    "    y = 'eth_price'\n",
    "    timestep = s['timestep'] \n",
    "    x = eth_prices.Eth_price.values[timestep]\n",
    "    return (y, x)\n",
    "\n",
    "    \n",
    "```"
   ]
  },
  {
   "cell_type": "markdown",
   "metadata": {},
   "source": [
    "## Conclusion\n",
    "\n",
    "In this notebook, we've read in hourly historical eth data from kaggle, defined functions for fitting and making predictions off of a gamma distribution, which is comminly used in for random walk calculations, and defined functions for de-noising kalman filter. We then validated the structure of these functions and predicted 100 timesteps for evaluation and demonstration purposes. Finally, we provided an overview of how to fit this code into cadCAD. Next steps could include:\n",
    "* Refining the Kalman filter hyperparameters\n",
    "* Refining the gamma prediction tuning parameter\n",
    "* More thorough model validation\n",
    "* Add seasonality\n",
    "\n"
   ]
  }
 ],
 "metadata": {
  "kernelspec": {
   "display_name": "Python (Reflexer)",
   "language": "python",
   "name": "python-reflexer"
  },
  "language_info": {
   "codemirror_mode": {
    "name": "ipython",
    "version": 3
   },
   "file_extension": ".py",
   "mimetype": "text/x-python",
   "name": "python",
   "nbconvert_exporter": "python",
   "pygments_lexer": "ipython3",
   "version": "3.9.7"
  }
 },
 "nbformat": 4,
 "nbformat_minor": 4
}
