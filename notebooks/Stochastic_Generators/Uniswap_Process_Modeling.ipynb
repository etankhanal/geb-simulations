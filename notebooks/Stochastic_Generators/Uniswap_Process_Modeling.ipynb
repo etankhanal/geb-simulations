{
 "cells": [
  {
   "cell_type": "markdown",
   "metadata": {},
   "source": [
    "# Exogenous Uniswap Process modeling \n",
    "\n",
    "\n",
    "## Liquidity demand stochastic process\n",
    "\n",
    "1. Acquire time series of order book for single collateral DAI 2017-2019; this is the proxy for the liquidity demand of RAI\n",
    "2. Fit a parametric distribution to the data, resulting in a distribution $F^D_{RAI}(t;\\mu_{RAI})$ and fitted parameters $\\mu_{RAI}$.\n",
    "\n",
    "\n",
    "To obtain this data, we ran a [Uniswap cadCAD model](https://github.com/cadCAD-org/demos/tree/master/demos/Multiscale/uniswap) twice, once to obtain Buy/Sell univariate time series data and once for obtaining univariate time series liquidity data. Shown below is the modification between runs. We then saved these runs as csv files and continue bring the data into this notebook for building stochastic generators.\n",
    "\n",
    "\n",
    "```\n",
    "# Mechanisms\n",
    "def mechanismHub_DAI(params, step, history, current_state, input_):\n",
    "    action = input_['action_id']\n",
    "    # 1 Buy/Sell\n",
    "    if action == 'TokenPurchase':\n",
    "        return ethToToken_DAI(params, step, history, current_state, input_)\n",
    "    elif action == 'EthPurchase':\n",
    "        return tokenToEth_DAI(params, step, history, current_state, input_)\n",
    "    # 2 Add/remove liquidity\n",
    "#     if action == 'AddLiquidity':\n",
    "#         return addLiquidity_DAI(params, step, history, current_state, input_)\n",
    "#     elif action == 'Transfer':\n",
    "#         return removeLiquidity_DAI(params, step, history, current_state, input_)\n",
    "    return('DAI_balance', abs(current_state['DAI_balance']))\n",
    "```"
   ]
  },
  {
   "cell_type": "code",
   "execution_count": 1,
   "metadata": {},
   "outputs": [],
   "source": [
    "# import libraries\n",
    "import pandas as pd\n",
    "import numpy as np\n",
    "import pandas as pd\n",
    "import scipy.stats as st\n",
    "from sklearn.metrics import mean_squared_error\n",
    "import matplotlib.pyplot as plt\n",
    "from math import sqrt\n",
    "\n",
    "%matplotlib inline"
   ]
  },
  {
   "cell_type": "code",
   "execution_count": 2,
   "metadata": {},
   "outputs": [],
   "source": [
    "# https://stackoverflow.com/questions/6620471/fitting-empirical-distribution-to-theoretical-ones-with-scipy-python?lq=1\n",
    "def get_best_distribution(data):\n",
    "    dist_names = [\"alpha\",\"gamma\",\"norm\", \"exponweib\", \"weibull_max\", \"weibull_min\", \"pareto\", \"genextreme\"]\n",
    "    dist_results = []\n",
    "    params = {}\n",
    "    for dist_name in dist_names:\n",
    "        dist = getattr(st, dist_name)\n",
    "        param = dist.fit(data)\n",
    "\n",
    "        params[dist_name] = param\n",
    "        # Applying the Kolmogorov-Smirnov test\n",
    "        D, p = st.kstest(data, dist_name, args=param)\n",
    "        print(\"p value for \"+dist_name+\" = \"+str(p))\n",
    "        dist_results.append((dist_name, p))\n",
    "\n",
    "    # select the best fitted distribution\n",
    "    best_dist, best_p = (max(dist_results, key=lambda item: item[1]))\n",
    "    # store the name of the best fit and its p value\n",
    "\n",
    "    print(\"Best fitting distribution: \"+str(best_dist))\n",
    "    print(\"Best p value: \"+ str(best_p))\n",
    "    print(\"Parameters for the best fit: \"+ str(params[best_dist]))\n",
    "\n",
    "    return best_dist, best_p, params[best_dist]\n",
    "\n",
    "\n",
    "def kl_divergence(p, q):\n",
    "    return sum(p[i] * np.log2(p[i]/q[i]) for i in range(len(p)))"
   ]
  },
  {
   "cell_type": "markdown",
   "metadata": {},
   "source": [
    "## Data preprocessing\n",
    "\n",
    "\n",
    "We examine the data two univariate time series,buy/sell and liquidity, make changes absolute, and remove all zero values."
   ]
  },
  {
   "cell_type": "code",
   "execution_count": 3,
   "metadata": {},
   "outputs": [
    {
     "data": {
      "text/html": [
       "<div>\n",
       "<style scoped>\n",
       "    .dataframe tbody tr th:only-of-type {\n",
       "        vertical-align: middle;\n",
       "    }\n",
       "\n",
       "    .dataframe tbody tr th {\n",
       "        vertical-align: top;\n",
       "    }\n",
       "\n",
       "    .dataframe thead th {\n",
       "        text-align: right;\n",
       "    }\n",
       "</style>\n",
       "<table border=\"1\" class=\"dataframe\">\n",
       "  <thead>\n",
       "    <tr style=\"text-align: right;\">\n",
       "      <th></th>\n",
       "      <th>Unnamed: 0</th>\n",
       "      <th>DAI_balance</th>\n",
       "      <th>ETH_balance</th>\n",
       "      <th>UNI_supply</th>\n",
       "      <th>simulation</th>\n",
       "      <th>subset</th>\n",
       "      <th>run</th>\n",
       "      <th>substep</th>\n",
       "      <th>timestep</th>\n",
       "    </tr>\n",
       "  </thead>\n",
       "  <tbody>\n",
       "    <tr>\n",
       "      <th>0</th>\n",
       "      <td>1</td>\n",
       "      <td>5905000000000000000000</td>\n",
       "      <td>29974673940746674209</td>\n",
       "      <td>30000000000000000000</td>\n",
       "      <td>0</td>\n",
       "      <td>0</td>\n",
       "      <td>1</td>\n",
       "      <td>1</td>\n",
       "      <td>1</td>\n",
       "    </tr>\n",
       "    <tr>\n",
       "      <th>1</th>\n",
       "      <td>2</td>\n",
       "      <td>5907000000000000000000</td>\n",
       "      <td>29964555511671268196</td>\n",
       "      <td>30000000000000000000</td>\n",
       "      <td>0</td>\n",
       "      <td>0</td>\n",
       "      <td>1</td>\n",
       "      <td>1</td>\n",
       "      <td>2</td>\n",
       "    </tr>\n",
       "    <tr>\n",
       "      <th>2</th>\n",
       "      <td>3</td>\n",
       "      <td>5905035238623641640532</td>\n",
       "      <td>29974555511671268196</td>\n",
       "      <td>30000000000000000000</td>\n",
       "      <td>0</td>\n",
       "      <td>0</td>\n",
       "      <td>1</td>\n",
       "      <td>1</td>\n",
       "      <td>3</td>\n",
       "    </tr>\n",
       "    <tr>\n",
       "      <th>3</th>\n",
       "      <td>4</td>\n",
       "      <td>5903071785798411448958</td>\n",
       "      <td>29984555511671268196</td>\n",
       "      <td>30000000000000000000</td>\n",
       "      <td>0</td>\n",
       "      <td>0</td>\n",
       "      <td>1</td>\n",
       "      <td>1</td>\n",
       "      <td>4</td>\n",
       "    </tr>\n",
       "    <tr>\n",
       "      <th>4</th>\n",
       "      <td>5</td>\n",
       "      <td>5901109640216828255225</td>\n",
       "      <td>29994555511671268196</td>\n",
       "      <td>30000000000000000000</td>\n",
       "      <td>0</td>\n",
       "      <td>0</td>\n",
       "      <td>1</td>\n",
       "      <td>1</td>\n",
       "      <td>5</td>\n",
       "    </tr>\n",
       "  </tbody>\n",
       "</table>\n",
       "</div>"
      ],
      "text/plain": [
       "   Unnamed: 0             DAI_balance           ETH_balance  \\\n",
       "0           1  5905000000000000000000  29974673940746674209   \n",
       "1           2  5907000000000000000000  29964555511671268196   \n",
       "2           3  5905035238623641640532  29974555511671268196   \n",
       "3           4  5903071785798411448958  29984555511671268196   \n",
       "4           5  5901109640216828255225  29994555511671268196   \n",
       "\n",
       "             UNI_supply  simulation  subset  run  substep  timestep  \n",
       "0  30000000000000000000           0       0    1        1         1  \n",
       "1  30000000000000000000           0       0    1        1         2  \n",
       "2  30000000000000000000           0       0    1        1         3  \n",
       "3  30000000000000000000           0       0    1        1         4  \n",
       "4  30000000000000000000           0       0    1        1         5  "
      ]
     },
     "execution_count": 3,
     "metadata": {},
     "output_type": "execute_result"
    }
   ],
   "source": [
    "# import data\n",
    "buy_sell_uniswap_events = pd.read_csv('data/uniswap_data_buy_sell.csv')\n",
    "liquidity_uniswap_events = pd.read_csv('data/uniswap_liquidity_data.csv')\n",
    "\n",
    "buy_sell_uniswap_events.head()"
   ]
  },
  {
   "cell_type": "code",
   "execution_count": 4,
   "metadata": {},
   "outputs": [
    {
     "data": {
      "text/html": [
       "<div>\n",
       "<style scoped>\n",
       "    .dataframe tbody tr th:only-of-type {\n",
       "        vertical-align: middle;\n",
       "    }\n",
       "\n",
       "    .dataframe tbody tr th {\n",
       "        vertical-align: top;\n",
       "    }\n",
       "\n",
       "    .dataframe thead th {\n",
       "        text-align: right;\n",
       "    }\n",
       "</style>\n",
       "<table border=\"1\" class=\"dataframe\">\n",
       "  <thead>\n",
       "    <tr style=\"text-align: right;\">\n",
       "      <th></th>\n",
       "      <th>Unnamed: 0</th>\n",
       "      <th>DAI_balance</th>\n",
       "      <th>ETH_balance</th>\n",
       "      <th>UNI_supply</th>\n",
       "      <th>simulation</th>\n",
       "      <th>subset</th>\n",
       "      <th>run</th>\n",
       "      <th>substep</th>\n",
       "      <th>timestep</th>\n",
       "    </tr>\n",
       "  </thead>\n",
       "  <tbody>\n",
       "    <tr>\n",
       "      <th>0</th>\n",
       "      <td>1</td>\n",
       "      <td>5900000000000000000000</td>\n",
       "      <td>29974673940746674209</td>\n",
       "      <td>30000000000000000000</td>\n",
       "      <td>0</td>\n",
       "      <td>0</td>\n",
       "      <td>1</td>\n",
       "      <td>1</td>\n",
       "      <td>1</td>\n",
       "    </tr>\n",
       "    <tr>\n",
       "      <th>1</th>\n",
       "      <td>2</td>\n",
       "      <td>5900000000000000000000</td>\n",
       "      <td>29964546939628433685</td>\n",
       "      <td>30000000000000000000</td>\n",
       "      <td>0</td>\n",
       "      <td>0</td>\n",
       "      <td>1</td>\n",
       "      <td>1</td>\n",
       "      <td>2</td>\n",
       "    </tr>\n",
       "    <tr>\n",
       "      <th>2</th>\n",
       "      <td>3</td>\n",
       "      <td>5900000000000000000000</td>\n",
       "      <td>29974546939628433685</td>\n",
       "      <td>30000000000000000000</td>\n",
       "      <td>0</td>\n",
       "      <td>0</td>\n",
       "      <td>1</td>\n",
       "      <td>1</td>\n",
       "      <td>3</td>\n",
       "    </tr>\n",
       "    <tr>\n",
       "      <th>3</th>\n",
       "      <td>4</td>\n",
       "      <td>5900000000000000000000</td>\n",
       "      <td>29984546939628433685</td>\n",
       "      <td>30000000000000000000</td>\n",
       "      <td>0</td>\n",
       "      <td>0</td>\n",
       "      <td>1</td>\n",
       "      <td>1</td>\n",
       "      <td>4</td>\n",
       "    </tr>\n",
       "    <tr>\n",
       "      <th>4</th>\n",
       "      <td>5</td>\n",
       "      <td>5900000000000000000000</td>\n",
       "      <td>29994546939628433685</td>\n",
       "      <td>30000000000000000000</td>\n",
       "      <td>0</td>\n",
       "      <td>0</td>\n",
       "      <td>1</td>\n",
       "      <td>1</td>\n",
       "      <td>5</td>\n",
       "    </tr>\n",
       "  </tbody>\n",
       "</table>\n",
       "</div>"
      ],
      "text/plain": [
       "   Unnamed: 0             DAI_balance           ETH_balance  \\\n",
       "0           1  5900000000000000000000  29974673940746674209   \n",
       "1           2  5900000000000000000000  29964546939628433685   \n",
       "2           3  5900000000000000000000  29974546939628433685   \n",
       "3           4  5900000000000000000000  29984546939628433685   \n",
       "4           5  5900000000000000000000  29994546939628433685   \n",
       "\n",
       "             UNI_supply  simulation  subset  run  substep  timestep  \n",
       "0  30000000000000000000           0       0    1        1         1  \n",
       "1  30000000000000000000           0       0    1        1         2  \n",
       "2  30000000000000000000           0       0    1        1         3  \n",
       "3  30000000000000000000           0       0    1        1         4  \n",
       "4  30000000000000000000           0       0    1        1         5  "
      ]
     },
     "execution_count": 4,
     "metadata": {},
     "output_type": "execute_result"
    }
   ],
   "source": [
    "liquidity_uniswap_events.head()"
   ]
  },
  {
   "cell_type": "code",
   "execution_count": 5,
   "metadata": {},
   "outputs": [
    {
     "data": {
      "text/plain": [
       "<AxesSubplot:title={'center':'Dai liquidity univariate series'}, xlabel='timestep'>"
      ]
     },
     "execution_count": 5,
     "metadata": {},
     "output_type": "execute_result"
    },
    {
     "data": {
      "image/png": "[encoded data removed]",
      "text/plain": [
       "<Figure size 432x288 with 1 Axes>"
      ]
     },
     "metadata": {
      "needs_background": "light"
     },
     "output_type": "display_data"
    }
   ],
   "source": [
    "# liquidity series\n",
    "liquidity_uniswap_events['DAI_balance'] = liquidity_uniswap_events['DAI_balance'].astype(float)\n",
    "liquidity_uniswap_events['DAI_diff'] = abs(liquidity_uniswap_events['DAI_balance'].diff())\n",
    "liquidity_uniswap_events['DAI_diff'].fillna(0,inplace=True)\n",
    "liquidity_uniswap_events = liquidity_uniswap_events.query('DAI_diff > 0') \n",
    "liquidity_uniswap_events.plot(x='timestep',y='DAI_diff',title='Dai liquidity univariate series')"
   ]
  },
  {
   "cell_type": "code",
   "execution_count": 6,
   "metadata": {},
   "outputs": [
    {
     "data": {
      "text/plain": [
       "Text(0.5, 1.0, 'Histogram of Liquidity IID Samples')"
      ]
     },
     "execution_count": 6,
     "metadata": {},
     "output_type": "execute_result"
    },
    {
     "data": {
      "image/png": "[encoded data removed]",
      "text/plain": [
       "<Figure size 432x288 with 1 Axes>"
      ]
     },
     "metadata": {
      "needs_background": "light"
     },
     "output_type": "display_data"
    }
   ],
   "source": [
    "plt.hist(liquidity_uniswap_events['DAI_diff'].apply(np.log))\n",
    "plt.title('Histogram of Liquidity IID Samples')"
   ]
  },
  {
   "cell_type": "code",
   "execution_count": 7,
   "metadata": {},
   "outputs": [
    {
     "data": {
      "text/plain": [
       "<AxesSubplot:title={'center':'Dai Buy/Sell Univariate Series'}, xlabel='timestep'>"
      ]
     },
     "execution_count": 7,
     "metadata": {},
     "output_type": "execute_result"
    },
    {
     "data": {
      "image/png": "[encoded data removed]",
      "text/plain": [
       "<Figure size 432x288 with 1 Axes>"
      ]
     },
     "metadata": {
      "needs_background": "light"
     },
     "output_type": "display_data"
    }
   ],
   "source": [
    "# buy/sell series\n",
    "buy_sell_uniswap_events['DAI_balance'] = buy_sell_uniswap_events['DAI_balance'].astype(float)\n",
    "buy_sell_uniswap_events['DAI_diff'] = abs(buy_sell_uniswap_events['DAI_balance'].diff())\n",
    "buy_sell_uniswap_events['DAI_diff'].fillna(0,inplace=True)\n",
    "buy_sell_uniswap_events = buy_sell_uniswap_events.query('DAI_diff > 0') \n",
    "buy_sell_uniswap_events.plot(x='timestep',y='DAI_diff',title='Dai Buy/Sell Univariate Series')"
   ]
  },
  {
   "cell_type": "code",
   "execution_count": 8,
   "metadata": {},
   "outputs": [
    {
     "data": {
      "text/plain": [
       "Text(0.5, 1.0, 'Histogram of Buy/Sell IID Samples')"
      ]
     },
     "execution_count": 8,
     "metadata": {},
     "output_type": "execute_result"
    },
    {
     "data": {
      "image/png": "[encoded data removed]",
      "text/plain": [
       "<Figure size 432x288 with 1 Axes>"
      ]
     },
     "metadata": {
      "needs_background": "light"
     },
     "output_type": "display_data"
    }
   ],
   "source": [
    "plt.hist(buy_sell_uniswap_events['DAI_diff'].apply(np.log))\n",
    "plt.title('Histogram of Buy/Sell IID Samples')"
   ]
  },
  {
   "cell_type": "markdown",
   "metadata": {},
   "source": [
    "## Distribution fitting\n",
    "\n",
    "We take the log of liquidity data prior to fitting to make the trend more discernible. We fit both the liquidity and buy/sell univariate series to an alpha distribution. "
   ]
  },
  {
   "cell_type": "code",
   "execution_count": 9,
   "metadata": {},
   "outputs": [],
   "source": [
    "# We take the log of liquidity data prior to fitting to make the trend more discernible \n",
    "#distribution, pvalue, params = get_best_distribution(liquidity_uniswap_events['DAI_diff'].apply(np.log).values)"
   ]
  },
  {
   "cell_type": "code",
   "execution_count": 10,
   "metadata": {},
   "outputs": [
    {
     "name": "stderr",
     "output_type": "stream",
     "text": [
      "/Users/georgekellerman/github/geb-sims/venv/lib/python3.8/site-packages/scipy/stats/_distn_infrastructure.py:2429: RuntimeWarning: invalid value encountered in double_scalars\n",
      "  Lhat = muhat - Shat*mu\n"
     ]
    }
   ],
   "source": [
    "# fit liquidity to the alpha distribution.\n",
    "fit_shape_liquidity, fit_loc_liquidity, fit_scale_liquidity =st.alpha.fit(liquidity_uniswap_events['DAI_diff'].apply(np.log).values)\n"
   ]
  },
  {
   "cell_type": "code",
   "execution_count": 11,
   "metadata": {},
   "outputs": [
    {
     "data": {
      "text/plain": [
       "8760"
      ]
     },
     "execution_count": 11,
     "metadata": {},
     "output_type": "execute_result"
    }
   ],
   "source": [
    "timesteps = 24 * 365 # 24 hours a day * 365 days a year \n",
    "timesteps"
   ]
  },
  {
   "cell_type": "code",
   "execution_count": 12,
   "metadata": {},
   "outputs": [
    {
     "data": {
      "text/plain": [
       "Text(0.5, 1.0, 'Histogram of Liquidity IID Samples')"
      ]
     },
     "execution_count": 12,
     "metadata": {},
     "output_type": "execute_result"
    },
    {
     "data": {
      "image/png": "[encoded data removed]",
      "text/plain": [
       "<Figure size 432x288 with 1 Axes>"
      ]
     },
     "metadata": {
      "needs_background": "light"
     },
     "output_type": "display_data"
    }
   ],
   "source": [
    "# 8760 timestamp sample histogram\n",
    "liquidity = st.alpha.rvs(fit_shape_liquidity, loc=fit_loc_liquidity, scale=fit_scale_liquidity, size=timesteps)\n",
    "plt.hist(liquidity)\n",
    "plt.title('Histogram of Liquidity IID Samples')"
   ]
  },
  {
   "cell_type": "code",
   "execution_count": 13,
   "metadata": {},
   "outputs": [
    {
     "data": {
      "text/plain": [
       "Text(0.5, 1.0, 'Histogram of Liquidity IID Samples against original data')"
      ]
     },
     "execution_count": 13,
     "metadata": {},
     "output_type": "execute_result"
    },
    {
     "data": {
      "image/png": "[encoded data removed]",
      "text/plain": [
       "<Figure size 432x288 with 1 Axes>"
      ]
     },
     "metadata": {
      "needs_background": "light"
     },
     "output_type": "display_data"
    }
   ],
   "source": [
    "plt.hist(liquidity,bins=np.arange(20, 60),label='Sampled')\n",
    "plt.hist(liquidity_uniswap_events['DAI_diff'].apply(np.log),alpha=0.5,bins=np.arange(20, 60),label='Original')\n",
    "plt.legend()\n",
    "plt.title('Histogram of Liquidity IID Samples against original data')"
   ]
  },
  {
   "cell_type": "code",
   "execution_count": 14,
   "metadata": {},
   "outputs": [],
   "source": [
    "# hist,bins = np.histogram(liquidity,bins=50)\n",
    "# hist_original, bins = np.histogram(liquidity_uniswap_events['DAI_diff'].apply(np.log),bins=50) \n",
    "# kl_divergence(hist,hist_original)"
   ]
  },
  {
   "cell_type": "code",
   "execution_count": 15,
   "metadata": {},
   "outputs": [
    {
     "data": {
      "text/plain": [
       "Text(0.5, 1.0, 'Time Series of Liquidity IID Samples')"
      ]
     },
     "execution_count": 15,
     "metadata": {},
     "output_type": "execute_result"
    },
    {
     "data": {
      "image/png": "[encoded data removed]",
      "text/plain": [
       "<Figure size 432x288 with 1 Axes>"
      ]
     },
     "metadata": {
      "needs_background": "light"
     },
     "output_type": "display_data"
    }
   ],
   "source": [
    "plt.plot(liquidity)\n",
    "plt.title('Time Series of Liquidity IID Samples')"
   ]
  },
  {
   "cell_type": "code",
   "execution_count": 16,
   "metadata": {},
   "outputs": [],
   "source": [
    "# export liquidity series\n",
    "liquidity_samples = pd.DataFrame(np.exp(liquidity),columns=['Liquidity_Samples'])\n",
    "liquidity_samples.to_csv('data/liquidity_samples.csv')"
   ]
  },
  {
   "cell_type": "code",
   "execution_count": 17,
   "metadata": {},
   "outputs": [],
   "source": [
    "# fit buy/sell series distribution\n",
    "#distribution, pvalue, params = get_best_distribution(buy_sell_uniswap_events['DAI_diff'].apply(np.log).values)"
   ]
  },
  {
   "cell_type": "code",
   "execution_count": 18,
   "metadata": {},
   "outputs": [
    {
     "name": "stderr",
     "output_type": "stream",
     "text": [
      "/Users/georgekellerman/github/geb-sims/venv/lib/python3.8/site-packages/scipy/stats/_distn_infrastructure.py:2429: RuntimeWarning: invalid value encountered in double_scalars\n",
      "  Lhat = muhat - Shat*mu\n"
     ]
    }
   ],
   "source": [
    "# Fit buy/sell series\n",
    "fit_shape_buy_sell, fit_loc_buy_sell, fit_scale_buy_sell = st.alpha.fit(buy_sell_uniswap_events['DAI_diff'].apply(np.log).values)"
   ]
  },
  {
   "cell_type": "code",
   "execution_count": 19,
   "metadata": {},
   "outputs": [
    {
     "data": {
      "text/plain": [
       "Text(0.5, 1.0, 'Histogram of Buy Sell IID Samples')"
      ]
     },
     "execution_count": 19,
     "metadata": {},
     "output_type": "execute_result"
    },
    {
     "data": {
      "image/png": "[encoded data removed]",
      "text/plain": [
       "<Figure size 432x288 with 1 Axes>"
      ]
     },
     "metadata": {
      "needs_background": "light"
     },
     "output_type": "display_data"
    }
   ],
   "source": [
    "buy_sell = st.alpha.rvs(fit_shape_buy_sell, loc=fit_loc_buy_sell, scale=fit_scale_buy_sell, size=timesteps)\n",
    "\n",
    "plt.hist(buy_sell)\n",
    "plt.title('Histogram of Buy Sell IID Samples')"
   ]
  },
  {
   "cell_type": "code",
   "execution_count": 20,
   "metadata": {},
   "outputs": [
    {
     "data": {
      "text/plain": [
       "Text(0.5, 1.0, 'Time Series of Buy Sell IID Samples')"
      ]
     },
     "execution_count": 20,
     "metadata": {},
     "output_type": "execute_result"
    },
    {
     "data": {
      "image/png": "[encoded data removed]",
      "text/plain": [
       "<Figure size 432x288 with 1 Axes>"
      ]
     },
     "metadata": {
      "needs_background": "light"
     },
     "output_type": "display_data"
    }
   ],
   "source": [
    "plt.plot(buy_sell)\n",
    "plt.title('Time Series of Buy Sell IID Samples')"
   ]
  },
  {
   "cell_type": "code",
   "execution_count": 21,
   "metadata": {},
   "outputs": [
    {
     "data": {
      "text/plain": [
       "Text(0.5, 1.0, 'Histogram of Buy/Sell IID Samples against original data')"
      ]
     },
     "execution_count": 21,
     "metadata": {},
     "output_type": "execute_result"
    },
    {
     "data": {
      "image/png": "[encoded data removed]",
      "text/plain": [
       "<Figure size 432x288 with 1 Axes>"
      ]
     },
     "metadata": {
      "needs_background": "light"
     },
     "output_type": "display_data"
    }
   ],
   "source": [
    "plt.hist(buy_sell,bins=np.arange(25, 60),label='Sampled')\n",
    "plt.hist(buy_sell_uniswap_events['DAI_diff'].apply(np.log),alpha=0.3,bins=np.arange(25, 60),label='Original')\n",
    "plt.legend()\n",
    "plt.title('Histogram of Buy/Sell IID Samples against original data')"
   ]
  },
  {
   "cell_type": "code",
   "execution_count": 22,
   "metadata": {},
   "outputs": [],
   "source": [
    "# Export buy/sell time series\n",
    "buy_sell_samples = pd.DataFrame(np.exp(buy_sell),columns=['Buy_Sell_Samples'])\n",
    "buy_sell_samples.to_csv('data/buy_sell.csv')"
   ]
  },
  {
   "cell_type": "markdown",
   "metadata": {},
   "source": [
    "## Generate Monte Carlo runs\n",
    "### Buy/Sell Events"
   ]
  },
  {
   "cell_type": "code",
   "execution_count": 23,
   "metadata": {},
   "outputs": [
    {
     "data": {
      "text/html": [
       "<div>\n",
       "<style scoped>\n",
       "    .dataframe tbody tr th:only-of-type {\n",
       "        vertical-align: middle;\n",
       "    }\n",
       "\n",
       "    .dataframe tbody tr th {\n",
       "        vertical-align: top;\n",
       "    }\n",
       "\n",
       "    .dataframe thead th {\n",
       "        text-align: right;\n",
       "    }\n",
       "</style>\n",
       "<table border=\"1\" class=\"dataframe\">\n",
       "  <thead>\n",
       "    <tr style=\"text-align: right;\">\n",
       "      <th></th>\n",
       "      <th>0</th>\n",
       "      <th>1</th>\n",
       "      <th>2</th>\n",
       "      <th>3</th>\n",
       "      <th>4</th>\n",
       "      <th>5</th>\n",
       "      <th>6</th>\n",
       "      <th>7</th>\n",
       "      <th>8</th>\n",
       "      <th>9</th>\n",
       "    </tr>\n",
       "  </thead>\n",
       "  <tbody>\n",
       "    <tr>\n",
       "      <th>0</th>\n",
       "      <td>2.163837e+20</td>\n",
       "      <td>7.570096e+19</td>\n",
       "      <td>8.813644e+19</td>\n",
       "      <td>2.198650e+20</td>\n",
       "      <td>6.232496e+22</td>\n",
       "      <td>1.347115e+19</td>\n",
       "      <td>8.298759e+21</td>\n",
       "      <td>1.797504e+18</td>\n",
       "      <td>5.966618e+21</td>\n",
       "      <td>1.346515e+17</td>\n",
       "    </tr>\n",
       "    <tr>\n",
       "      <th>1</th>\n",
       "      <td>9.066745e+20</td>\n",
       "      <td>9.524847e+20</td>\n",
       "      <td>3.927835e+17</td>\n",
       "      <td>8.480389e+20</td>\n",
       "      <td>2.136511e+20</td>\n",
       "      <td>5.716574e+21</td>\n",
       "      <td>3.747493e+19</td>\n",
       "      <td>1.757802e+21</td>\n",
       "      <td>6.695430e+22</td>\n",
       "      <td>1.487759e+20</td>\n",
       "    </tr>\n",
       "    <tr>\n",
       "      <th>2</th>\n",
       "      <td>3.359949e+20</td>\n",
       "      <td>2.842199e+15</td>\n",
       "      <td>2.178659e+20</td>\n",
       "      <td>2.611943e+19</td>\n",
       "      <td>8.281983e+22</td>\n",
       "      <td>1.147204e+19</td>\n",
       "      <td>2.857650e+21</td>\n",
       "      <td>8.985252e+19</td>\n",
       "      <td>5.580330e+21</td>\n",
       "      <td>1.417418e+20</td>\n",
       "    </tr>\n",
       "    <tr>\n",
       "      <th>3</th>\n",
       "      <td>2.096584e+20</td>\n",
       "      <td>2.893552e+19</td>\n",
       "      <td>8.766407e+19</td>\n",
       "      <td>1.597450e+20</td>\n",
       "      <td>9.034470e+20</td>\n",
       "      <td>1.388867e+22</td>\n",
       "      <td>7.349695e+17</td>\n",
       "      <td>9.818634e+20</td>\n",
       "      <td>1.873847e+20</td>\n",
       "      <td>4.734081e+18</td>\n",
       "    </tr>\n",
       "    <tr>\n",
       "      <th>4</th>\n",
       "      <td>7.984484e+19</td>\n",
       "      <td>5.644476e+18</td>\n",
       "      <td>7.776507e+19</td>\n",
       "      <td>8.311794e+21</td>\n",
       "      <td>7.692858e+20</td>\n",
       "      <td>1.336992e+20</td>\n",
       "      <td>3.190944e+18</td>\n",
       "      <td>1.136845e+23</td>\n",
       "      <td>1.502757e+19</td>\n",
       "      <td>5.305190e+18</td>\n",
       "    </tr>\n",
       "    <tr>\n",
       "      <th>...</th>\n",
       "      <td>...</td>\n",
       "      <td>...</td>\n",
       "      <td>...</td>\n",
       "      <td>...</td>\n",
       "      <td>...</td>\n",
       "      <td>...</td>\n",
       "      <td>...</td>\n",
       "      <td>...</td>\n",
       "      <td>...</td>\n",
       "      <td>...</td>\n",
       "    </tr>\n",
       "    <tr>\n",
       "      <th>8756</th>\n",
       "      <td>4.679528e+20</td>\n",
       "      <td>2.584568e+20</td>\n",
       "      <td>1.725249e+19</td>\n",
       "      <td>1.489461e+19</td>\n",
       "      <td>2.078494e+17</td>\n",
       "      <td>4.467655e+21</td>\n",
       "      <td>1.613780e+21</td>\n",
       "      <td>1.910166e+21</td>\n",
       "      <td>1.761497e+20</td>\n",
       "      <td>2.635811e+18</td>\n",
       "    </tr>\n",
       "    <tr>\n",
       "      <th>8757</th>\n",
       "      <td>2.657090e+19</td>\n",
       "      <td>1.841770e+22</td>\n",
       "      <td>2.962791e+18</td>\n",
       "      <td>3.157576e+21</td>\n",
       "      <td>4.562168e+21</td>\n",
       "      <td>6.210070e+20</td>\n",
       "      <td>5.399060e+21</td>\n",
       "      <td>2.281226e+19</td>\n",
       "      <td>2.342377e+20</td>\n",
       "      <td>2.255422e+21</td>\n",
       "    </tr>\n",
       "    <tr>\n",
       "      <th>8758</th>\n",
       "      <td>8.502123e+20</td>\n",
       "      <td>1.871972e+19</td>\n",
       "      <td>1.428931e+18</td>\n",
       "      <td>7.997419e+18</td>\n",
       "      <td>1.032074e+19</td>\n",
       "      <td>3.389267e+20</td>\n",
       "      <td>9.127109e+19</td>\n",
       "      <td>1.402440e+17</td>\n",
       "      <td>1.079209e+21</td>\n",
       "      <td>3.437831e+21</td>\n",
       "    </tr>\n",
       "    <tr>\n",
       "      <th>8759</th>\n",
       "      <td>1.287900e+22</td>\n",
       "      <td>5.300630e+20</td>\n",
       "      <td>8.547005e+19</td>\n",
       "      <td>5.302657e+21</td>\n",
       "      <td>1.488332e+19</td>\n",
       "      <td>4.456376e+18</td>\n",
       "      <td>2.894623e+21</td>\n",
       "      <td>4.479710e+19</td>\n",
       "      <td>5.516330e+20</td>\n",
       "      <td>2.382547e+20</td>\n",
       "    </tr>\n",
       "    <tr>\n",
       "      <th>8760</th>\n",
       "      <td>8.526412e+17</td>\n",
       "      <td>1.783823e+21</td>\n",
       "      <td>4.998620e+20</td>\n",
       "      <td>5.859993e+21</td>\n",
       "      <td>9.114547e+20</td>\n",
       "      <td>5.907238e+20</td>\n",
       "      <td>7.437359e+20</td>\n",
       "      <td>1.413708e+21</td>\n",
       "      <td>4.892763e+19</td>\n",
       "      <td>1.392639e+21</td>\n",
       "    </tr>\n",
       "  </tbody>\n",
       "</table>\n",
       "<p>8761 rows × 10 columns</p>\n",
       "</div>"
      ],
      "text/plain": [
       "                 0             1             2             3             4  \\\n",
       "0     2.163837e+20  7.570096e+19  8.813644e+19  2.198650e+20  6.232496e+22   \n",
       "1     9.066745e+20  9.524847e+20  3.927835e+17  8.480389e+20  2.136511e+20   \n",
       "2     3.359949e+20  2.842199e+15  2.178659e+20  2.611943e+19  8.281983e+22   \n",
       "3     2.096584e+20  2.893552e+19  8.766407e+19  1.597450e+20  9.034470e+20   \n",
       "4     7.984484e+19  5.644476e+18  7.776507e+19  8.311794e+21  7.692858e+20   \n",
       "...            ...           ...           ...           ...           ...   \n",
       "8756  4.679528e+20  2.584568e+20  1.725249e+19  1.489461e+19  2.078494e+17   \n",
       "8757  2.657090e+19  1.841770e+22  2.962791e+18  3.157576e+21  4.562168e+21   \n",
       "8758  8.502123e+20  1.871972e+19  1.428931e+18  7.997419e+18  1.032074e+19   \n",
       "8759  1.287900e+22  5.300630e+20  8.547005e+19  5.302657e+21  1.488332e+19   \n",
       "8760  8.526412e+17  1.783823e+21  4.998620e+20  5.859993e+21  9.114547e+20   \n",
       "\n",
       "                 5             6             7             8             9  \n",
       "0     1.347115e+19  8.298759e+21  1.797504e+18  5.966618e+21  1.346515e+17  \n",
       "1     5.716574e+21  3.747493e+19  1.757802e+21  6.695430e+22  1.487759e+20  \n",
       "2     1.147204e+19  2.857650e+21  8.985252e+19  5.580330e+21  1.417418e+20  \n",
       "3     1.388867e+22  7.349695e+17  9.818634e+20  1.873847e+20  4.734081e+18  \n",
       "4     1.336992e+20  3.190944e+18  1.136845e+23  1.502757e+19  5.305190e+18  \n",
       "...            ...           ...           ...           ...           ...  \n",
       "8756  4.467655e+21  1.613780e+21  1.910166e+21  1.761497e+20  2.635811e+18  \n",
       "8757  6.210070e+20  5.399060e+21  2.281226e+19  2.342377e+20  2.255422e+21  \n",
       "8758  3.389267e+20  9.127109e+19  1.402440e+17  1.079209e+21  3.437831e+21  \n",
       "8759  4.456376e+18  2.894623e+21  4.479710e+19  5.516330e+20  2.382547e+20  \n",
       "8760  5.907238e+20  7.437359e+20  1.413708e+21  4.892763e+19  1.392639e+21  \n",
       "\n",
       "[8761 rows x 10 columns]"
      ]
     },
     "execution_count": 23,
     "metadata": {},
     "output_type": "execute_result"
    }
   ],
   "source": [
    "monte_carlo_runs = 10\n",
    "\n",
    "buy_sell_mc = {}\n",
    "for run in range(0, monte_carlo_runs):\n",
    "    np.random.seed(seed=run)\n",
    "    \n",
    "    buy_sell = st.alpha.rvs(fit_shape_buy_sell, loc=fit_loc_buy_sell, scale=fit_scale_buy_sell, size=timesteps + 1)\n",
    "    buy_sell_mc[run] = np.exp(buy_sell)\n",
    "\n",
    "buy_sell_mc_df = pd.DataFrame(buy_sell_mc)\n",
    "buy_sell_mc_df.to_csv('data/buy_sell_mc.csv')\n",
    "buy_sell_mc_df"
   ]
  },
  {
   "cell_type": "markdown",
   "metadata": {},
   "source": [
    "### Liquidity Demand Events"
   ]
  },
  {
   "cell_type": "code",
   "execution_count": 24,
   "metadata": {},
   "outputs": [
    {
     "data": {
      "text/html": [
       "<div>\n",
       "<style scoped>\n",
       "    .dataframe tbody tr th:only-of-type {\n",
       "        vertical-align: middle;\n",
       "    }\n",
       "\n",
       "    .dataframe tbody tr th {\n",
       "        vertical-align: top;\n",
       "    }\n",
       "\n",
       "    .dataframe thead th {\n",
       "        text-align: right;\n",
       "    }\n",
       "</style>\n",
       "<table border=\"1\" class=\"dataframe\">\n",
       "  <thead>\n",
       "    <tr style=\"text-align: right;\">\n",
       "      <th></th>\n",
       "      <th>0</th>\n",
       "      <th>1</th>\n",
       "      <th>2</th>\n",
       "      <th>3</th>\n",
       "      <th>4</th>\n",
       "      <th>5</th>\n",
       "      <th>6</th>\n",
       "      <th>7</th>\n",
       "      <th>8</th>\n",
       "      <th>9</th>\n",
       "    </tr>\n",
       "  </thead>\n",
       "  <tbody>\n",
       "    <tr>\n",
       "      <th>0</th>\n",
       "      <td>1.446570e+20</td>\n",
       "      <td>5.060642e+19</td>\n",
       "      <td>5.890844e+19</td>\n",
       "      <td>1.469880e+20</td>\n",
       "      <td>4.399110e+22</td>\n",
       "      <td>9.066131e+18</td>\n",
       "      <td>5.685084e+21</td>\n",
       "      <td>1.232147e+18</td>\n",
       "      <td>4.072046e+21</td>\n",
       "      <td>9.608383e+16</td>\n",
       "    </tr>\n",
       "    <tr>\n",
       "      <th>1</th>\n",
       "      <td>6.092140e+20</td>\n",
       "      <td>6.401730e+20</td>\n",
       "      <td>2.750487e+17</td>\n",
       "      <td>5.696066e+20</td>\n",
       "      <td>1.428276e+20</td>\n",
       "      <td>3.899577e+21</td>\n",
       "      <td>2.509532e+19</td>\n",
       "      <td>1.186215e+21</td>\n",
       "      <td>4.731910e+22</td>\n",
       "      <td>9.942340e+19</td>\n",
       "    </tr>\n",
       "    <tr>\n",
       "      <th>2</th>\n",
       "      <td>2.248305e+20</td>\n",
       "      <td>2.227779e+15</td>\n",
       "      <td>1.456495e+20</td>\n",
       "      <td>1.751596e+19</td>\n",
       "      <td>5.875952e+22</td>\n",
       "      <td>7.728828e+18</td>\n",
       "      <td>1.936087e+21</td>\n",
       "      <td>6.005428e+19</td>\n",
       "      <td>3.805645e+21</td>\n",
       "      <td>9.472088e+19</td>\n",
       "    </tr>\n",
       "    <tr>\n",
       "      <th>3</th>\n",
       "      <td>1.401546e+20</td>\n",
       "      <td>1.939591e+19</td>\n",
       "      <td>5.859305e+19</td>\n",
       "      <td>1.067579e+20</td>\n",
       "      <td>6.070333e+20</td>\n",
       "      <td>9.576679e+21</td>\n",
       "      <td>5.097682e+17</td>\n",
       "      <td>6.600342e+20</td>\n",
       "      <td>1.252471e+20</td>\n",
       "      <td>3.212041e+18</td>\n",
       "    </tr>\n",
       "    <tr>\n",
       "      <th>4</th>\n",
       "      <td>5.337269e+19</td>\n",
       "      <td>3.823693e+18</td>\n",
       "      <td>5.198430e+19</td>\n",
       "      <td>5.694120e+21</td>\n",
       "      <td>5.164459e+20</td>\n",
       "      <td>8.934512e+19</td>\n",
       "      <td>2.173399e+18</td>\n",
       "      <td>8.114506e+22</td>\n",
       "      <td>1.010680e+19</td>\n",
       "      <td>3.595819e+18</td>\n",
       "    </tr>\n",
       "    <tr>\n",
       "      <th>...</th>\n",
       "      <td>...</td>\n",
       "      <td>...</td>\n",
       "      <td>...</td>\n",
       "      <td>...</td>\n",
       "      <td>...</td>\n",
       "      <td>...</td>\n",
       "      <td>...</td>\n",
       "      <td>...</td>\n",
       "      <td>...</td>\n",
       "      <td>...</td>\n",
       "    </tr>\n",
       "    <tr>\n",
       "      <th>8756</th>\n",
       "      <td>3.134647e+20</td>\n",
       "      <td>1.728379e+20</td>\n",
       "      <td>1.159388e+19</td>\n",
       "      <td>1.001792e+19</td>\n",
       "      <td>1.471312e+17</td>\n",
       "      <td>3.039753e+21</td>\n",
       "      <td>1.088342e+21</td>\n",
       "      <td>1.289848e+21</td>\n",
       "      <td>1.177303e+20</td>\n",
       "      <td>1.798927e+18</td>\n",
       "    </tr>\n",
       "    <tr>\n",
       "      <th>8757</th>\n",
       "      <td>1.781737e+19</td>\n",
       "      <td>1.274916e+22</td>\n",
       "      <td>2.019563e+18</td>\n",
       "      <td>2.141212e+21</td>\n",
       "      <td>3.104720e+21</td>\n",
       "      <td>4.164730e+20</td>\n",
       "      <td>3.680720e+21</td>\n",
       "      <td>1.530776e+19</td>\n",
       "      <td>1.566129e+20</td>\n",
       "      <td>1.524994e+21</td>\n",
       "    </tr>\n",
       "    <tr>\n",
       "      <th>8758</th>\n",
       "      <td>5.710743e+20</td>\n",
       "      <td>1.257423e+19</td>\n",
       "      <td>9.822530e+17</td>\n",
       "      <td>5.402075e+18</td>\n",
       "      <td>6.958269e+18</td>\n",
       "      <td>2.267978e+20</td>\n",
       "      <td>6.100148e+19</td>\n",
       "      <td>9.999709e+16</td>\n",
       "      <td>7.258801e+20</td>\n",
       "      <td>2.333095e+21</td>\n",
       "    </tr>\n",
       "    <tr>\n",
       "      <th>8759</th>\n",
       "      <td>8.871576e+21</td>\n",
       "      <td>3.552415e+20</td>\n",
       "      <td>5.712817e+19</td>\n",
       "      <td>3.614305e+21</td>\n",
       "      <td>1.001037e+19</td>\n",
       "      <td>3.025323e+18</td>\n",
       "      <td>1.961360e+21</td>\n",
       "      <td>2.998160e+19</td>\n",
       "      <td>3.697581e+20</td>\n",
       "      <td>1.593035e+20</td>\n",
       "    </tr>\n",
       "    <tr>\n",
       "      <th>8760</th>\n",
       "      <td>5.901392e+17</td>\n",
       "      <td>1.203907e+21</td>\n",
       "      <td>3.349233e+20</td>\n",
       "      <td>3.998489e+21</td>\n",
       "      <td>6.124439e+20</td>\n",
       "      <td>3.960761e+20</td>\n",
       "      <td>4.992081e+20</td>\n",
       "      <td>9.525248e+20</td>\n",
       "      <td>3.273795e+19</td>\n",
       "      <td>9.382326e+20</td>\n",
       "    </tr>\n",
       "  </tbody>\n",
       "</table>\n",
       "<p>8761 rows × 10 columns</p>\n",
       "</div>"
      ],
      "text/plain": [
       "                 0             1             2             3             4  \\\n",
       "0     1.446570e+20  5.060642e+19  5.890844e+19  1.469880e+20  4.399110e+22   \n",
       "1     6.092140e+20  6.401730e+20  2.750487e+17  5.696066e+20  1.428276e+20   \n",
       "2     2.248305e+20  2.227779e+15  1.456495e+20  1.751596e+19  5.875952e+22   \n",
       "3     1.401546e+20  1.939591e+19  5.859305e+19  1.067579e+20  6.070333e+20   \n",
       "4     5.337269e+19  3.823693e+18  5.198430e+19  5.694120e+21  5.164459e+20   \n",
       "...            ...           ...           ...           ...           ...   \n",
       "8756  3.134647e+20  1.728379e+20  1.159388e+19  1.001792e+19  1.471312e+17   \n",
       "8757  1.781737e+19  1.274916e+22  2.019563e+18  2.141212e+21  3.104720e+21   \n",
       "8758  5.710743e+20  1.257423e+19  9.822530e+17  5.402075e+18  6.958269e+18   \n",
       "8759  8.871576e+21  3.552415e+20  5.712817e+19  3.614305e+21  1.001037e+19   \n",
       "8760  5.901392e+17  1.203907e+21  3.349233e+20  3.998489e+21  6.124439e+20   \n",
       "\n",
       "                 5             6             7             8             9  \n",
       "0     9.066131e+18  5.685084e+21  1.232147e+18  4.072046e+21  9.608383e+16  \n",
       "1     3.899577e+21  2.509532e+19  1.186215e+21  4.731910e+22  9.942340e+19  \n",
       "2     7.728828e+18  1.936087e+21  6.005428e+19  3.805645e+21  9.472088e+19  \n",
       "3     9.576679e+21  5.097682e+17  6.600342e+20  1.252471e+20  3.212041e+18  \n",
       "4     8.934512e+19  2.173399e+18  8.114506e+22  1.010680e+19  3.595819e+18  \n",
       "...            ...           ...           ...           ...           ...  \n",
       "8756  3.039753e+21  1.088342e+21  1.289848e+21  1.177303e+20  1.798927e+18  \n",
       "8757  4.164730e+20  3.680720e+21  1.530776e+19  1.566129e+20  1.524994e+21  \n",
       "8758  2.267978e+20  6.100148e+19  9.999709e+16  7.258801e+20  2.333095e+21  \n",
       "8759  3.025323e+18  1.961360e+21  2.998160e+19  3.697581e+20  1.593035e+20  \n",
       "8760  3.960761e+20  4.992081e+20  9.525248e+20  3.273795e+19  9.382326e+20  \n",
       "\n",
       "[8761 rows x 10 columns]"
      ]
     },
     "execution_count": 24,
     "metadata": {},
     "output_type": "execute_result"
    }
   ],
   "source": [
    "monte_carlo_runs = 10\n",
    "\n",
    "liquidity_mc = {}\n",
    "for run in range(0, monte_carlo_runs):\n",
    "    np.random.seed(seed=run)\n",
    "    \n",
    "    liquidity = st.alpha.rvs(fit_shape_liquidity, loc=fit_loc_liquidity, scale=fit_scale_liquidity, size=timesteps + 1)\n",
    "    liquidity_mc[run] = np.exp(liquidity)\n",
    "\n",
    "liquidity_mc_df = pd.DataFrame(liquidity_mc)\n",
    "liquidity_mc_df.to_csv('data/liquidity_mc.csv')\n",
    "liquidity_mc_df"
   ]
  },
  {
   "cell_type": "markdown",
   "metadata": {},
   "source": [
    "## Implementation information\n",
    "Below is an example of how to integrate these univariate time series datasets into the exogenous process section of a cadCAD model, assuming each timestep is an hour."
   ]
  },
  {
   "cell_type": "markdown",
   "metadata": {},
   "source": [
    "```\n",
    "# exogenousProcesses.py\n",
    "\n",
    "# import libraries\n",
    "import pandas as pd\n",
    "\n",
    "# import data\n",
    "liquidity_samples = pd.read_csv('data/liquidity_samples.csv')\n",
    "buy_sell_samples = pd.read_csv('data/buy_sell.csv')\n",
    "\n",
    "# mechanisms\n",
    "def liquidity_exogenous_process(params, step, sL, s, _input):\n",
    "    y = 'liquidity'\n",
    "    timestep = s['timestep'] \n",
    "    x = liquidity_samples.Liquidity_Samples.values[timestep]\n",
    "    return (y, x)\n",
    "    \n",
    "def buy_sell_exogenous_process(params, step, sL, s, _input):\n",
    "    y = 'buy_sell'\n",
    "    timestep = s['timestep'] \n",
    "    x = buy_sell_samples.Buy_Sell_Samples.values[timestep]\n",
    "    return (y, x)\n",
    "    \n",
    "```"
   ]
  }
 ],
 "metadata": {
  "kernelspec": {
   "display_name": "Python (Reflexer)",
   "language": "python",
   "name": "python-reflexer"
  },
  "language_info": {
   "codemirror_mode": {
    "name": "ipython",
    "version": 3
   },
   "file_extension": ".py",
   "mimetype": "text/x-python",
   "name": "python",
   "nbconvert_exporter": "python",
   "pygments_lexer": "ipython3",
   "version": "3.8.5"
  }
 },
 "nbformat": 4,
 "nbformat_minor": 4
}
