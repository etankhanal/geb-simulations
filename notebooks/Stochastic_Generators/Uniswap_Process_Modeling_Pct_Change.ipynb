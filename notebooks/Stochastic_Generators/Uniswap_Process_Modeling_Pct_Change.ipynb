{
 "cells": [
  {
   "cell_type": "markdown",
   "metadata": {},
   "source": [
    "# Exogenous Uniswap Process modeling, Percent Change\n",
    "\n",
    "##### Note: This is a copy of Uniswap_Process_Modeling.ipynb that uses percent of change instead of absolute values. This produces liquidity demand events(swaps and add liquidity) that are percents of the pool and thus not dependent upon historical pool sizes\n",
    "\n",
    "## Liquidity demand stochastic process\n",
    "\n",
    "1. Acquire time series of order book for single collateral DAI 2017-2019; this is the proxy for the liquidity demand of RAI\n",
    "2. Fit a parametric distribution to the data, resulting in a distribution $F^D_{RAI}(t;\\mu_{RAI})$ and fitted parameters $\\mu_{RAI}$.\n",
    "\n",
    "\n",
    "To obtain this data, we ran a [Uniswap cadCAD model](https://github.com/cadCAD-org/demos/tree/master/demos/Multiscale/uniswap) twice, once to obtain Buy/Sell univariate time series data and once for obtaining univariate time series liquidity data. Shown below is the modification between runs. We then saved these runs as csv files and continue bring the data into this notebook for building stochastic generators.\n",
    "\n",
    "\n",
    "```\n",
    "# Mechanisms\n",
    "def mechanismHub_DAI(params, step, history, current_state, input_):\n",
    "    action = input_['action_id']\n",
    "    # 1 Buy/Sell\n",
    "    if action == 'TokenPurchase':\n",
    "        return ethToToken_DAI(params, step, history, current_state, input_)\n",
    "    elif action == 'EthPurchase':\n",
    "        return tokenToEth_DAI(params, step, history, current_state, input_)\n",
    "    # 2 Add/remove liquidity\n",
    "#     if action == 'AddLiquidity':\n",
    "#         return addLiquidity_DAI(params, step, history, current_state, input_)\n",
    "#     elif action == 'Transfer':\n",
    "#         return removeLiquidity_DAI(params, step, history, current_state, input_)\n",
    "    return('DAI_balance', abs(current_state['DAI_balance']))\n",
    "```"
   ]
  },
  {
   "cell_type": "code",
   "execution_count": 1,
   "metadata": {},
   "outputs": [],
   "source": [
    "# import libraries\n",
    "import pandas as pd\n",
    "import numpy as np\n",
    "import pandas as pd\n",
    "import scipy.stats as st\n",
    "from sklearn.metrics import mean_squared_error\n",
    "import matplotlib.pyplot as plt\n",
    "from math import sqrt\n",
    "\n",
    "%matplotlib inline"
   ]
  },
  {
   "cell_type": "code",
   "execution_count": 2,
   "metadata": {},
   "outputs": [],
   "source": [
    "# https://stackoverflow.com/questions/6620471/fitting-empirical-distribution-to-theoretical-ones-with-scipy-python?lq=1\n",
    "def get_best_distribution(data):\n",
    "    dist_names = [\"alpha\",\"gamma\",\"norm\", \"exponweib\", \"weibull_max\", \"weibull_min\", \"pareto\", \"genextreme\"]\n",
    "    dist_results = []\n",
    "    params = {}\n",
    "    for dist_name in dist_names:\n",
    "        dist = getattr(st, dist_name)\n",
    "        param = dist.fit(data)\n",
    "\n",
    "        params[dist_name] = param\n",
    "        # Applying the Kolmogorov-Smirnov test\n",
    "        D, p = st.kstest(data, dist_name, args=param)\n",
    "        print(\"p value for \"+dist_name+\" = \"+str(p))\n",
    "        dist_results.append((dist_name, p))\n",
    "\n",
    "    # select the best fitted distribution\n",
    "    best_dist, best_p = (max(dist_results, key=lambda item: item[1]))\n",
    "    # store the name of the best fit and its p value\n",
    "\n",
    "    print(\"Best fitting distribution: \"+str(best_dist))\n",
    "    print(\"Best p value: \"+ str(best_p))\n",
    "    print(\"Parameters for the best fit: \"+ str(params[best_dist]))\n",
    "\n",
    "    return best_dist, best_p, params[best_dist]\n",
    "\n",
    "\n",
    "def kl_divergence(p, q):\n",
    "    return sum(p[i] * np.log2(p[i]/q[i]) for i in range(len(p)))"
   ]
  },
  {
   "cell_type": "markdown",
   "metadata": {},
   "source": [
    "## Data preprocessing\n",
    "\n",
    "\n",
    "We examine the data two univariate time series,buy/sell and liquidity, make changes absolute, and remove all zero values."
   ]
  },
  {
   "cell_type": "code",
   "execution_count": 3,
   "metadata": {},
   "outputs": [
    {
     "data": {
      "text/html": [
       "<div>\n",
       "<style scoped>\n",
       "    .dataframe tbody tr th:only-of-type {\n",
       "        vertical-align: middle;\n",
       "    }\n",
       "\n",
       "    .dataframe tbody tr th {\n",
       "        vertical-align: top;\n",
       "    }\n",
       "\n",
       "    .dataframe thead th {\n",
       "        text-align: right;\n",
       "    }\n",
       "</style>\n",
       "<table border=\"1\" class=\"dataframe\">\n",
       "  <thead>\n",
       "    <tr style=\"text-align: right;\">\n",
       "      <th></th>\n",
       "      <th>Unnamed: 0</th>\n",
       "      <th>DAI_balance</th>\n",
       "      <th>ETH_balance</th>\n",
       "      <th>UNI_supply</th>\n",
       "      <th>simulation</th>\n",
       "      <th>subset</th>\n",
       "      <th>run</th>\n",
       "      <th>substep</th>\n",
       "      <th>timestep</th>\n",
       "    </tr>\n",
       "  </thead>\n",
       "  <tbody>\n",
       "    <tr>\n",
       "      <th>0</th>\n",
       "      <td>1</td>\n",
       "      <td>5905000000000000000000</td>\n",
       "      <td>29974673940746674209</td>\n",
       "      <td>30000000000000000000</td>\n",
       "      <td>0</td>\n",
       "      <td>0</td>\n",
       "      <td>1</td>\n",
       "      <td>1</td>\n",
       "      <td>1</td>\n",
       "    </tr>\n",
       "    <tr>\n",
       "      <th>1</th>\n",
       "      <td>2</td>\n",
       "      <td>5907000000000000000000</td>\n",
       "      <td>29964555511671268196</td>\n",
       "      <td>30000000000000000000</td>\n",
       "      <td>0</td>\n",
       "      <td>0</td>\n",
       "      <td>1</td>\n",
       "      <td>1</td>\n",
       "      <td>2</td>\n",
       "    </tr>\n",
       "    <tr>\n",
       "      <th>2</th>\n",
       "      <td>3</td>\n",
       "      <td>5905035238623641640532</td>\n",
       "      <td>29974555511671268196</td>\n",
       "      <td>30000000000000000000</td>\n",
       "      <td>0</td>\n",
       "      <td>0</td>\n",
       "      <td>1</td>\n",
       "      <td>1</td>\n",
       "      <td>3</td>\n",
       "    </tr>\n",
       "    <tr>\n",
       "      <th>3</th>\n",
       "      <td>4</td>\n",
       "      <td>5903071785798411448958</td>\n",
       "      <td>29984555511671268196</td>\n",
       "      <td>30000000000000000000</td>\n",
       "      <td>0</td>\n",
       "      <td>0</td>\n",
       "      <td>1</td>\n",
       "      <td>1</td>\n",
       "      <td>4</td>\n",
       "    </tr>\n",
       "    <tr>\n",
       "      <th>4</th>\n",
       "      <td>5</td>\n",
       "      <td>5901109640216828255225</td>\n",
       "      <td>29994555511671268196</td>\n",
       "      <td>30000000000000000000</td>\n",
       "      <td>0</td>\n",
       "      <td>0</td>\n",
       "      <td>1</td>\n",
       "      <td>1</td>\n",
       "      <td>5</td>\n",
       "    </tr>\n",
       "  </tbody>\n",
       "</table>\n",
       "</div>"
      ],
      "text/plain": [
       "   Unnamed: 0             DAI_balance           ETH_balance  \\\n",
       "0           1  5905000000000000000000  29974673940746674209   \n",
       "1           2  5907000000000000000000  29964555511671268196   \n",
       "2           3  5905035238623641640532  29974555511671268196   \n",
       "3           4  5903071785798411448958  29984555511671268196   \n",
       "4           5  5901109640216828255225  29994555511671268196   \n",
       "\n",
       "             UNI_supply  simulation  subset  run  substep  timestep  \n",
       "0  30000000000000000000           0       0    1        1         1  \n",
       "1  30000000000000000000           0       0    1        1         2  \n",
       "2  30000000000000000000           0       0    1        1         3  \n",
       "3  30000000000000000000           0       0    1        1         4  \n",
       "4  30000000000000000000           0       0    1        1         5  "
      ]
     },
     "execution_count": 3,
     "metadata": {},
     "output_type": "execute_result"
    }
   ],
   "source": [
    "# import data\n",
    "buy_sell_uniswap_events = pd.read_csv('data/uniswap_data_buy_sell.csv')\n",
    "liquidity_uniswap_events = pd.read_csv('data/uniswap_liquidity_data.csv')\n",
    "\n",
    "buy_sell_uniswap_events.head()"
   ]
  },
  {
   "cell_type": "code",
   "execution_count": 4,
   "metadata": {},
   "outputs": [
    {
     "data": {
      "text/html": [
       "<div>\n",
       "<style scoped>\n",
       "    .dataframe tbody tr th:only-of-type {\n",
       "        vertical-align: middle;\n",
       "    }\n",
       "\n",
       "    .dataframe tbody tr th {\n",
       "        vertical-align: top;\n",
       "    }\n",
       "\n",
       "    .dataframe thead th {\n",
       "        text-align: right;\n",
       "    }\n",
       "</style>\n",
       "<table border=\"1\" class=\"dataframe\">\n",
       "  <thead>\n",
       "    <tr style=\"text-align: right;\">\n",
       "      <th></th>\n",
       "      <th>Unnamed: 0</th>\n",
       "      <th>DAI_balance</th>\n",
       "      <th>ETH_balance</th>\n",
       "      <th>UNI_supply</th>\n",
       "      <th>simulation</th>\n",
       "      <th>subset</th>\n",
       "      <th>run</th>\n",
       "      <th>substep</th>\n",
       "      <th>timestep</th>\n",
       "    </tr>\n",
       "  </thead>\n",
       "  <tbody>\n",
       "    <tr>\n",
       "      <th>0</th>\n",
       "      <td>1</td>\n",
       "      <td>5900000000000000000000</td>\n",
       "      <td>29974673940746674209</td>\n",
       "      <td>30000000000000000000</td>\n",
       "      <td>0</td>\n",
       "      <td>0</td>\n",
       "      <td>1</td>\n",
       "      <td>1</td>\n",
       "      <td>1</td>\n",
       "    </tr>\n",
       "    <tr>\n",
       "      <th>1</th>\n",
       "      <td>2</td>\n",
       "      <td>5900000000000000000000</td>\n",
       "      <td>29964546939628433685</td>\n",
       "      <td>30000000000000000000</td>\n",
       "      <td>0</td>\n",
       "      <td>0</td>\n",
       "      <td>1</td>\n",
       "      <td>1</td>\n",
       "      <td>2</td>\n",
       "    </tr>\n",
       "    <tr>\n",
       "      <th>2</th>\n",
       "      <td>3</td>\n",
       "      <td>5900000000000000000000</td>\n",
       "      <td>29974546939628433685</td>\n",
       "      <td>30000000000000000000</td>\n",
       "      <td>0</td>\n",
       "      <td>0</td>\n",
       "      <td>1</td>\n",
       "      <td>1</td>\n",
       "      <td>3</td>\n",
       "    </tr>\n",
       "    <tr>\n",
       "      <th>3</th>\n",
       "      <td>4</td>\n",
       "      <td>5900000000000000000000</td>\n",
       "      <td>29984546939628433685</td>\n",
       "      <td>30000000000000000000</td>\n",
       "      <td>0</td>\n",
       "      <td>0</td>\n",
       "      <td>1</td>\n",
       "      <td>1</td>\n",
       "      <td>4</td>\n",
       "    </tr>\n",
       "    <tr>\n",
       "      <th>4</th>\n",
       "      <td>5</td>\n",
       "      <td>5900000000000000000000</td>\n",
       "      <td>29994546939628433685</td>\n",
       "      <td>30000000000000000000</td>\n",
       "      <td>0</td>\n",
       "      <td>0</td>\n",
       "      <td>1</td>\n",
       "      <td>1</td>\n",
       "      <td>5</td>\n",
       "    </tr>\n",
       "  </tbody>\n",
       "</table>\n",
       "</div>"
      ],
      "text/plain": [
       "   Unnamed: 0             DAI_balance           ETH_balance  \\\n",
       "0           1  5900000000000000000000  29974673940746674209   \n",
       "1           2  5900000000000000000000  29964546939628433685   \n",
       "2           3  5900000000000000000000  29974546939628433685   \n",
       "3           4  5900000000000000000000  29984546939628433685   \n",
       "4           5  5900000000000000000000  29994546939628433685   \n",
       "\n",
       "             UNI_supply  simulation  subset  run  substep  timestep  \n",
       "0  30000000000000000000           0       0    1        1         1  \n",
       "1  30000000000000000000           0       0    1        1         2  \n",
       "2  30000000000000000000           0       0    1        1         3  \n",
       "3  30000000000000000000           0       0    1        1         4  \n",
       "4  30000000000000000000           0       0    1        1         5  "
      ]
     },
     "execution_count": 4,
     "metadata": {},
     "output_type": "execute_result"
    }
   ],
   "source": [
    "liquidity_uniswap_events.head()"
   ]
  },
  {
   "cell_type": "code",
   "execution_count": 5,
   "metadata": {},
   "outputs": [
    {
     "data": {
      "text/plain": [
       "<AxesSubplot:title={'center':'Dai liquidity univariate series'}, xlabel='timestep'>"
      ]
     },
     "execution_count": 5,
     "metadata": {},
     "output_type": "execute_result"
    },
    {
     "data": {
      "image/png": "[encoded data removed]",
      "text/plain": [
       "<Figure size 432x288 with 1 Axes>"
      ]
     },
     "metadata": {
      "needs_background": "light"
     },
     "output_type": "display_data"
    }
   ],
   "source": [
    "# liquidity series\n",
    "liquidity_uniswap_events['DAI_balance'] = liquidity_uniswap_events['DAI_balance'].astype(float)\n",
    "liquidity_uniswap_events['DAI_pct_change'] = abs(liquidity_uniswap_events['DAI_balance'].pct_change())\n",
    "liquidity_uniswap_events['DAI_pct_change'].fillna(0,inplace=True)\n",
    "liquidity_uniswap_events = liquidity_uniswap_events.query('DAI_pct_change > 0') \n",
    "liquidity_uniswap_events.plot(x='timestep',y='DAI_pct_change',title='Dai liquidity univariate series')"
   ]
  },
  {
   "cell_type": "code",
   "execution_count": 6,
   "metadata": {},
   "outputs": [
    {
     "data": {
      "text/plain": [
       "Text(0.5, 1.0, 'Histogram of Liquidity IID Samples')"
      ]
     },
     "execution_count": 6,
     "metadata": {},
     "output_type": "execute_result"
    },
    {
     "data": {
      "image/png": "[encoded data removed]",
      "text/plain": [
       "<Figure size 432x288 with 1 Axes>"
      ]
     },
     "metadata": {
      "needs_background": "light"
     },
     "output_type": "display_data"
    }
   ],
   "source": [
    "plt.hist(liquidity_uniswap_events['DAI_pct_change'].apply(np.log))\n",
    "plt.title('Histogram of Liquidity IID Samples')"
   ]
  },
  {
   "cell_type": "code",
   "execution_count": 7,
   "metadata": {},
   "outputs": [
    {
     "data": {
      "text/plain": [
       "<AxesSubplot:title={'center':'Dai Buy/Sell Univariate Series'}, xlabel='timestep'>"
      ]
     },
     "execution_count": 7,
     "metadata": {},
     "output_type": "execute_result"
    },
    {
     "data": {
      "image/png": "[encoded data removed]",
      "text/plain": [
       "<Figure size 432x288 with 1 Axes>"
      ]
     },
     "metadata": {
      "needs_background": "light"
     },
     "output_type": "display_data"
    }
   ],
   "source": [
    "# buy/sell series\n",
    "buy_sell_uniswap_events['DAI_balance'] = buy_sell_uniswap_events['DAI_balance'].astype(float)\n",
    "buy_sell_uniswap_events['DAI_pct_change'] = abs(buy_sell_uniswap_events['DAI_balance'].pct_change())\n",
    "buy_sell_uniswap_events['DAI_pct_change'].fillna(0,inplace=True)\n",
    "buy_sell_uniswap_events = buy_sell_uniswap_events.query('DAI_pct_change > 0') \n",
    "buy_sell_uniswap_events.plot(x='timestep',y='DAI_pct_change',title='Dai Buy/Sell Univariate Series')"
   ]
  },
  {
   "cell_type": "code",
   "execution_count": 8,
   "metadata": {},
   "outputs": [
    {
     "data": {
      "text/plain": [
       "Text(0.5, 1.0, 'Histogram of Buy/Sell IID Samples')"
      ]
     },
     "execution_count": 8,
     "metadata": {},
     "output_type": "execute_result"
    },
    {
     "data": {
      "image/png": "[encoded data removed]",
      "text/plain": [
       "<Figure size 432x288 with 1 Axes>"
      ]
     },
     "metadata": {
      "needs_background": "light"
     },
     "output_type": "display_data"
    }
   ],
   "source": [
    "plt.hist(buy_sell_uniswap_events['DAI_pct_change'].apply(np.log))\n",
    "plt.title('Histogram of Buy/Sell IID Samples')"
   ]
  },
  {
   "cell_type": "markdown",
   "metadata": {},
   "source": [
    "## Distribution fitting\n",
    "\n",
    "We take the log of liquidity data prior to fitting to make the trend more discernible. We fit both the liquidity and buy/sell univariate series to an alpha distribution. "
   ]
  },
  {
   "cell_type": "code",
   "execution_count": 9,
   "metadata": {},
   "outputs": [],
   "source": [
    "# We take the log of liquidity data prior to fitting to make the trend more discernible \n",
    "#distribution, pvalue, params = get_best_distribution(liquidity_uniswap_events['DAI_diff'].apply(np.log).values)"
   ]
  },
  {
   "cell_type": "code",
   "execution_count": 10,
   "metadata": {},
   "outputs": [
    {
     "name": "stderr",
     "output_type": "stream",
     "text": [
      "/Users/georgekellerman/github/geb-sims/venv/lib/python3.8/site-packages/scipy/stats/_distn_infrastructure.py:2429: RuntimeWarning: invalid value encountered in double_scalars\n",
      "  Lhat = muhat - Shat*mu\n"
     ]
    }
   ],
   "source": [
    "# fit liquidity to the alpha distribution.\n",
    "fit_shape_liquidity, fit_loc_liquidity, fit_scale_liquidity =st.alpha.fit(liquidity_uniswap_events['DAI_pct_change'].apply(np.log).values)\n"
   ]
  },
  {
   "cell_type": "code",
   "execution_count": 11,
   "metadata": {},
   "outputs": [
    {
     "data": {
      "text/plain": [
       "8760"
      ]
     },
     "execution_count": 11,
     "metadata": {},
     "output_type": "execute_result"
    }
   ],
   "source": [
    "timesteps = 24 * 365 # 24 hours a day * 365 days a year \n",
    "timesteps"
   ]
  },
  {
   "cell_type": "code",
   "execution_count": 12,
   "metadata": {},
   "outputs": [
    {
     "data": {
      "text/plain": [
       "Text(0.5, 1.0, 'Histogram of Liquidity IID Samples')"
      ]
     },
     "execution_count": 12,
     "metadata": {},
     "output_type": "execute_result"
    },
    {
     "data": {
      "image/png": "[encoded data removed]",
      "text/plain": [
       "<Figure size 432x288 with 1 Axes>"
      ]
     },
     "metadata": {
      "needs_background": "light"
     },
     "output_type": "display_data"
    }
   ],
   "source": [
    "# 8760 timestamp sample histogram\n",
    "liquidity = st.alpha.rvs(fit_shape_liquidity, loc=fit_loc_liquidity, scale=fit_scale_liquidity, size=timesteps)\n",
    "plt.hist(liquidity)\n",
    "plt.title('Histogram of Liquidity IID Samples')"
   ]
  },
  {
   "cell_type": "code",
   "execution_count": 13,
   "metadata": {},
   "outputs": [
    {
     "data": {
      "text/plain": [
       "Text(0.5, 1.0, 'Histogram of Liquidity IID Samples against original data')"
      ]
     },
     "execution_count": 13,
     "metadata": {},
     "output_type": "execute_result"
    },
    {
     "data": {
      "image/png": "[encoded data removed]",
      "text/plain": [
       "<Figure size 432x288 with 1 Axes>"
      ]
     },
     "metadata": {
      "needs_background": "light"
     },
     "output_type": "display_data"
    }
   ],
   "source": [
    "plt.hist(liquidity,bins=np.arange(-20, 5),label='Sampled')\n",
    "plt.hist(liquidity_uniswap_events['DAI_pct_change'].apply(np.log),alpha=0.5,bins=np.arange(-20, 5),label='Original')\n",
    "plt.legend()\n",
    "plt.title('Histogram of Liquidity IID Samples against original data')"
   ]
  },
  {
   "cell_type": "code",
   "execution_count": 14,
   "metadata": {},
   "outputs": [],
   "source": [
    "# hist,bins = np.histogram(liquidity,bins=50)\n",
    "# hist_original, bins = np.histogram(liquidity_uniswap_events['DAI_diff'].apply(np.log),bins=50) \n",
    "# kl_divergence(hist,hist_original)"
   ]
  },
  {
   "cell_type": "code",
   "execution_count": 15,
   "metadata": {},
   "outputs": [
    {
     "data": {
      "text/plain": [
       "Text(0.5, 1.0, 'Time Series of Liquidity IID Samples')"
      ]
     },
     "execution_count": 15,
     "metadata": {},
     "output_type": "execute_result"
    },
    {
     "data": {
      "image/png": "[encoded data removed]",
      "text/plain": [
       "<Figure size 432x288 with 1 Axes>"
      ]
     },
     "metadata": {
      "needs_background": "light"
     },
     "output_type": "display_data"
    }
   ],
   "source": [
    "plt.plot(liquidity)\n",
    "plt.title('Time Series of Liquidity IID Samples')"
   ]
  },
  {
   "cell_type": "code",
   "execution_count": 16,
   "metadata": {},
   "outputs": [],
   "source": [
    "# export liquidity series\n",
    "liquidity_samples = pd.DataFrame(np.exp(liquidity),columns=['Liquidity_Samples'])\n",
    "liquidity_samples.to_csv('data/liquidity_samples.csv')"
   ]
  },
  {
   "cell_type": "code",
   "execution_count": 17,
   "metadata": {},
   "outputs": [],
   "source": [
    "# fit buy/sell series distribution\n",
    "#distribution, pvalue, params = get_best_distribution(buy_sell_uniswap_events['DAI_diff'].apply(np.log).values)"
   ]
  },
  {
   "cell_type": "code",
   "execution_count": 18,
   "metadata": {},
   "outputs": [
    {
     "name": "stderr",
     "output_type": "stream",
     "text": [
      "/Users/georgekellerman/github/geb-sims/venv/lib/python3.8/site-packages/scipy/stats/_distn_infrastructure.py:2429: RuntimeWarning: invalid value encountered in double_scalars\n",
      "  Lhat = muhat - Shat*mu\n"
     ]
    }
   ],
   "source": [
    "# Fit buy/sell series\n",
    "fit_shape_buy_sell, fit_loc_buy_sell, fit_scale_buy_sell = st.alpha.fit(buy_sell_uniswap_events['DAI_pct_change'].apply(np.log).values)"
   ]
  },
  {
   "cell_type": "code",
   "execution_count": 19,
   "metadata": {},
   "outputs": [
    {
     "data": {
      "text/plain": [
       "Text(0.5, 1.0, 'Histogram of Buy Sell IID Samples')"
      ]
     },
     "execution_count": 19,
     "metadata": {},
     "output_type": "execute_result"
    },
    {
     "data": {
      "image/png": "[encoded data removed]",
      "text/plain": [
       "<Figure size 432x288 with 1 Axes>"
      ]
     },
     "metadata": {
      "needs_background": "light"
     },
     "output_type": "display_data"
    }
   ],
   "source": [
    "buy_sell = st.alpha.rvs(fit_shape_buy_sell, loc=fit_loc_buy_sell, scale=fit_scale_buy_sell, size=timesteps)\n",
    "\n",
    "plt.hist(buy_sell)\n",
    "plt.title('Histogram of Buy Sell IID Samples')"
   ]
  },
  {
   "cell_type": "code",
   "execution_count": 20,
   "metadata": {},
   "outputs": [
    {
     "data": {
      "text/plain": [
       "Text(0.5, 1.0, 'Time Series of Buy Sell IID Samples')"
      ]
     },
     "execution_count": 20,
     "metadata": {},
     "output_type": "execute_result"
    },
    {
     "data": {
      "image/png": "[encoded data removed]",
      "text/plain": [
       "<Figure size 432x288 with 1 Axes>"
      ]
     },
     "metadata": {
      "needs_background": "light"
     },
     "output_type": "display_data"
    }
   ],
   "source": [
    "plt.plot(buy_sell)\n",
    "plt.title('Time Series of Buy Sell IID Samples')"
   ]
  },
  {
   "cell_type": "code",
   "execution_count": 21,
   "metadata": {},
   "outputs": [
    {
     "data": {
      "text/plain": [
       "Text(0.5, 1.0, 'Histogram of Buy/Sell IID Samples against original data')"
      ]
     },
     "execution_count": 21,
     "metadata": {},
     "output_type": "execute_result"
    },
    {
     "data": {
      "image/png": "[encoded data removed]",
      "text/plain": [
       "<Figure size 432x288 with 1 Axes>"
      ]
     },
     "metadata": {
      "needs_background": "light"
     },
     "output_type": "display_data"
    }
   ],
   "source": [
    "plt.hist(buy_sell,bins=np.arange(-20, 5),label='Sampled')\n",
    "plt.hist(buy_sell_uniswap_events['DAI_pct_change'].apply(np.log),alpha=0.3,bins=np.arange(-20, 5),label='Original')\n",
    "plt.legend()\n",
    "plt.title('Histogram of Buy/Sell IID Samples against original data')"
   ]
  },
  {
   "cell_type": "code",
   "execution_count": 22,
   "metadata": {},
   "outputs": [],
   "source": [
    "# Export buy/sell time series\n",
    "buy_sell_samples = pd.DataFrame(np.exp(buy_sell),columns=['Buy_Sell_Samples'])\n",
    "buy_sell_samples.to_csv('data/buy_sell.csv')"
   ]
  },
  {
   "cell_type": "markdown",
   "metadata": {},
   "source": [
    "## Generate Monte Carlo runs\n",
    "### Buy/Sell Events"
   ]
  },
  {
   "cell_type": "code",
   "execution_count": 23,
   "metadata": {},
   "outputs": [
    {
     "data": {
      "text/html": [
       "<div>\n",
       "<style scoped>\n",
       "    .dataframe tbody tr th:only-of-type {\n",
       "        vertical-align: middle;\n",
       "    }\n",
       "\n",
       "    .dataframe tbody tr th {\n",
       "        vertical-align: top;\n",
       "    }\n",
       "\n",
       "    .dataframe thead th {\n",
       "        text-align: right;\n",
       "    }\n",
       "</style>\n",
       "<table border=\"1\" class=\"dataframe\">\n",
       "  <thead>\n",
       "    <tr style=\"text-align: right;\">\n",
       "      <th></th>\n",
       "      <th>0</th>\n",
       "      <th>1</th>\n",
       "      <th>2</th>\n",
       "      <th>3</th>\n",
       "      <th>4</th>\n",
       "      <th>5</th>\n",
       "      <th>6</th>\n",
       "      <th>7</th>\n",
       "      <th>8</th>\n",
       "      <th>9</th>\n",
       "      <th>...</th>\n",
       "      <th>90</th>\n",
       "      <th>91</th>\n",
       "      <th>92</th>\n",
       "      <th>93</th>\n",
       "      <th>94</th>\n",
       "      <th>95</th>\n",
       "      <th>96</th>\n",
       "      <th>97</th>\n",
       "      <th>98</th>\n",
       "      <th>99</th>\n",
       "    </tr>\n",
       "  </thead>\n",
       "  <tbody>\n",
       "    <tr>\n",
       "      <th>0</th>\n",
       "      <td>1.111313e-04</td>\n",
       "      <td>3.741540e-05</td>\n",
       "      <td>4.378792e-05</td>\n",
       "      <td>0.000113</td>\n",
       "      <td>4.378624e-02</td>\n",
       "      <td>0.000006</td>\n",
       "      <td>5.107329e-03</td>\n",
       "      <td>8.136933e-07</td>\n",
       "      <td>0.003601</td>\n",
       "      <td>5.992266e-08</td>\n",
       "      <td>...</td>\n",
       "      <td>2.831118e-06</td>\n",
       "      <td>5.043949e-06</td>\n",
       "      <td>4.482212e-03</td>\n",
       "      <td>0.000181</td>\n",
       "      <td>0.000517</td>\n",
       "      <td>6.802421e-06</td>\n",
       "      <td>0.000006</td>\n",
       "      <td>2.052471e-03</td>\n",
       "      <td>0.000590</td>\n",
       "      <td>3.274830e-04</td>\n",
       "    </tr>\n",
       "    <tr>\n",
       "      <th>1</th>\n",
       "      <td>4.955300e-04</td>\n",
       "      <td>5.217880e-04</td>\n",
       "      <td>1.752802e-07</td>\n",
       "      <td>0.000462</td>\n",
       "      <td>1.096730e-04</td>\n",
       "      <td>0.003442</td>\n",
       "      <td>1.811356e-05</td>\n",
       "      <td>9.925417e-04</td>\n",
       "      <td>0.047281</td>\n",
       "      <td>7.531794e-05</td>\n",
       "      <td>...</td>\n",
       "      <td>3.006714e-06</td>\n",
       "      <td>1.764581e-05</td>\n",
       "      <td>1.098902e-03</td>\n",
       "      <td>0.000286</td>\n",
       "      <td>0.000183</td>\n",
       "      <td>4.488121e-06</td>\n",
       "      <td>0.007173</td>\n",
       "      <td>5.173320e-02</td>\n",
       "      <td>0.000130</td>\n",
       "      <td>6.723351e-05</td>\n",
       "    </tr>\n",
       "    <tr>\n",
       "      <th>2</th>\n",
       "      <td>1.756759e-04</td>\n",
       "      <td>1.315510e-09</td>\n",
       "      <td>1.119227e-04</td>\n",
       "      <td>0.000012</td>\n",
       "      <td>5.939300e-02</td>\n",
       "      <td>0.000005</td>\n",
       "      <td>1.655244e-03</td>\n",
       "      <td>4.467024e-05</td>\n",
       "      <td>0.003355</td>\n",
       "      <td>7.162761e-05</td>\n",
       "      <td>...</td>\n",
       "      <td>1.568135e-01</td>\n",
       "      <td>1.315776e-05</td>\n",
       "      <td>3.988821e-05</td>\n",
       "      <td>0.000015</td>\n",
       "      <td>0.000387</td>\n",
       "      <td>4.521688e-03</td>\n",
       "      <td>0.001570</td>\n",
       "      <td>4.801290e-05</td>\n",
       "      <td>0.000014</td>\n",
       "      <td>1.752472e-03</td>\n",
       "    </tr>\n",
       "    <tr>\n",
       "      <th>3</th>\n",
       "      <td>1.075437e-04</td>\n",
       "      <td>1.388118e-05</td>\n",
       "      <td>4.354517e-05</td>\n",
       "      <td>0.000081</td>\n",
       "      <td>4.936827e-04</td>\n",
       "      <td>0.008822</td>\n",
       "      <td>3.294308e-07</td>\n",
       "      <td>5.386631e-04</td>\n",
       "      <td>0.000096</td>\n",
       "      <td>2.176527e-06</td>\n",
       "      <td>...</td>\n",
       "      <td>6.446162e-03</td>\n",
       "      <td>1.136120e-06</td>\n",
       "      <td>6.233048e-05</td>\n",
       "      <td>0.034596</td>\n",
       "      <td>0.000039</td>\n",
       "      <td>5.144761e-04</td>\n",
       "      <td>0.006364</td>\n",
       "      <td>1.177848e-05</td>\n",
       "      <td>0.001000</td>\n",
       "      <td>2.248683e-07</td>\n",
       "    </tr>\n",
       "    <tr>\n",
       "      <th>4</th>\n",
       "      <td>3.953465e-05</td>\n",
       "      <td>2.603812e-06</td>\n",
       "      <td>3.847047e-05</td>\n",
       "      <td>0.005116</td>\n",
       "      <td>4.172120e-04</td>\n",
       "      <td>0.000067</td>\n",
       "      <td>1.456936e-06</td>\n",
       "      <td>8.346147e-02</td>\n",
       "      <td>0.000007</td>\n",
       "      <td>2.444359e-06</td>\n",
       "      <td>...</td>\n",
       "      <td>4.254989e-06</td>\n",
       "      <td>1.829003e-05</td>\n",
       "      <td>2.948794e-09</td>\n",
       "      <td>0.000100</td>\n",
       "      <td>0.000049</td>\n",
       "      <td>9.740396e-05</td>\n",
       "      <td>0.000456</td>\n",
       "      <td>8.982697e-04</td>\n",
       "      <td>0.000073</td>\n",
       "      <td>1.395365e-03</td>\n",
       "    </tr>\n",
       "    <tr>\n",
       "      <th>...</th>\n",
       "      <td>...</td>\n",
       "      <td>...</td>\n",
       "      <td>...</td>\n",
       "      <td>...</td>\n",
       "      <td>...</td>\n",
       "      <td>...</td>\n",
       "      <td>...</td>\n",
       "      <td>...</td>\n",
       "      <td>...</td>\n",
       "      <td>...</td>\n",
       "      <td>...</td>\n",
       "      <td>...</td>\n",
       "      <td>...</td>\n",
       "      <td>...</td>\n",
       "      <td>...</td>\n",
       "      <td>...</td>\n",
       "      <td>...</td>\n",
       "      <td>...</td>\n",
       "      <td>...</td>\n",
       "      <td>...</td>\n",
       "      <td>...</td>\n",
       "    </tr>\n",
       "    <tr>\n",
       "      <th>8756</th>\n",
       "      <td>2.481629e-04</td>\n",
       "      <td>1.336842e-04</td>\n",
       "      <td>8.161811e-06</td>\n",
       "      <td>0.000007</td>\n",
       "      <td>9.253393e-08</td>\n",
       "      <td>0.002652</td>\n",
       "      <td>9.072659e-04</td>\n",
       "      <td>1.083187e-03</td>\n",
       "      <td>0.000090</td>\n",
       "      <td>1.199799e-06</td>\n",
       "      <td>...</td>\n",
       "      <td>1.482368e-04</td>\n",
       "      <td>3.935437e-05</td>\n",
       "      <td>4.092966e-04</td>\n",
       "      <td>0.000007</td>\n",
       "      <td>0.020007</td>\n",
       "      <td>1.202804e-05</td>\n",
       "      <td>0.000076</td>\n",
       "      <td>2.103457e-03</td>\n",
       "      <td>0.001873</td>\n",
       "      <td>2.169403e-05</td>\n",
       "    </tr>\n",
       "    <tr>\n",
       "      <th>8757</th>\n",
       "      <td>1.271625e-05</td>\n",
       "      <td>1.191073e-02</td>\n",
       "      <td>1.351130e-06</td>\n",
       "      <td>0.001839</td>\n",
       "      <td>2.711641e-03</td>\n",
       "      <td>0.000334</td>\n",
       "      <td>3.240008e-03</td>\n",
       "      <td>1.087173e-05</td>\n",
       "      <td>0.000121</td>\n",
       "      <td>1.290075e-03</td>\n",
       "      <td>...</td>\n",
       "      <td>9.849775e-08</td>\n",
       "      <td>3.926120e-03</td>\n",
       "      <td>1.104553e-04</td>\n",
       "      <td>0.000009</td>\n",
       "      <td>0.000002</td>\n",
       "      <td>7.381132e-05</td>\n",
       "      <td>0.000113</td>\n",
       "      <td>1.019942e-07</td>\n",
       "      <td>0.006190</td>\n",
       "      <td>5.218007e-06</td>\n",
       "    </tr>\n",
       "    <tr>\n",
       "      <th>8758</th>\n",
       "      <td>4.632629e-04</td>\n",
       "      <td>8.874603e-06</td>\n",
       "      <td>6.449469e-07</td>\n",
       "      <td>0.000004</td>\n",
       "      <td>4.822226e-06</td>\n",
       "      <td>0.000177</td>\n",
       "      <td>4.540010e-05</td>\n",
       "      <td>6.241114e-08</td>\n",
       "      <td>0.000595</td>\n",
       "      <td>2.011416e-03</td>\n",
       "      <td>...</td>\n",
       "      <td>4.651045e-06</td>\n",
       "      <td>1.123421e-06</td>\n",
       "      <td>3.431464e-04</td>\n",
       "      <td>0.000056</td>\n",
       "      <td>0.000028</td>\n",
       "      <td>1.893612e-03</td>\n",
       "      <td>0.000010</td>\n",
       "      <td>6.733115e-07</td>\n",
       "      <td>0.000001</td>\n",
       "      <td>1.625392e-06</td>\n",
       "    </tr>\n",
       "    <tr>\n",
       "      <th>8759</th>\n",
       "      <td>8.142034e-03</td>\n",
       "      <td>2.826485e-04</td>\n",
       "      <td>4.241836e-05</td>\n",
       "      <td>0.003179</td>\n",
       "      <td>7.014861e-06</td>\n",
       "      <td>0.000002</td>\n",
       "      <td>1.677822e-03</td>\n",
       "      <td>2.177009e-05</td>\n",
       "      <td>0.000295</td>\n",
       "      <td>1.228324e-04</td>\n",
       "      <td>...</td>\n",
       "      <td>2.011048e-04</td>\n",
       "      <td>4.205319e-04</td>\n",
       "      <td>1.288658e-01</td>\n",
       "      <td>0.000016</td>\n",
       "      <td>0.000012</td>\n",
       "      <td>1.150337e-05</td>\n",
       "      <td>0.000003</td>\n",
       "      <td>5.441294e-03</td>\n",
       "      <td>0.000039</td>\n",
       "      <td>5.263017e-03</td>\n",
       "    </tr>\n",
       "    <tr>\n",
       "      <th>8760</th>\n",
       "      <td>3.826900e-07</td>\n",
       "      <td>1.007991e-03</td>\n",
       "      <td>2.658534e-04</td>\n",
       "      <td>0.003533</td>\n",
       "      <td>4.982668e-04</td>\n",
       "      <td>0.000317</td>\n",
       "      <td>4.027240e-04</td>\n",
       "      <td>7.895163e-04</td>\n",
       "      <td>0.000024</td>\n",
       "      <td>7.771678e-04</td>\n",
       "      <td>...</td>\n",
       "      <td>3.650636e-04</td>\n",
       "      <td>1.999034e-07</td>\n",
       "      <td>1.347899e-01</td>\n",
       "      <td>0.000071</td>\n",
       "      <td>0.000356</td>\n",
       "      <td>9.481375e-08</td>\n",
       "      <td>0.000002</td>\n",
       "      <td>5.754905e-08</td>\n",
       "      <td>0.271545</td>\n",
       "      <td>3.499139e-05</td>\n",
       "    </tr>\n",
       "  </tbody>\n",
       "</table>\n",
       "<p>8761 rows × 100 columns</p>\n",
       "</div>"
      ],
      "text/plain": [
       "                0             1             2         3             4   \\\n",
       "0     1.111313e-04  3.741540e-05  4.378792e-05  0.000113  4.378624e-02   \n",
       "1     4.955300e-04  5.217880e-04  1.752802e-07  0.000462  1.096730e-04   \n",
       "2     1.756759e-04  1.315510e-09  1.119227e-04  0.000012  5.939300e-02   \n",
       "3     1.075437e-04  1.388118e-05  4.354517e-05  0.000081  4.936827e-04   \n",
       "4     3.953465e-05  2.603812e-06  3.847047e-05  0.005116  4.172120e-04   \n",
       "...            ...           ...           ...       ...           ...   \n",
       "8756  2.481629e-04  1.336842e-04  8.161811e-06  0.000007  9.253393e-08   \n",
       "8757  1.271625e-05  1.191073e-02  1.351130e-06  0.001839  2.711641e-03   \n",
       "8758  4.632629e-04  8.874603e-06  6.449469e-07  0.000004  4.822226e-06   \n",
       "8759  8.142034e-03  2.826485e-04  4.241836e-05  0.003179  7.014861e-06   \n",
       "8760  3.826900e-07  1.007991e-03  2.658534e-04  0.003533  4.982668e-04   \n",
       "\n",
       "            5             6             7         8             9   ...  \\\n",
       "0     0.000006  5.107329e-03  8.136933e-07  0.003601  5.992266e-08  ...   \n",
       "1     0.003442  1.811356e-05  9.925417e-04  0.047281  7.531794e-05  ...   \n",
       "2     0.000005  1.655244e-03  4.467024e-05  0.003355  7.162761e-05  ...   \n",
       "3     0.008822  3.294308e-07  5.386631e-04  0.000096  2.176527e-06  ...   \n",
       "4     0.000067  1.456936e-06  8.346147e-02  0.000007  2.444359e-06  ...   \n",
       "...        ...           ...           ...       ...           ...  ...   \n",
       "8756  0.002652  9.072659e-04  1.083187e-03  0.000090  1.199799e-06  ...   \n",
       "8757  0.000334  3.240008e-03  1.087173e-05  0.000121  1.290075e-03  ...   \n",
       "8758  0.000177  4.540010e-05  6.241114e-08  0.000595  2.011416e-03  ...   \n",
       "8759  0.000002  1.677822e-03  2.177009e-05  0.000295  1.228324e-04  ...   \n",
       "8760  0.000317  4.027240e-04  7.895163e-04  0.000024  7.771678e-04  ...   \n",
       "\n",
       "                90            91            92        93        94  \\\n",
       "0     2.831118e-06  5.043949e-06  4.482212e-03  0.000181  0.000517   \n",
       "1     3.006714e-06  1.764581e-05  1.098902e-03  0.000286  0.000183   \n",
       "2     1.568135e-01  1.315776e-05  3.988821e-05  0.000015  0.000387   \n",
       "3     6.446162e-03  1.136120e-06  6.233048e-05  0.034596  0.000039   \n",
       "4     4.254989e-06  1.829003e-05  2.948794e-09  0.000100  0.000049   \n",
       "...            ...           ...           ...       ...       ...   \n",
       "8756  1.482368e-04  3.935437e-05  4.092966e-04  0.000007  0.020007   \n",
       "8757  9.849775e-08  3.926120e-03  1.104553e-04  0.000009  0.000002   \n",
       "8758  4.651045e-06  1.123421e-06  3.431464e-04  0.000056  0.000028   \n",
       "8759  2.011048e-04  4.205319e-04  1.288658e-01  0.000016  0.000012   \n",
       "8760  3.650636e-04  1.999034e-07  1.347899e-01  0.000071  0.000356   \n",
       "\n",
       "                95        96            97        98            99  \n",
       "0     6.802421e-06  0.000006  2.052471e-03  0.000590  3.274830e-04  \n",
       "1     4.488121e-06  0.007173  5.173320e-02  0.000130  6.723351e-05  \n",
       "2     4.521688e-03  0.001570  4.801290e-05  0.000014  1.752472e-03  \n",
       "3     5.144761e-04  0.006364  1.177848e-05  0.001000  2.248683e-07  \n",
       "4     9.740396e-05  0.000456  8.982697e-04  0.000073  1.395365e-03  \n",
       "...            ...       ...           ...       ...           ...  \n",
       "8756  1.202804e-05  0.000076  2.103457e-03  0.001873  2.169403e-05  \n",
       "8757  7.381132e-05  0.000113  1.019942e-07  0.006190  5.218007e-06  \n",
       "8758  1.893612e-03  0.000010  6.733115e-07  0.000001  1.625392e-06  \n",
       "8759  1.150337e-05  0.000003  5.441294e-03  0.000039  5.263017e-03  \n",
       "8760  9.481375e-08  0.000002  5.754905e-08  0.271545  3.499139e-05  \n",
       "\n",
       "[8761 rows x 100 columns]"
      ]
     },
     "execution_count": 23,
     "metadata": {},
     "output_type": "execute_result"
    }
   ],
   "source": [
    "monte_carlo_runs = 100\n",
    "\n",
    "buy_sell_mc = {}\n",
    "for run in range(0, monte_carlo_runs):\n",
    "    np.random.seed(seed=run)\n",
    "    \n",
    "    buy_sell = st.alpha.rvs(fit_shape_buy_sell, loc=fit_loc_buy_sell, scale=fit_scale_buy_sell, size=timesteps + 1)\n",
    "    buy_sell_mc[run] = np.exp(buy_sell)\n",
    "\n",
    "buy_sell_mc_df = pd.DataFrame(buy_sell_mc)\n",
    "buy_sell_mc_df.to_csv('data/buy_sell_pct_mc.csv')\n",
    "buy_sell_mc_df"
   ]
  },
  {
   "cell_type": "markdown",
   "metadata": {},
   "source": [
    "### Liquidity Demand Events"
   ]
  },
  {
   "cell_type": "code",
   "execution_count": 24,
   "metadata": {},
   "outputs": [
    {
     "data": {
      "text/html": [
       "<div>\n",
       "<style scoped>\n",
       "    .dataframe tbody tr th:only-of-type {\n",
       "        vertical-align: middle;\n",
       "    }\n",
       "\n",
       "    .dataframe tbody tr th {\n",
       "        vertical-align: top;\n",
       "    }\n",
       "\n",
       "    .dataframe thead th {\n",
       "        text-align: right;\n",
       "    }\n",
       "</style>\n",
       "<table border=\"1\" class=\"dataframe\">\n",
       "  <thead>\n",
       "    <tr style=\"text-align: right;\">\n",
       "      <th></th>\n",
       "      <th>0</th>\n",
       "      <th>1</th>\n",
       "      <th>2</th>\n",
       "      <th>3</th>\n",
       "      <th>4</th>\n",
       "      <th>5</th>\n",
       "      <th>6</th>\n",
       "      <th>7</th>\n",
       "      <th>8</th>\n",
       "      <th>9</th>\n",
       "      <th>...</th>\n",
       "      <th>90</th>\n",
       "      <th>91</th>\n",
       "      <th>92</th>\n",
       "      <th>93</th>\n",
       "      <th>94</th>\n",
       "      <th>95</th>\n",
       "      <th>96</th>\n",
       "      <th>97</th>\n",
       "      <th>98</th>\n",
       "      <th>99</th>\n",
       "    </tr>\n",
       "  </thead>\n",
       "  <tbody>\n",
       "    <tr>\n",
       "      <th>0</th>\n",
       "      <td>2.114537e-04</td>\n",
       "      <td>7.166072e-05</td>\n",
       "      <td>8.377357e-05</td>\n",
       "      <td>0.000215</td>\n",
       "      <td>8.399611e-02</td>\n",
       "      <td>0.000012</td>\n",
       "      <td>9.684625e-03</td>\n",
       "      <td>1.626230e-06</td>\n",
       "      <td>0.006822</td>\n",
       "      <td>1.254297e-07</td>\n",
       "      <td>...</td>\n",
       "      <td>5.561804e-06</td>\n",
       "      <td>9.841067e-06</td>\n",
       "      <td>8.495954e-03</td>\n",
       "      <td>0.000344</td>\n",
       "      <td>0.000978</td>\n",
       "      <td>1.322836e-05</td>\n",
       "      <td>0.000011</td>\n",
       "      <td>3.884274e-03</td>\n",
       "      <td>0.001116</td>\n",
       "      <td>6.205791e-04</td>\n",
       "    </tr>\n",
       "    <tr>\n",
       "      <th>1</th>\n",
       "      <td>9.381681e-04</td>\n",
       "      <td>9.877934e-04</td>\n",
       "      <td>3.593732e-07</td>\n",
       "      <td>0.000875</td>\n",
       "      <td>2.086925e-04</td>\n",
       "      <td>0.006520</td>\n",
       "      <td>3.489221e-05</td>\n",
       "      <td>1.877771e-03</td>\n",
       "      <td>0.090754</td>\n",
       "      <td>1.436063e-04</td>\n",
       "      <td>...</td>\n",
       "      <td>5.902348e-06</td>\n",
       "      <td>3.399891e-05</td>\n",
       "      <td>2.078946e-03</td>\n",
       "      <td>0.000542</td>\n",
       "      <td>0.000347</td>\n",
       "      <td>8.768305e-06</td>\n",
       "      <td>0.013618</td>\n",
       "      <td>9.937087e-02</td>\n",
       "      <td>0.000247</td>\n",
       "      <td>1.282768e-04</td>\n",
       "    </tr>\n",
       "    <tr>\n",
       "      <th>2</th>\n",
       "      <td>3.335890e-04</td>\n",
       "      <td>3.020951e-09</td>\n",
       "      <td>2.129521e-04</td>\n",
       "      <td>0.000024</td>\n",
       "      <td>1.142128e-01</td>\n",
       "      <td>0.000010</td>\n",
       "      <td>3.131869e-03</td>\n",
       "      <td>8.544998e-05</td>\n",
       "      <td>0.006355</td>\n",
       "      <td>1.366096e-04</td>\n",
       "      <td>...</td>\n",
       "      <td>3.043022e-01</td>\n",
       "      <td>2.541884e-05</td>\n",
       "      <td>7.636215e-05</td>\n",
       "      <td>0.000028</td>\n",
       "      <td>0.000733</td>\n",
       "      <td>8.570994e-03</td>\n",
       "      <td>0.002971</td>\n",
       "      <td>9.179964e-05</td>\n",
       "      <td>0.000027</td>\n",
       "      <td>3.315985e-03</td>\n",
       "    </tr>\n",
       "    <tr>\n",
       "      <th>3</th>\n",
       "      <td>2.046605e-04</td>\n",
       "      <td>2.680309e-05</td>\n",
       "      <td>8.331232e-05</td>\n",
       "      <td>0.000155</td>\n",
       "      <td>9.346768e-04</td>\n",
       "      <td>0.016762</td>\n",
       "      <td>6.679821e-07</td>\n",
       "      <td>1.019686e-03</td>\n",
       "      <td>0.000182</td>\n",
       "      <td>4.290226e-06</td>\n",
       "      <td>...</td>\n",
       "      <td>1.223294e-02</td>\n",
       "      <td>2.259494e-06</td>\n",
       "      <td>1.189765e-04</td>\n",
       "      <td>0.066250</td>\n",
       "      <td>0.000076</td>\n",
       "      <td>9.739744e-04</td>\n",
       "      <td>0.012076</td>\n",
       "      <td>2.277809e-05</td>\n",
       "      <td>0.001892</td>\n",
       "      <td>4.589854e-07</td>\n",
       "    </tr>\n",
       "    <tr>\n",
       "      <th>4</th>\n",
       "      <td>7.569003e-05</td>\n",
       "      <td>5.120647e-06</td>\n",
       "      <td>7.366685e-05</td>\n",
       "      <td>0.009701</td>\n",
       "      <td>7.901577e-04</td>\n",
       "      <td>0.000129</td>\n",
       "      <td>2.887367e-06</td>\n",
       "      <td>1.609711e-01</td>\n",
       "      <td>0.000014</td>\n",
       "      <td>4.810938e-06</td>\n",
       "      <td>...</td>\n",
       "      <td>8.317991e-06</td>\n",
       "      <td>3.522918e-05</td>\n",
       "      <td>6.624026e-09</td>\n",
       "      <td>0.000190</td>\n",
       "      <td>0.000095</td>\n",
       "      <td>1.854573e-04</td>\n",
       "      <td>0.000864</td>\n",
       "      <td>1.699492e-03</td>\n",
       "      <td>0.000139</td>\n",
       "      <td>2.639895e-03</td>\n",
       "    </tr>\n",
       "    <tr>\n",
       "      <th>...</th>\n",
       "      <td>...</td>\n",
       "      <td>...</td>\n",
       "      <td>...</td>\n",
       "      <td>...</td>\n",
       "      <td>...</td>\n",
       "      <td>...</td>\n",
       "      <td>...</td>\n",
       "      <td>...</td>\n",
       "      <td>...</td>\n",
       "      <td>...</td>\n",
       "      <td>...</td>\n",
       "      <td>...</td>\n",
       "      <td>...</td>\n",
       "      <td>...</td>\n",
       "      <td>...</td>\n",
       "      <td>...</td>\n",
       "      <td>...</td>\n",
       "      <td>...</td>\n",
       "      <td>...</td>\n",
       "      <td>...</td>\n",
       "      <td>...</td>\n",
       "    </tr>\n",
       "    <tr>\n",
       "      <th>8756</th>\n",
       "      <td>4.706507e-04</td>\n",
       "      <td>2.541449e-04</td>\n",
       "      <td>1.584155e-05</td>\n",
       "      <td>0.000014</td>\n",
       "      <td>1.920196e-07</td>\n",
       "      <td>0.005021</td>\n",
       "      <td>1.716503e-03</td>\n",
       "      <td>2.049219e-03</td>\n",
       "      <td>0.000171</td>\n",
       "      <td>2.384275e-06</td>\n",
       "      <td>...</td>\n",
       "      <td>2.816822e-04</td>\n",
       "      <td>7.534732e-05</td>\n",
       "      <td>7.751987e-04</td>\n",
       "      <td>0.000013</td>\n",
       "      <td>0.038174</td>\n",
       "      <td>2.325605e-05</td>\n",
       "      <td>0.000144</td>\n",
       "      <td>3.980883e-03</td>\n",
       "      <td>0.003543</td>\n",
       "      <td>4.172541e-05</td>\n",
       "    </tr>\n",
       "    <tr>\n",
       "      <th>8757</th>\n",
       "      <td>2.457376e-05</td>\n",
       "      <td>2.266231e-02</td>\n",
       "      <td>2.680497e-06</td>\n",
       "      <td>0.003480</td>\n",
       "      <td>5.133883e-03</td>\n",
       "      <td>0.000632</td>\n",
       "      <td>6.136386e-03</td>\n",
       "      <td>2.104080e-05</td>\n",
       "      <td>0.000230</td>\n",
       "      <td>2.440639e-03</td>\n",
       "      <td>...</td>\n",
       "      <td>2.041472e-07</td>\n",
       "      <td>7.439222e-03</td>\n",
       "      <td>2.101738e-04</td>\n",
       "      <td>0.000018</td>\n",
       "      <td>0.000004</td>\n",
       "      <td>1.407500e-04</td>\n",
       "      <td>0.000215</td>\n",
       "      <td>2.112514e-07</td>\n",
       "      <td>0.011744</td>\n",
       "      <td>1.017677e-05</td>\n",
       "    </tr>\n",
       "    <tr>\n",
       "      <th>8758</th>\n",
       "      <td>8.771871e-04</td>\n",
       "      <td>1.721029e-05</td>\n",
       "      <td>1.293570e-06</td>\n",
       "      <td>0.000007</td>\n",
       "      <td>9.413275e-06</td>\n",
       "      <td>0.000337</td>\n",
       "      <td>8.683659e-05</td>\n",
       "      <td>1.305305e-07</td>\n",
       "      <td>0.001126</td>\n",
       "      <td>3.806486e-03</td>\n",
       "      <td>...</td>\n",
       "      <td>9.082876e-06</td>\n",
       "      <td>2.234602e-06</td>\n",
       "      <td>6.501824e-04</td>\n",
       "      <td>0.000107</td>\n",
       "      <td>0.000053</td>\n",
       "      <td>3.583311e-03</td>\n",
       "      <td>0.000020</td>\n",
       "      <td>1.349560e-06</td>\n",
       "      <td>0.000002</td>\n",
       "      <td>3.216371e-06</td>\n",
       "    </tr>\n",
       "    <tr>\n",
       "      <th>8759</th>\n",
       "      <td>1.546514e-02</td>\n",
       "      <td>5.358386e-04</td>\n",
       "      <td>8.117110e-05</td>\n",
       "      <td>0.006020</td>\n",
       "      <td>1.363701e-05</td>\n",
       "      <td>0.000004</td>\n",
       "      <td>3.174621e-03</td>\n",
       "      <td>4.187048e-05</td>\n",
       "      <td>0.000559</td>\n",
       "      <td>2.336058e-04</td>\n",
       "      <td>...</td>\n",
       "      <td>3.816793e-04</td>\n",
       "      <td>7.964318e-04</td>\n",
       "      <td>2.495697e-01</td>\n",
       "      <td>0.000030</td>\n",
       "      <td>0.000024</td>\n",
       "      <td>2.225111e-05</td>\n",
       "      <td>0.000005</td>\n",
       "      <td>1.031998e-02</td>\n",
       "      <td>0.000074</td>\n",
       "      <td>9.980789e-03</td>\n",
       "    </tr>\n",
       "    <tr>\n",
       "      <th>8760</th>\n",
       "      <td>7.740282e-07</td>\n",
       "      <td>1.906991e-03</td>\n",
       "      <td>5.040921e-04</td>\n",
       "      <td>0.006693</td>\n",
       "      <td>9.433403e-04</td>\n",
       "      <td>0.000600</td>\n",
       "      <td>7.627774e-04</td>\n",
       "      <td>1.493863e-03</td>\n",
       "      <td>0.000046</td>\n",
       "      <td>1.470517e-03</td>\n",
       "      <td>...</td>\n",
       "      <td>6.916042e-04</td>\n",
       "      <td>4.088853e-07</td>\n",
       "      <td>2.611603e-01</td>\n",
       "      <td>0.000136</td>\n",
       "      <td>0.000674</td>\n",
       "      <td>1.966572e-07</td>\n",
       "      <td>0.000003</td>\n",
       "      <td>1.205608e-07</td>\n",
       "      <td>0.530126</td>\n",
       "      <td>6.705057e-05</td>\n",
       "    </tr>\n",
       "  </tbody>\n",
       "</table>\n",
       "<p>8761 rows × 100 columns</p>\n",
       "</div>"
      ],
      "text/plain": [
       "                0             1             2         3             4   \\\n",
       "0     2.114537e-04  7.166072e-05  8.377357e-05  0.000215  8.399611e-02   \n",
       "1     9.381681e-04  9.877934e-04  3.593732e-07  0.000875  2.086925e-04   \n",
       "2     3.335890e-04  3.020951e-09  2.129521e-04  0.000024  1.142128e-01   \n",
       "3     2.046605e-04  2.680309e-05  8.331232e-05  0.000155  9.346768e-04   \n",
       "4     7.569003e-05  5.120647e-06  7.366685e-05  0.009701  7.901577e-04   \n",
       "...            ...           ...           ...       ...           ...   \n",
       "8756  4.706507e-04  2.541449e-04  1.584155e-05  0.000014  1.920196e-07   \n",
       "8757  2.457376e-05  2.266231e-02  2.680497e-06  0.003480  5.133883e-03   \n",
       "8758  8.771871e-04  1.721029e-05  1.293570e-06  0.000007  9.413275e-06   \n",
       "8759  1.546514e-02  5.358386e-04  8.117110e-05  0.006020  1.363701e-05   \n",
       "8760  7.740282e-07  1.906991e-03  5.040921e-04  0.006693  9.433403e-04   \n",
       "\n",
       "            5             6             7         8             9   ...  \\\n",
       "0     0.000012  9.684625e-03  1.626230e-06  0.006822  1.254297e-07  ...   \n",
       "1     0.006520  3.489221e-05  1.877771e-03  0.090754  1.436063e-04  ...   \n",
       "2     0.000010  3.131869e-03  8.544998e-05  0.006355  1.366096e-04  ...   \n",
       "3     0.016762  6.679821e-07  1.019686e-03  0.000182  4.290226e-06  ...   \n",
       "4     0.000129  2.887367e-06  1.609711e-01  0.000014  4.810938e-06  ...   \n",
       "...        ...           ...           ...       ...           ...  ...   \n",
       "8756  0.005021  1.716503e-03  2.049219e-03  0.000171  2.384275e-06  ...   \n",
       "8757  0.000632  6.136386e-03  2.104080e-05  0.000230  2.440639e-03  ...   \n",
       "8758  0.000337  8.683659e-05  1.305305e-07  0.001126  3.806486e-03  ...   \n",
       "8759  0.000004  3.174621e-03  4.187048e-05  0.000559  2.336058e-04  ...   \n",
       "8760  0.000600  7.627774e-04  1.493863e-03  0.000046  1.470517e-03  ...   \n",
       "\n",
       "                90            91            92        93        94  \\\n",
       "0     5.561804e-06  9.841067e-06  8.495954e-03  0.000344  0.000978   \n",
       "1     5.902348e-06  3.399891e-05  2.078946e-03  0.000542  0.000347   \n",
       "2     3.043022e-01  2.541884e-05  7.636215e-05  0.000028  0.000733   \n",
       "3     1.223294e-02  2.259494e-06  1.189765e-04  0.066250  0.000076   \n",
       "4     8.317991e-06  3.522918e-05  6.624026e-09  0.000190  0.000095   \n",
       "...            ...           ...           ...       ...       ...   \n",
       "8756  2.816822e-04  7.534732e-05  7.751987e-04  0.000013  0.038174   \n",
       "8757  2.041472e-07  7.439222e-03  2.101738e-04  0.000018  0.000004   \n",
       "8758  9.082876e-06  2.234602e-06  6.501824e-04  0.000107  0.000053   \n",
       "8759  3.816793e-04  7.964318e-04  2.495697e-01  0.000030  0.000024   \n",
       "8760  6.916042e-04  4.088853e-07  2.611603e-01  0.000136  0.000674   \n",
       "\n",
       "                95        96            97        98            99  \n",
       "0     1.322836e-05  0.000011  3.884274e-03  0.001116  6.205791e-04  \n",
       "1     8.768305e-06  0.013618  9.937087e-02  0.000247  1.282768e-04  \n",
       "2     8.570994e-03  0.002971  9.179964e-05  0.000027  3.315985e-03  \n",
       "3     9.739744e-04  0.012076  2.277809e-05  0.001892  4.589854e-07  \n",
       "4     1.854573e-04  0.000864  1.699492e-03  0.000139  2.639895e-03  \n",
       "...            ...       ...           ...       ...           ...  \n",
       "8756  2.325605e-05  0.000144  3.980883e-03  0.003543  4.172541e-05  \n",
       "8757  1.407500e-04  0.000215  2.112514e-07  0.011744  1.017677e-05  \n",
       "8758  3.583311e-03  0.000020  1.349560e-06  0.000002  3.216371e-06  \n",
       "8759  2.225111e-05  0.000005  1.031998e-02  0.000074  9.980789e-03  \n",
       "8760  1.966572e-07  0.000003  1.205608e-07  0.530126  6.705057e-05  \n",
       "\n",
       "[8761 rows x 100 columns]"
      ]
     },
     "execution_count": 24,
     "metadata": {},
     "output_type": "execute_result"
    }
   ],
   "source": [
    "monte_carlo_runs = 100\n",
    "\n",
    "liquidity_mc = {}\n",
    "for run in range(0, monte_carlo_runs):\n",
    "    np.random.seed(seed=run)\n",
    "    \n",
    "    liquidity = st.alpha.rvs(fit_shape_liquidity, loc=fit_loc_liquidity, scale=fit_scale_liquidity, size=timesteps + 1)\n",
    "    liquidity_mc[run] = np.exp(liquidity)\n",
    "\n",
    "liquidity_mc_df = pd.DataFrame(liquidity_mc)\n",
    "liquidity_mc_df.to_csv('data/liquidity_pct_mc.csv')\n",
    "liquidity_mc_df"
   ]
  },
  {
   "cell_type": "markdown",
   "metadata": {},
   "source": [
    "## Implementation information\n",
    "Below is an example of how to integrate these univariate time series datasets into the exogenous process section of a cadCAD model, assuming each timestep is an hour."
   ]
  },
  {
   "cell_type": "markdown",
   "metadata": {},
   "source": [
    "```\n",
    "# exogenousProcesses.py\n",
    "\n",
    "# import libraries\n",
    "import pandas as pd\n",
    "\n",
    "# import data\n",
    "liquidity_samples = pd.read_csv('data/liquidity_samples.csv')\n",
    "buy_sell_samples = pd.read_csv('data/buy_sell.csv')\n",
    "\n",
    "# mechanisms\n",
    "def liquidity_exogenous_process(params, step, sL, s, _input):\n",
    "    y = 'liquidity'\n",
    "    timestep = s['timestep'] \n",
    "    x = liquidity_samples.Liquidity_Samples.values[timestep]\n",
    "    return (y, x)\n",
    "    \n",
    "def buy_sell_exogenous_process(params, step, sL, s, _input):\n",
    "    y = 'buy_sell'\n",
    "    timestep = s['timestep'] \n",
    "    x = buy_sell_samples.Buy_Sell_Samples.values[timestep]\n",
    "    return (y, x)\n",
    "    \n",
    "```"
   ]
  }
 ],
 "metadata": {
  "kernelspec": {
   "display_name": "Python (Reflexer)",
   "language": "python",
   "name": "python-reflexer"
  },
  "language_info": {
   "codemirror_mode": {
    "name": "ipython",
    "version": 3
   },
   "file_extension": ".py",
   "mimetype": "text/x-python",
   "name": "python",
   "nbconvert_exporter": "python",
   "pygments_lexer": "ipython3",
   "version": "3.8.5"
  }
 },
 "nbformat": 4,
 "nbformat_minor": 4
}
