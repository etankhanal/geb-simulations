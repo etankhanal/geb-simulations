{
 "cells": [
  {
   "cell_type": "markdown",
   "metadata": {},
   "source": [
    "# System Model V3 - Shock test\n",
    "\n",
    "The purpose of this notebook is to perform shocks of ETH price to test controller parameter stability, without stochastic processes.\n",
    "\n",
    "For this simulation run, we will be asking the following question: how does the model behave with a eth price shock?\n",
    "\n",
    "Run simulation with overrides over the default values:\n",
    "* 'controller_enabled': [True],\n",
    "* 'liquidation_ratio': [1.45],\n",
    "* 'interest_rate': [1.03],\n",
    "* 'liquidity_demand_enabled': [False],\n",
    "* 'arbitrageur_considers_liquidation_ratio': [True],\n",
    "* 'liquidity_demand_shock': [False],\n",
    "*'eth_price': [lambda run, timestep, df=None: [\n",
    "        # Shocks at 14 days; controller turns on at 7 days\n",
    "        300,\n",
    "        300 if timestep < 24 * 14 else 300 * 1.3, # 30% step, remains for rest of simulation\n",
    "        300 * 1.3 if timestep in list(range(24*14, 24*14 + 6, 1)) else 300, # 30% impulse for 6 hours\n",
    "        300 if timestep < 24 * 14 else 300 * 0.7, # negative 30% step, remains for rest of simulation\n",
    "        300 * 0.7 if timestep in list(range(24*14, 24*14 + 6, 1)) else 300, # negative 30% impulse for 6 hours\n",
    "    ][run - 1]],\n",
    "* 'liquidity_demand_events': [lambda run, timestep, df=None: 0],\n",
    "* 'token_swap_events': [lambda run, timestep, df=None: 0],\n",
    "}\n",
    "\n",
    "In order to test this, configure the following experiment [experiment_shocks.py](experiments/system_model_v3/experiment_shocks.py). Run run this simulation, we create a directory in the ```experiments/system_model_v3``` called ```experiment_shocks/```,and add a ```logs/``` directory inside of it.\n",
    "\n",
    "Assuming our we have all of the requirements required (run requirements.txt from the ```reflexer/``` root directory to be sure. Assuming our terminal is in the root directory, we run the follow to run the simulation:\n",
    "\n",
    "```bash\n",
    "python3 -m experiments.system_model_v3.experiment_shocks\n",
    "```\n",
    "And our simulation will run. The resulting [run log](experiments/system_model_v3/experiment_shocks/experiment_run_log.md) can be found in the ```experiments/system_model_v3/experiment_shocks/``` directory, along with the simulation results stored as ```experiment_results.hdf5```\n",
    "\n",
    "Note: The shocks experiment might display errors as the simulations fail under various shock conditions.\n",
    "\n",
    "Below we will import and examine the simulation results.\n"
   ]
  },
  {
   "cell_type": "code",
   "execution_count": 1,
   "metadata": {},
   "outputs": [],
   "source": [
    "# import libraries\n",
    "import pandas as pd\n",
    "import matplotlib.pyplot as plt\n",
    "import seaborn as sns\n",
    "import os\n",
    "\n",
    "plt.rcParams['figure.figsize'] = [12, 8]\n",
    "plt.rcParams['figure.dpi'] = 100 \n",
    "\n",
    "%matplotlib inline"
   ]
  },
  {
   "cell_type": "markdown",
   "metadata": {},
   "source": [
    "## Import simulation run data\n"
   ]
  },
  {
   "cell_type": "code",
   "execution_count": null,
   "metadata": {},
   "outputs": [],
   "source": [
    "os.getcwd()"
   ]
  },
  {
   "cell_type": "code",
   "execution_count": null,
   "metadata": {},
   "outputs": [],
   "source": [
    "os.chdir('../../')\n",
    "os.getcwd()"
   ]
  },
  {
   "cell_type": "code",
   "execution_count": 4,
   "metadata": {},
   "outputs": [],
   "source": [
    "experiment_results = 'experiments/system_model_v3/experiment_shocks/experiment_results.hdf5'\n",
    "experiment_results_keys = []\n",
    "with pd.HDFStore(experiment_results) as store:\n",
    "    experiment_results_keys = list(filter(lambda x: \"results\" in x, store.keys()))\n",
    "    exceptions_keys = list(filter(lambda x: \"exceptions\" in x, store.keys()))"
   ]
  },
  {
   "cell_type": "code",
   "execution_count": 5,
   "metadata": {},
   "outputs": [
    {
     "data": {
      "text/plain": [
       "['/results_2021-09-20T16:38:15.521748']"
      ]
     },
     "execution_count": 5,
     "metadata": {},
     "output_type": "execute_result"
    }
   ],
   "source": [
    "# A list of all experiment result keys\n",
    "experiment_results_keys"
   ]
  },
  {
   "cell_type": "code",
   "execution_count": 6,
   "metadata": {},
   "outputs": [
    {
     "data": {
      "text/plain": [
       "'/results_2021-09-20T16:38:15.521748'"
      ]
     },
     "execution_count": 6,
     "metadata": {},
     "output_type": "execute_result"
    }
   ],
   "source": [
    "# Copy a results_ key from the above keys to select the experiment\n",
    "experiment_results_key = experiment_results_keys[-1]\n",
    "experiment_timestamp = experiment_results_key.strip('results_')\n",
    "exceptions_key = 'exceptions_' + experiment_timestamp\n",
    "experiment_timestamp"
   ]
  },
  {
   "cell_type": "code",
   "execution_count": 7,
   "metadata": {},
   "outputs": [
    {
     "data": {
      "text/html": [
       "<div>\n",
       "<style scoped>\n",
       "    .dataframe tbody tr th:only-of-type {\n",
       "        vertical-align: middle;\n",
       "    }\n",
       "\n",
       "    .dataframe tbody tr th {\n",
       "        vertical-align: top;\n",
       "    }\n",
       "\n",
       "    .dataframe thead th {\n",
       "        text-align: right;\n",
       "    }\n",
       "</style>\n",
       "<table border=\"1\" class=\"dataframe\">\n",
       "  <thead>\n",
       "    <tr style=\"text-align: right;\">\n",
       "      <th></th>\n",
       "      <th>cdp_metrics</th>\n",
       "      <th>optimal_values</th>\n",
       "      <th>sim_metrics</th>\n",
       "      <th>timedelta</th>\n",
       "      <th>cumulative_time</th>\n",
       "      <th>timestamp</th>\n",
       "      <th>blockheight</th>\n",
       "      <th>eth_price</th>\n",
       "      <th>liquidity_demand</th>\n",
       "      <th>liquidity_demand_mean</th>\n",
       "      <th>...</th>\n",
       "      <th>rai_borrower_state</th>\n",
       "      <th>rai_borrower_max_balance</th>\n",
       "      <th>rai_lender_state</th>\n",
       "      <th>rai_lender_max_balance</th>\n",
       "      <th>simulation</th>\n",
       "      <th>subset</th>\n",
       "      <th>run</th>\n",
       "      <th>substep</th>\n",
       "      <th>timestep</th>\n",
       "      <th>events</th>\n",
       "    </tr>\n",
       "  </thead>\n",
       "  <tbody>\n",
       "    <tr>\n",
       "      <th>100367</th>\n",
       "      <td>{'cdp_count': 102, 'open_cdp_count': 102, 'clo...</td>\n",
       "      <td>{}</td>\n",
       "      <td>{}</td>\n",
       "      <td>3600</td>\n",
       "      <td>3873600</td>\n",
       "      <td>2018-02-14 20:00:00</td>\n",
       "      <td>0</td>\n",
       "      <td>300.0</td>\n",
       "      <td>0</td>\n",
       "      <td>0.0</td>\n",
       "      <td>...</td>\n",
       "      <td>0</td>\n",
       "      <td>0.0</td>\n",
       "      <td>0</td>\n",
       "      <td>0.0</td>\n",
       "      <td>0</td>\n",
       "      <td>23</td>\n",
       "      <td>5</td>\n",
       "      <td>18</td>\n",
       "      <td>1076</td>\n",
       "      <td>NaN</td>\n",
       "    </tr>\n",
       "    <tr>\n",
       "      <th>100368</th>\n",
       "      <td>{'cdp_count': 102, 'open_cdp_count': 102, 'clo...</td>\n",
       "      <td>{}</td>\n",
       "      <td>{}</td>\n",
       "      <td>3600</td>\n",
       "      <td>3877200</td>\n",
       "      <td>2018-02-14 21:00:00</td>\n",
       "      <td>0</td>\n",
       "      <td>300.0</td>\n",
       "      <td>0</td>\n",
       "      <td>0.0</td>\n",
       "      <td>...</td>\n",
       "      <td>0</td>\n",
       "      <td>0.0</td>\n",
       "      <td>0</td>\n",
       "      <td>0.0</td>\n",
       "      <td>0</td>\n",
       "      <td>23</td>\n",
       "      <td>5</td>\n",
       "      <td>18</td>\n",
       "      <td>1077</td>\n",
       "      <td>NaN</td>\n",
       "    </tr>\n",
       "    <tr>\n",
       "      <th>100369</th>\n",
       "      <td>{'cdp_count': 102, 'open_cdp_count': 102, 'clo...</td>\n",
       "      <td>{}</td>\n",
       "      <td>{}</td>\n",
       "      <td>3600</td>\n",
       "      <td>3880800</td>\n",
       "      <td>2018-02-14 22:00:00</td>\n",
       "      <td>0</td>\n",
       "      <td>300.0</td>\n",
       "      <td>0</td>\n",
       "      <td>0.0</td>\n",
       "      <td>...</td>\n",
       "      <td>0</td>\n",
       "      <td>0.0</td>\n",
       "      <td>0</td>\n",
       "      <td>0.0</td>\n",
       "      <td>0</td>\n",
       "      <td>23</td>\n",
       "      <td>5</td>\n",
       "      <td>18</td>\n",
       "      <td>1078</td>\n",
       "      <td>NaN</td>\n",
       "    </tr>\n",
       "    <tr>\n",
       "      <th>100370</th>\n",
       "      <td>{'cdp_count': 102, 'open_cdp_count': 102, 'clo...</td>\n",
       "      <td>{}</td>\n",
       "      <td>{}</td>\n",
       "      <td>3600</td>\n",
       "      <td>3884400</td>\n",
       "      <td>2018-02-14 23:00:00</td>\n",
       "      <td>0</td>\n",
       "      <td>300.0</td>\n",
       "      <td>0</td>\n",
       "      <td>0.0</td>\n",
       "      <td>...</td>\n",
       "      <td>0</td>\n",
       "      <td>0.0</td>\n",
       "      <td>0</td>\n",
       "      <td>0.0</td>\n",
       "      <td>0</td>\n",
       "      <td>23</td>\n",
       "      <td>5</td>\n",
       "      <td>18</td>\n",
       "      <td>1079</td>\n",
       "      <td>NaN</td>\n",
       "    </tr>\n",
       "    <tr>\n",
       "      <th>100371</th>\n",
       "      <td>{'cdp_count': 102, 'open_cdp_count': 102, 'clo...</td>\n",
       "      <td>{}</td>\n",
       "      <td>{}</td>\n",
       "      <td>3600</td>\n",
       "      <td>3888000</td>\n",
       "      <td>2018-02-15 00:00:00</td>\n",
       "      <td>0</td>\n",
       "      <td>300.0</td>\n",
       "      <td>0</td>\n",
       "      <td>0.0</td>\n",
       "      <td>...</td>\n",
       "      <td>0</td>\n",
       "      <td>0.0</td>\n",
       "      <td>0</td>\n",
       "      <td>0.0</td>\n",
       "      <td>0</td>\n",
       "      <td>23</td>\n",
       "      <td>5</td>\n",
       "      <td>18</td>\n",
       "      <td>1080</td>\n",
       "      <td>NaN</td>\n",
       "    </tr>\n",
       "  </tbody>\n",
       "</table>\n",
       "<p>5 rows × 77 columns</p>\n",
       "</div>"
      ],
      "text/plain": [
       "                                              cdp_metrics optimal_values  \\\n",
       "100367  {'cdp_count': 102, 'open_cdp_count': 102, 'clo...             {}   \n",
       "100368  {'cdp_count': 102, 'open_cdp_count': 102, 'clo...             {}   \n",
       "100369  {'cdp_count': 102, 'open_cdp_count': 102, 'clo...             {}   \n",
       "100370  {'cdp_count': 102, 'open_cdp_count': 102, 'clo...             {}   \n",
       "100371  {'cdp_count': 102, 'open_cdp_count': 102, 'clo...             {}   \n",
       "\n",
       "       sim_metrics  timedelta  cumulative_time           timestamp  \\\n",
       "100367          {}       3600          3873600 2018-02-14 20:00:00   \n",
       "100368          {}       3600          3877200 2018-02-14 21:00:00   \n",
       "100369          {}       3600          3880800 2018-02-14 22:00:00   \n",
       "100370          {}       3600          3884400 2018-02-14 23:00:00   \n",
       "100371          {}       3600          3888000 2018-02-15 00:00:00   \n",
       "\n",
       "        blockheight  eth_price  liquidity_demand  liquidity_demand_mean  ...  \\\n",
       "100367            0      300.0                 0                    0.0  ...   \n",
       "100368            0      300.0                 0                    0.0  ...   \n",
       "100369            0      300.0                 0                    0.0  ...   \n",
       "100370            0      300.0                 0                    0.0  ...   \n",
       "100371            0      300.0                 0                    0.0  ...   \n",
       "\n",
       "       rai_borrower_state  rai_borrower_max_balance  rai_lender_state  \\\n",
       "100367                  0                       0.0                 0   \n",
       "100368                  0                       0.0                 0   \n",
       "100369                  0                       0.0                 0   \n",
       "100370                  0                       0.0                 0   \n",
       "100371                  0                       0.0                 0   \n",
       "\n",
       "        rai_lender_max_balance  simulation  subset  run  substep  timestep  \\\n",
       "100367                     0.0           0      23    5       18      1076   \n",
       "100368                     0.0           0      23    5       18      1077   \n",
       "100369                     0.0           0      23    5       18      1078   \n",
       "100370                     0.0           0      23    5       18      1079   \n",
       "100371                     0.0           0      23    5       18      1080   \n",
       "\n",
       "        events  \n",
       "100367     NaN  \n",
       "100368     NaN  \n",
       "100369     NaN  \n",
       "100370     NaN  \n",
       "100371     NaN  \n",
       "\n",
       "[5 rows x 77 columns]"
      ]
     },
     "execution_count": 7,
     "metadata": {},
     "output_type": "execute_result"
    }
   ],
   "source": [
    "df_raw = pd.read_hdf(experiment_results, experiment_results_key)\n",
    "df_raw.tail()"
   ]
  },
  {
   "cell_type": "markdown",
   "metadata": {},
   "source": [
    "## Post process\n"
   ]
  },
  {
   "cell_type": "code",
   "execution_count": 8,
   "metadata": {},
   "outputs": [
    {
     "name": "stderr",
     "output_type": "stream",
     "text": [
      "/Users/georgekellerman/github/geb-sims/venv/lib/python3.8/site-packages/ray/autoscaler/_private/cli_logger.py:57: FutureWarning: Not all Ray CLI dependencies were found. In Ray 1.4+, the Ray CLI, autoscaler, and dashboard will only be usable via `pip install 'ray[default]'`. Please update your install command.\n",
      "  warnings.warn(\n"
     ]
    },
    {
     "name": "stdout",
     "output_type": "stream",
     "text": [
      "\n",
      "    * Number of timesteps: 1080 / 45.0 days\n",
      "    * Number of MC runs: 5\n",
      "    * Timestep duration: 0.004 seconds\n",
      "    * Control parameters: ['kp', 'ki']\n",
      "    * Number of parameter combinations: 24\n",
      "    * Expected experiment duration: 8.639999999999999 minutes / 0.144 hours\n",
      "    \n"
     ]
    }
   ],
   "source": [
    "from experiments.system_model_v3.post_process import post_process_results\n",
    "from experiments.system_model_v3.experiment_shocks import params, SIMULATION_TIMESTEPS"
   ]
  },
  {
   "cell_type": "code",
   "execution_count": 44,
   "metadata": {},
   "outputs": [],
   "source": [
    "#params"
   ]
  },
  {
   "cell_type": "code",
   "execution_count": 10,
   "metadata": {},
   "outputs": [
    {
     "data": {
      "text/html": [
       "<div>\n",
       "<style scoped>\n",
       "    .dataframe tbody tr th:only-of-type {\n",
       "        vertical-align: middle;\n",
       "    }\n",
       "\n",
       "    .dataframe tbody tr th {\n",
       "        vertical-align: top;\n",
       "    }\n",
       "\n",
       "    .dataframe thead th {\n",
       "        text-align: right;\n",
       "    }\n",
       "</style>\n",
       "<table border=\"1\" class=\"dataframe\">\n",
       "  <thead>\n",
       "    <tr style=\"text-align: right;\">\n",
       "      <th></th>\n",
       "      <th>cdp_metrics</th>\n",
       "      <th>optimal_values</th>\n",
       "      <th>sim_metrics</th>\n",
       "      <th>timedelta</th>\n",
       "      <th>cumulative_time</th>\n",
       "      <th>timestamp</th>\n",
       "      <th>blockheight</th>\n",
       "      <th>eth_price</th>\n",
       "      <th>liquidity_demand</th>\n",
       "      <th>liquidity_demand_mean</th>\n",
       "      <th>...</th>\n",
       "      <th>eth_leverager_debt_base</th>\n",
       "      <th>eth_leverager_collateral</th>\n",
       "      <th>eth_leverager_debt</th>\n",
       "      <th>eth_leverager_cratio</th>\n",
       "      <th>eth_leverager_collateral_diff</th>\n",
       "      <th>kp</th>\n",
       "      <th>ki</th>\n",
       "      <th>liquidation_ratio</th>\n",
       "      <th>kp_rate</th>\n",
       "      <th>ki_rate</th>\n",
       "    </tr>\n",
       "  </thead>\n",
       "  <tbody>\n",
       "    <tr>\n",
       "      <th>0</th>\n",
       "      <td>{}</td>\n",
       "      <td>{}</td>\n",
       "      <td>{}</td>\n",
       "      <td>0</td>\n",
       "      <td>0</td>\n",
       "      <td>2018-01-01 00:00:00</td>\n",
       "      <td>0</td>\n",
       "      <td>294.069151</td>\n",
       "      <td>1</td>\n",
       "      <td>1.0000</td>\n",
       "      <td>...</td>\n",
       "      <td>0.0</td>\n",
       "      <td>0.0</td>\n",
       "      <td>0.0</td>\n",
       "      <td>NaN</td>\n",
       "      <td>NaN</td>\n",
       "      <td>5.000000e-07</td>\n",
       "      <td>-1.000000e-07</td>\n",
       "      <td>1.45</td>\n",
       "      <td>0.000000e+00</td>\n",
       "      <td>-0.000000e+00</td>\n",
       "    </tr>\n",
       "    <tr>\n",
       "      <th>1</th>\n",
       "      <td>{'cdp_count': 102, 'open_cdp_count': 102, 'clo...</td>\n",
       "      <td>{}</td>\n",
       "      <td>{}</td>\n",
       "      <td>3600</td>\n",
       "      <td>3600</td>\n",
       "      <td>2018-01-01 01:00:00</td>\n",
       "      <td>0</td>\n",
       "      <td>300.000000</td>\n",
       "      <td>0</td>\n",
       "      <td>0.5000</td>\n",
       "      <td>...</td>\n",
       "      <td>0.0</td>\n",
       "      <td>0.0</td>\n",
       "      <td>0.0</td>\n",
       "      <td>NaN</td>\n",
       "      <td>0.0</td>\n",
       "      <td>5.000000e-07</td>\n",
       "      <td>-1.000000e-07</td>\n",
       "      <td>1.45</td>\n",
       "      <td>0.000000e+00</td>\n",
       "      <td>-0.000000e+00</td>\n",
       "    </tr>\n",
       "    <tr>\n",
       "      <th>2</th>\n",
       "      <td>{'cdp_count': 102, 'open_cdp_count': 102, 'clo...</td>\n",
       "      <td>{}</td>\n",
       "      <td>{}</td>\n",
       "      <td>3600</td>\n",
       "      <td>7200</td>\n",
       "      <td>2018-01-01 02:00:00</td>\n",
       "      <td>0</td>\n",
       "      <td>300.000000</td>\n",
       "      <td>0</td>\n",
       "      <td>0.2500</td>\n",
       "      <td>...</td>\n",
       "      <td>0.0</td>\n",
       "      <td>0.0</td>\n",
       "      <td>0.0</td>\n",
       "      <td>NaN</td>\n",
       "      <td>0.0</td>\n",
       "      <td>5.000000e-07</td>\n",
       "      <td>-1.000000e-07</td>\n",
       "      <td>1.45</td>\n",
       "      <td>0.000000e+00</td>\n",
       "      <td>-0.000000e+00</td>\n",
       "    </tr>\n",
       "    <tr>\n",
       "      <th>3</th>\n",
       "      <td>{'cdp_count': 102, 'open_cdp_count': 102, 'clo...</td>\n",
       "      <td>{}</td>\n",
       "      <td>{}</td>\n",
       "      <td>3600</td>\n",
       "      <td>10800</td>\n",
       "      <td>2018-01-01 03:00:00</td>\n",
       "      <td>0</td>\n",
       "      <td>300.000000</td>\n",
       "      <td>0</td>\n",
       "      <td>0.1250</td>\n",
       "      <td>...</td>\n",
       "      <td>0.0</td>\n",
       "      <td>0.0</td>\n",
       "      <td>0.0</td>\n",
       "      <td>NaN</td>\n",
       "      <td>0.0</td>\n",
       "      <td>5.000000e-07</td>\n",
       "      <td>-1.000000e-07</td>\n",
       "      <td>1.45</td>\n",
       "      <td>0.000000e+00</td>\n",
       "      <td>-0.000000e+00</td>\n",
       "    </tr>\n",
       "    <tr>\n",
       "      <th>4</th>\n",
       "      <td>{'cdp_count': 102, 'open_cdp_count': 102, 'clo...</td>\n",
       "      <td>{}</td>\n",
       "      <td>{}</td>\n",
       "      <td>3600</td>\n",
       "      <td>14400</td>\n",
       "      <td>2018-01-01 04:00:00</td>\n",
       "      <td>0</td>\n",
       "      <td>300.000000</td>\n",
       "      <td>0</td>\n",
       "      <td>0.0625</td>\n",
       "      <td>...</td>\n",
       "      <td>0.0</td>\n",
       "      <td>0.0</td>\n",
       "      <td>0.0</td>\n",
       "      <td>NaN</td>\n",
       "      <td>0.0</td>\n",
       "      <td>5.000000e-07</td>\n",
       "      <td>-1.000000e-07</td>\n",
       "      <td>1.45</td>\n",
       "      <td>0.000000e+00</td>\n",
       "      <td>-0.000000e+00</td>\n",
       "    </tr>\n",
       "    <tr>\n",
       "      <th>...</th>\n",
       "      <td>...</td>\n",
       "      <td>...</td>\n",
       "      <td>...</td>\n",
       "      <td>...</td>\n",
       "      <td>...</td>\n",
       "      <td>...</td>\n",
       "      <td>...</td>\n",
       "      <td>...</td>\n",
       "      <td>...</td>\n",
       "      <td>...</td>\n",
       "      <td>...</td>\n",
       "      <td>...</td>\n",
       "      <td>...</td>\n",
       "      <td>...</td>\n",
       "      <td>...</td>\n",
       "      <td>...</td>\n",
       "      <td>...</td>\n",
       "      <td>...</td>\n",
       "      <td>...</td>\n",
       "      <td>...</td>\n",
       "      <td>...</td>\n",
       "    </tr>\n",
       "    <tr>\n",
       "      <th>100367</th>\n",
       "      <td>{'cdp_count': 102, 'open_cdp_count': 102, 'clo...</td>\n",
       "      <td>{}</td>\n",
       "      <td>{}</td>\n",
       "      <td>3600</td>\n",
       "      <td>3873600</td>\n",
       "      <td>2018-02-14 20:00:00</td>\n",
       "      <td>0</td>\n",
       "      <td>300.000000</td>\n",
       "      <td>0</td>\n",
       "      <td>0.0000</td>\n",
       "      <td>...</td>\n",
       "      <td>0.0</td>\n",
       "      <td>0.0</td>\n",
       "      <td>0.0</td>\n",
       "      <td>NaN</td>\n",
       "      <td>0.0</td>\n",
       "      <td>1.000000e-08</td>\n",
       "      <td>1.000000e-08</td>\n",
       "      <td>1.45</td>\n",
       "      <td>-9.020562e-23</td>\n",
       "      <td>-3.247402e-19</td>\n",
       "    </tr>\n",
       "    <tr>\n",
       "      <th>100368</th>\n",
       "      <td>{'cdp_count': 102, 'open_cdp_count': 102, 'clo...</td>\n",
       "      <td>{}</td>\n",
       "      <td>{}</td>\n",
       "      <td>3600</td>\n",
       "      <td>3877200</td>\n",
       "      <td>2018-02-14 21:00:00</td>\n",
       "      <td>0</td>\n",
       "      <td>300.000000</td>\n",
       "      <td>0</td>\n",
       "      <td>0.0000</td>\n",
       "      <td>...</td>\n",
       "      <td>0.0</td>\n",
       "      <td>0.0</td>\n",
       "      <td>0.0</td>\n",
       "      <td>NaN</td>\n",
       "      <td>0.0</td>\n",
       "      <td>1.000000e-08</td>\n",
       "      <td>1.000000e-08</td>\n",
       "      <td>1.45</td>\n",
       "      <td>-9.020562e-23</td>\n",
       "      <td>-3.247402e-19</td>\n",
       "    </tr>\n",
       "    <tr>\n",
       "      <th>100369</th>\n",
       "      <td>{'cdp_count': 102, 'open_cdp_count': 102, 'clo...</td>\n",
       "      <td>{}</td>\n",
       "      <td>{}</td>\n",
       "      <td>3600</td>\n",
       "      <td>3880800</td>\n",
       "      <td>2018-02-14 22:00:00</td>\n",
       "      <td>0</td>\n",
       "      <td>300.000000</td>\n",
       "      <td>0</td>\n",
       "      <td>0.0000</td>\n",
       "      <td>...</td>\n",
       "      <td>0.0</td>\n",
       "      <td>0.0</td>\n",
       "      <td>0.0</td>\n",
       "      <td>NaN</td>\n",
       "      <td>0.0</td>\n",
       "      <td>1.000000e-08</td>\n",
       "      <td>1.000000e-08</td>\n",
       "      <td>1.45</td>\n",
       "      <td>-9.020562e-23</td>\n",
       "      <td>-3.247402e-19</td>\n",
       "    </tr>\n",
       "    <tr>\n",
       "      <th>100370</th>\n",
       "      <td>{'cdp_count': 102, 'open_cdp_count': 102, 'clo...</td>\n",
       "      <td>{}</td>\n",
       "      <td>{}</td>\n",
       "      <td>3600</td>\n",
       "      <td>3884400</td>\n",
       "      <td>2018-02-14 23:00:00</td>\n",
       "      <td>0</td>\n",
       "      <td>300.000000</td>\n",
       "      <td>0</td>\n",
       "      <td>0.0000</td>\n",
       "      <td>...</td>\n",
       "      <td>0.0</td>\n",
       "      <td>0.0</td>\n",
       "      <td>0.0</td>\n",
       "      <td>NaN</td>\n",
       "      <td>0.0</td>\n",
       "      <td>1.000000e-08</td>\n",
       "      <td>1.000000e-08</td>\n",
       "      <td>1.45</td>\n",
       "      <td>-9.020562e-23</td>\n",
       "      <td>-3.247402e-19</td>\n",
       "    </tr>\n",
       "    <tr>\n",
       "      <th>100371</th>\n",
       "      <td>{'cdp_count': 102, 'open_cdp_count': 102, 'clo...</td>\n",
       "      <td>{}</td>\n",
       "      <td>{}</td>\n",
       "      <td>3600</td>\n",
       "      <td>3888000</td>\n",
       "      <td>2018-02-15 00:00:00</td>\n",
       "      <td>0</td>\n",
       "      <td>300.000000</td>\n",
       "      <td>0</td>\n",
       "      <td>0.0000</td>\n",
       "      <td>...</td>\n",
       "      <td>0.0</td>\n",
       "      <td>0.0</td>\n",
       "      <td>0.0</td>\n",
       "      <td>NaN</td>\n",
       "      <td>0.0</td>\n",
       "      <td>1.000000e-08</td>\n",
       "      <td>1.000000e-08</td>\n",
       "      <td>1.45</td>\n",
       "      <td>-9.020562e-23</td>\n",
       "      <td>-3.247402e-19</td>\n",
       "    </tr>\n",
       "  </tbody>\n",
       "</table>\n",
       "<p>100372 rows × 96 columns</p>\n",
       "</div>"
      ],
      "text/plain": [
       "                                              cdp_metrics optimal_values  \\\n",
       "0                                                      {}             {}   \n",
       "1       {'cdp_count': 102, 'open_cdp_count': 102, 'clo...             {}   \n",
       "2       {'cdp_count': 102, 'open_cdp_count': 102, 'clo...             {}   \n",
       "3       {'cdp_count': 102, 'open_cdp_count': 102, 'clo...             {}   \n",
       "4       {'cdp_count': 102, 'open_cdp_count': 102, 'clo...             {}   \n",
       "...                                                   ...            ...   \n",
       "100367  {'cdp_count': 102, 'open_cdp_count': 102, 'clo...             {}   \n",
       "100368  {'cdp_count': 102, 'open_cdp_count': 102, 'clo...             {}   \n",
       "100369  {'cdp_count': 102, 'open_cdp_count': 102, 'clo...             {}   \n",
       "100370  {'cdp_count': 102, 'open_cdp_count': 102, 'clo...             {}   \n",
       "100371  {'cdp_count': 102, 'open_cdp_count': 102, 'clo...             {}   \n",
       "\n",
       "       sim_metrics  timedelta  cumulative_time           timestamp  \\\n",
       "0               {}          0                0 2018-01-01 00:00:00   \n",
       "1               {}       3600             3600 2018-01-01 01:00:00   \n",
       "2               {}       3600             7200 2018-01-01 02:00:00   \n",
       "3               {}       3600            10800 2018-01-01 03:00:00   \n",
       "4               {}       3600            14400 2018-01-01 04:00:00   \n",
       "...            ...        ...              ...                 ...   \n",
       "100367          {}       3600          3873600 2018-02-14 20:00:00   \n",
       "100368          {}       3600          3877200 2018-02-14 21:00:00   \n",
       "100369          {}       3600          3880800 2018-02-14 22:00:00   \n",
       "100370          {}       3600          3884400 2018-02-14 23:00:00   \n",
       "100371          {}       3600          3888000 2018-02-15 00:00:00   \n",
       "\n",
       "        blockheight   eth_price  liquidity_demand  liquidity_demand_mean  ...  \\\n",
       "0                 0  294.069151                 1                 1.0000  ...   \n",
       "1                 0  300.000000                 0                 0.5000  ...   \n",
       "2                 0  300.000000                 0                 0.2500  ...   \n",
       "3                 0  300.000000                 0                 0.1250  ...   \n",
       "4                 0  300.000000                 0                 0.0625  ...   \n",
       "...             ...         ...               ...                    ...  ...   \n",
       "100367            0  300.000000                 0                 0.0000  ...   \n",
       "100368            0  300.000000                 0                 0.0000  ...   \n",
       "100369            0  300.000000                 0                 0.0000  ...   \n",
       "100370            0  300.000000                 0                 0.0000  ...   \n",
       "100371            0  300.000000                 0                 0.0000  ...   \n",
       "\n",
       "       eth_leverager_debt_base  eth_leverager_collateral  eth_leverager_debt  \\\n",
       "0                          0.0                       0.0                 0.0   \n",
       "1                          0.0                       0.0                 0.0   \n",
       "2                          0.0                       0.0                 0.0   \n",
       "3                          0.0                       0.0                 0.0   \n",
       "4                          0.0                       0.0                 0.0   \n",
       "...                        ...                       ...                 ...   \n",
       "100367                     0.0                       0.0                 0.0   \n",
       "100368                     0.0                       0.0                 0.0   \n",
       "100369                     0.0                       0.0                 0.0   \n",
       "100370                     0.0                       0.0                 0.0   \n",
       "100371                     0.0                       0.0                 0.0   \n",
       "\n",
       "        eth_leverager_cratio  eth_leverager_collateral_diff            kp  \\\n",
       "0                        NaN                            NaN  5.000000e-07   \n",
       "1                        NaN                            0.0  5.000000e-07   \n",
       "2                        NaN                            0.0  5.000000e-07   \n",
       "3                        NaN                            0.0  5.000000e-07   \n",
       "4                        NaN                            0.0  5.000000e-07   \n",
       "...                      ...                            ...           ...   \n",
       "100367                   NaN                            0.0  1.000000e-08   \n",
       "100368                   NaN                            0.0  1.000000e-08   \n",
       "100369                   NaN                            0.0  1.000000e-08   \n",
       "100370                   NaN                            0.0  1.000000e-08   \n",
       "100371                   NaN                            0.0  1.000000e-08   \n",
       "\n",
       "                  ki  liquidation_ratio       kp_rate       ki_rate  \n",
       "0      -1.000000e-07               1.45  0.000000e+00 -0.000000e+00  \n",
       "1      -1.000000e-07               1.45  0.000000e+00 -0.000000e+00  \n",
       "2      -1.000000e-07               1.45  0.000000e+00 -0.000000e+00  \n",
       "3      -1.000000e-07               1.45  0.000000e+00 -0.000000e+00  \n",
       "4      -1.000000e-07               1.45  0.000000e+00 -0.000000e+00  \n",
       "...              ...                ...           ...           ...  \n",
       "100367  1.000000e-08               1.45 -9.020562e-23 -3.247402e-19  \n",
       "100368  1.000000e-08               1.45 -9.020562e-23 -3.247402e-19  \n",
       "100369  1.000000e-08               1.45 -9.020562e-23 -3.247402e-19  \n",
       "100370  1.000000e-08               1.45 -9.020562e-23 -3.247402e-19  \n",
       "100371  1.000000e-08               1.45 -9.020562e-23 -3.247402e-19  \n",
       "\n",
       "[100372 rows x 96 columns]"
      ]
     },
     "execution_count": 10,
     "metadata": {},
     "output_type": "execute_result"
    }
   ],
   "source": [
    "# add swept parameters as a column\n",
    "df = post_process_results(df_raw, params, set_params=['kp', 'ki', 'liquidation_ratio'])\n",
    "df"
   ]
  },
  {
   "cell_type": "markdown",
   "metadata": {},
   "source": [
    "# Simulation Analysis"
   ]
  },
  {
   "cell_type": "code",
   "execution_count": 11,
   "metadata": {},
   "outputs": [
    {
     "data": {
      "text/plain": [
       "(100372, 96)"
      ]
     },
     "execution_count": 11,
     "metadata": {},
     "output_type": "execute_result"
    }
   ],
   "source": [
    "df_raw.shape"
   ]
  },
  {
   "cell_type": "code",
   "execution_count": 12,
   "metadata": {},
   "outputs": [
    {
     "data": {
      "text/plain": [
       "array([ 0, 18])"
      ]
     },
     "execution_count": 12,
     "metadata": {},
     "output_type": "execute_result"
    }
   ],
   "source": [
    "df.substep.unique()"
   ]
  },
  {
   "cell_type": "code",
   "execution_count": 13,
   "metadata": {},
   "outputs": [
    {
     "data": {
      "text/plain": [
       "array([ 0,  1,  2,  3,  4,  5,  6,  7,  8,  9, 10, 11, 12, 13, 14, 15, 16,\n",
       "       17, 18, 19, 20, 21, 22, 23])"
      ]
     },
     "execution_count": 13,
     "metadata": {},
     "output_type": "execute_result"
    }
   ],
   "source": [
    "df.subset.unique()"
   ]
  },
  {
   "cell_type": "code",
   "execution_count": 14,
   "metadata": {},
   "outputs": [
    {
     "data": {
      "text/plain": [
       "array([1, 2, 3, 4, 5])"
      ]
     },
     "execution_count": 14,
     "metadata": {},
     "output_type": "execute_result"
    }
   ],
   "source": [
    "df.run.unique()"
   ]
  },
  {
   "cell_type": "code",
   "execution_count": 15,
   "metadata": {},
   "outputs": [
    {
     "data": {
      "text/plain": [
       "Index(['cdp_metrics', 'optimal_values', 'sim_metrics', 'timedelta',\n",
       "       'cumulative_time', 'timestamp', 'blockheight', 'eth_price',\n",
       "       'liquidity_demand', 'liquidity_demand_mean', 'cdps', 'eth_collateral',\n",
       "       'eth_locked', 'eth_freed', 'eth_bitten', 'liquidity_cdp_eth_collateral',\n",
       "       'liquidity_cdp_rai_balance', 'liquidity_cdp_count',\n",
       "       'arbitrage_cdp_eth_collateral', 'principal_debt', 'rai_drawn',\n",
       "       'rai_wiped', 'rai_bitten', 'accrued_interest', 'interest_dripped',\n",
       "       'interest_wiped', 'interest_bitten', 'w_1', 'w_2', 'w_3',\n",
       "       'system_revenue', 'stability_fee', 'market_price', 'market_price_twap',\n",
       "       'target_price', 'target_rate', 'eth_return', 'eth_gross_return',\n",
       "       'expected_market_price', 'expected_debt_price',\n",
       "       'price_trader_rai_balance', 'price_trader_base_balance',\n",
       "       'price_traders', 'rate_trader_rai_balance', 'rate_trader_base_balance',\n",
       "       'rate_traders', 'error_star', 'prev_error_star', 'error_star_integral',\n",
       "       'market_slippage', 'RAI_balance', 'ETH_balance', 'UNI_supply',\n",
       "       'uniswap_oracle', 'malicious_whale_funds_eth',\n",
       "       'malicious_whale_funds_rai', 'malicious_whale_state',\n",
       "       'malicious_whale_p0', 'eth_leverager_rai_balance',\n",
       "       'eth_leverager_eth_balance', 'malicious_rai_trader_state',\n",
       "       'malicious_rai_trader_max_balance', 'external_BASE_APY',\n",
       "       'compound_RAI_borrow_APY', 'compound_RAI_lend_APY',\n",
       "       'base_rate_trader_state', 'base_rate_trader_max_balance',\n",
       "       'rai_borrower_state', 'rai_borrower_max_balance', 'rai_lender_state',\n",
       "       'rai_lender_max_balance', 'simulation', 'subset', 'run', 'substep',\n",
       "       'timestep', 'events', 'eth_collateral_value', 'collateralization_ratio',\n",
       "       'apy', 'rai_eth', 'rate_trader_total_base', 'rate_trader_base',\n",
       "       'rate_trader_total_rai_base', 'eth_leverager_total_base',\n",
       "       'eth_leverager_collateral_base', 'eth_leverager_debt_base',\n",
       "       'eth_leverager_collateral', 'eth_leverager_debt',\n",
       "       'eth_leverager_cratio', 'eth_leverager_collateral_diff', 'kp', 'ki',\n",
       "       'liquidation_ratio', 'kp_rate', 'ki_rate'],\n",
       "      dtype='object')"
      ]
     },
     "execution_count": 15,
     "metadata": {},
     "output_type": "execute_result"
    }
   ],
   "source": [
    "df.columns"
   ]
  },
  {
   "cell_type": "code",
   "execution_count": 35,
   "metadata": {},
   "outputs": [],
   "source": [
    "def plot_fan_chart(df,aggregate_dimension,x, y,lx=False,ly=False,density_hack=True):\n",
    "    def q10(x):\n",
    "        return x.quantile(0.1)\n",
    "\n",
    "    def q20(x):\n",
    "        return x.quantile(0.2)\n",
    "\n",
    "    def q30(x):\n",
    "        return x.quantile(0.3)\n",
    "\n",
    "    def q40(x):\n",
    "        return x.quantile(0.4)\n",
    "\n",
    "    def q60(x):\n",
    "        return x.quantile(0.6)\n",
    "\n",
    "    def q70(x):\n",
    "        return x.quantile(0.7)\n",
    "\n",
    "    def q80(x):\n",
    "        return x.quantile(0.8)\n",
    "\n",
    "    def q90(x):\n",
    "        return x.quantile(0.9)\n",
    "\n",
    "    run_count = max(df.run)\n",
    "\n",
    "    agg_metrics = [q10, q20, q30, q40, 'median', q60, q70, q80, q90]\n",
    "    agg_df = df.groupby(aggregate_dimension).agg({y: agg_metrics})\n",
    "    agg_metrics = agg_df.columns.levels[1].values\n",
    "    agg_df.columns = ['_'.join(col).strip() for col in agg_df.columns.values]\n",
    "    plt.figure(figsize=(15,9))\n",
    "\n",
    "    df = agg_df.reset_index()\n",
    "    lines = plt.plot(df[x], df[f'{y}_median'])\n",
    "    color = lines[0].get_color()\n",
    "    if density_hack:\n",
    "        avg_iqr = []\n",
    "        for i in range(len(agg_metrics)-1):\n",
    "            m = (agg_metrics[i], agg_metrics[i+1])\n",
    "            iqr = df[f'{y}_{m[1]}'] - df[f'{y}_{m[0]}']\n",
    "            avg_iqr.append(iqr.sum())\n",
    "        inv_avg_iqr = [1/i for i in avg_iqr]\n",
    "        norm_avg_iqr = [i/max(inv_avg_iqr) for i in inv_avg_iqr]\n",
    "        i = 0\n",
    "        while i<len(agg_metrics)-1:\n",
    "            m = (agg_metrics[i], agg_metrics[i+1])\n",
    "            plt.fill_between(df[x], df[f'{y}_{m[0]}'], df[f'{y}_{m[1]}'], alpha=0.8*norm_avg_iqr[i], facecolor=color, edgecolor=None)\n",
    "            i += 1\n",
    "    else:\n",
    "        i = 0\n",
    "        while i<len(agg_metrics)/2:\n",
    "            m = (agg_metrics[i], agg_metrics[-1-i])\n",
    "            plt.fill_between(df[x], df[f'{y}_{m[0]}'], df[f'{y}_{m[1]}'], alpha=0.3, color=color)\n",
    "            i += 1\n",
    "\n",
    "    plt.xlabel(x)\n",
    "    plt.ylabel(y)\n",
    "    title_text = 'Distribution of ' + y + ' over all of ' + str(run_count) + ' Monte Carlo runs'\n",
    "    plt.title(title_text)\n",
    "    plt.legend(['Median', 'Interquantile Ranges'])\n",
    "    if lx:\n",
    "        plt.xscale('log')\n",
    "    if ly:\n",
    "        plt.yscale('log')"
   ]
  },
  {
   "cell_type": "code",
   "execution_count": 36,
   "metadata": {},
   "outputs": [],
   "source": [
    "# calculate errors\n",
    "df['error'] = df['target_price'] - df['market_price']\n",
    "df['error_integral'] = df['error'].cumsum()"
   ]
  },
  {
   "cell_type": "markdown",
   "metadata": {},
   "source": [
    "### Generate key plots for analysis"
   ]
  },
  {
   "cell_type": "code",
   "execution_count": 37,
   "metadata": {},
   "outputs": [
    {
     "data": {
      "text/plain": [
       "Text(0.5, 1.0, 'ETH price shocks (positive and negative step and impulse; one shock type for each run')"
      ]
     },
     "execution_count": 37,
     "metadata": {},
     "output_type": "execute_result"
    },
    {
     "data": {
      "image/png": "[encoded data removed]",
      "text/plain": [
       "<Figure size 1080x648 with 1 Axes>"
      ]
     },
     "metadata": {
      "needs_background": "light"
     },
     "output_type": "display_data"
    }
   ],
   "source": [
    "plot_fan_chart(df,'timestamp','timestamp', 'eth_price',lx=False,ly=False,density_hack=False)\n",
    "plt.title('ETH price shocks (positive and negative step and impulse; one shock type for each run')\n"
   ]
  },
  {
   "cell_type": "code",
   "execution_count": 43,
   "metadata": {},
   "outputs": [
    {
     "data": {
      "text/plain": [
       "<matplotlib.legend.Legend at 0x1de4c10d0>"
      ]
     },
     "execution_count": 43,
     "metadata": {},
     "output_type": "execute_result"
    },
    {
     "data": {
      "image/png": "[encoded data removed]",
      "text/plain": [
       "<Figure size 1080x648 with 1 Axes>"
      ]
     },
     "metadata": {
      "needs_background": "light"
     },
     "output_type": "display_data"
    }
   ],
   "source": [
    "run = df.query('run==1')\n",
    "plt.figure(figsize=(15,9))\n",
    "sns.lineplot(data=run,x=\"timestep\", y=\"market_price\",color='r',label='Market Price in Rai')\n",
    "sns.lineplot(data=run,x=\"timestep\", y=\"market_price_twap\",color='b',label='Market Price TWAP in Rai')\n",
    "sns.lineplot(data=run,x=\"timestep\", y=\"target_price\",color='g',label='Redemption Price in Rai')\n",
    "plt.title('Base case: Stable ETH price response')\n",
    "plt.legend(loc=\"upper left\")"
   ]
  },
  {
   "cell_type": "code",
   "execution_count": 41,
   "metadata": {},
   "outputs": [
    {
     "data": {
      "text/plain": [
       "<Figure size 1080x648 with 0 Axes>"
      ]
     },
     "execution_count": 41,
     "metadata": {},
     "output_type": "execute_result"
    },
    {
     "data": {
      "image/png": "[encoded data removed]",
      "text/plain": [
       "<Figure size 432x288 with 1 Axes>"
      ]
     },
     "metadata": {
      "needs_background": "light"
     },
     "output_type": "display_data"
    },
    {
     "data": {
      "text/plain": [
       "<Figure size 1080x648 with 0 Axes>"
      ]
     },
     "metadata": {},
     "output_type": "display_data"
    }
   ],
   "source": [
    "run = df.query('run==2').head(500)\n",
    "sns.lineplot(data=run,x=\"timestep\", y=\"market_price\",color='r',label='Market Price in Rai')\n",
    "sns.lineplot(data=run,x=\"timestep\", y=\"market_price_twap\",color='b',label='Market Price TWAP in Rai')\n",
    "sns.lineplot(data=run,x=\"timestep\", y=\"target_price\",color='g',label='Redemption Price in Rai')\n",
    "plt.title('ETH price 30% step response')\n",
    "plt.legend(loc=\"upper left\")\n"
   ]
  },
  {
   "cell_type": "code",
   "execution_count": 21,
   "metadata": {},
   "outputs": [
    {
     "data": {
      "text/plain": [
       "<matplotlib.legend.Legend at 0x1dc93cac0>"
      ]
     },
     "execution_count": 21,
     "metadata": {},
     "output_type": "execute_result"
    },
    {
     "data": {
      "image/png": "[encoded data removed]",
      "text/plain": [
       "<Figure size 432x288 with 1 Axes>"
      ]
     },
     "metadata": {
      "needs_background": "light"
     },
     "output_type": "display_data"
    }
   ],
   "source": [
    "run = df.query('run==3')\n",
    "sns.lineplot(data=run,x=\"timestep\", y=\"market_price\",color='r',label='Market Price in Rai')\n",
    "sns.lineplot(data=run,x=\"timestep\", y=\"market_price_twap\",color='b',label='Market Price TWAP in Rai')\n",
    "sns.lineplot(data=run,x=\"timestep\", y=\"target_price\",color='g',label='Redemption Price in Rai')\n",
    "plt.title('ETH price 30% impulse response')\n",
    "plt.legend(loc=\"upper left\")\n"
   ]
  },
  {
   "cell_type": "code",
   "execution_count": 22,
   "metadata": {},
   "outputs": [
    {
     "data": {
      "text/plain": [
       "<matplotlib.legend.Legend at 0x1dd4ec760>"
      ]
     },
     "execution_count": 22,
     "metadata": {},
     "output_type": "execute_result"
    },
    {
     "data": {
      "image/png": "[encoded data removed]",
      "text/plain": [
       "<Figure size 432x288 with 1 Axes>"
      ]
     },
     "metadata": {
      "needs_background": "light"
     },
     "output_type": "display_data"
    }
   ],
   "source": [
    "sns.lineplot(data=run,x=\"timestep\", y=\"error\",color='r',label='Price Error')\n",
    "plt.title('Price Error with ETH price 30% impulse response')\n",
    "plt.legend(loc=\"upper left\")"
   ]
  },
  {
   "cell_type": "code",
   "execution_count": 23,
   "metadata": {},
   "outputs": [
    {
     "data": {
      "text/plain": [
       "<matplotlib.legend.Legend at 0x1dd7d1250>"
      ]
     },
     "execution_count": 23,
     "metadata": {},
     "output_type": "execute_result"
    },
    {
     "data": {
      "image/png": "[encoded data removed]",
      "text/plain": [
       "<Figure size 432x288 with 1 Axes>"
      ]
     },
     "metadata": {
      "needs_background": "light"
     },
     "output_type": "display_data"
    }
   ],
   "source": [
    "sns.lineplot(data=run,x=\"timestep\", y=\"error_integral\",color='r',label='Steady state error')\n",
    "plt.title('Steady State Error of ETH price 30% impulse response')\n",
    "plt.legend(loc=\"upper left\")"
   ]
  },
  {
   "cell_type": "code",
   "execution_count": 24,
   "metadata": {},
   "outputs": [
    {
     "data": {
      "text/plain": [
       "<matplotlib.legend.Legend at 0x1dd4ecd90>"
      ]
     },
     "execution_count": 24,
     "metadata": {},
     "output_type": "execute_result"
    },
    {
     "data": {
      "image/png": "[encoded data removed]",
      "text/plain": [
       "<Figure size 432x288 with 1 Axes>"
      ]
     },
     "metadata": {
      "needs_background": "light"
     },
     "output_type": "display_data"
    }
   ],
   "source": [
    "run = df.query('run==4')\n",
    "sns.lineplot(data=run,x=\"timestep\", y=\"market_price\",color='r',label='Market Price in Rai')\n",
    "sns.lineplot(data=run,x=\"timestep\", y=\"market_price_twap\",color='b',label='Market Price TWAP in Rai')\n",
    "sns.lineplot(data=run,x=\"timestep\", y=\"target_price\",color='g',label='Redemption Price in Rai')\n",
    "plt.title('ETH price negative 30% step response')\n",
    "plt.legend(loc=\"upper left\")\n"
   ]
  },
  {
   "cell_type": "code",
   "execution_count": 25,
   "metadata": {},
   "outputs": [
    {
     "data": {
      "text/plain": [
       "<matplotlib.legend.Legend at 0x1dd15b2e0>"
      ]
     },
     "execution_count": 25,
     "metadata": {},
     "output_type": "execute_result"
    },
    {
     "data": {
      "image/png": "[encoded data removed]",
      "text/plain": [
       "<Figure size 432x288 with 1 Axes>"
      ]
     },
     "metadata": {
      "needs_background": "light"
     },
     "output_type": "display_data"
    }
   ],
   "source": [
    "run = df.query('run==5')\n",
    "sns.lineplot(data=run,x=\"timestep\", y=\"market_price\",color='r',label='Market Price in Rai')\n",
    "sns.lineplot(data=run,x=\"timestep\", y=\"market_price_twap\",color='b',label='Market Price TWAP in Rai')\n",
    "sns.lineplot(data=run,x=\"timestep\", y=\"target_price\",color='g',label='Redemption Price in Rai')\n",
    "plt.title('ETH price negative 30% impulse response')\n",
    "plt.legend(loc=\"upper left\")"
   ]
  },
  {
   "cell_type": "code",
   "execution_count": 26,
   "metadata": {},
   "outputs": [
    {
     "data": {
      "text/plain": [
       "Text(0.5, 1.0, 'Reflexer principal debt')"
      ]
     },
     "execution_count": 26,
     "metadata": {},
     "output_type": "execute_result"
    },
    {
     "data": {
      "image/png": "[encoded data removed]",
      "text/plain": [
       "<Figure size 720x432 with 1 Axes>"
      ]
     },
     "metadata": {
      "needs_background": "light"
     },
     "output_type": "display_data"
    }
   ],
   "source": [
    "plot_fan_chart(df,'timestamp','timestamp', 'principal_debt',lx=False,ly=False,density_hack=True)\n",
    "plt.title('Reflexer principal debt')\n"
   ]
  },
  {
   "cell_type": "code",
   "execution_count": 27,
   "metadata": {},
   "outputs": [
    {
     "data": {
      "text/plain": [
       "Text(0.5, 1.0, 'Secondary market RAI balance')"
      ]
     },
     "execution_count": 27,
     "metadata": {},
     "output_type": "execute_result"
    },
    {
     "data": {
      "image/png": "[encoded data removed]",
      "text/plain": [
       "<Figure size 720x432 with 1 Axes>"
      ]
     },
     "metadata": {
      "needs_background": "light"
     },
     "output_type": "display_data"
    }
   ],
   "source": [
    "plot_fan_chart(df,'timestamp','timestamp', 'RAI_balance',lx=False,ly=False,density_hack=True)\n",
    "plt.title('Secondary market RAI balance')\n"
   ]
  },
  {
   "cell_type": "code",
   "execution_count": 28,
   "metadata": {},
   "outputs": [
    {
     "data": {
      "text/plain": [
       "Text(0.5, 1.0, 'Secondary market ETH balance')"
      ]
     },
     "execution_count": 28,
     "metadata": {},
     "output_type": "execute_result"
    },
    {
     "data": {
      "image/png": "[encoded data removed]",
      "text/plain": [
       "<Figure size 720x432 with 1 Axes>"
      ]
     },
     "metadata": {
      "needs_background": "light"
     },
     "output_type": "display_data"
    }
   ],
   "source": [
    "plot_fan_chart(df,'timestamp','timestamp', 'ETH_balance',lx=False,ly=False,density_hack=True)\n",
    "plt.title('Secondary market ETH balance')\n"
   ]
  },
  {
   "cell_type": "code",
   "execution_count": 29,
   "metadata": {},
   "outputs": [
    {
     "data": {
      "text/plain": [
       "Text(0.5, 1.0, 'Collateralization ratio')"
      ]
     },
     "execution_count": 29,
     "metadata": {},
     "output_type": "execute_result"
    },
    {
     "data": {
      "image/png": "[encoded data removed]",
      "text/plain": [
       "<Figure size 720x432 with 1 Axes>"
      ]
     },
     "metadata": {
      "needs_background": "light"
     },
     "output_type": "display_data"
    }
   ],
   "source": [
    "plot_fan_chart(df,'timestamp','timestamp', 'collateralization_ratio',lx=False,ly=False,density_hack=True)\n",
    "plt.title('Collateralization ratio')\n"
   ]
  },
  {
   "cell_type": "markdown",
   "metadata": {},
   "source": [
    "## Conclusion\n",
    "\n",
    "In this notebook we provided an example of a shock test and the types of plots and analysis that can be performed off of it."
   ]
  }
 ],
 "metadata": {
  "jupytext": {
   "cell_metadata_filter": "-all",
   "encoding": "# -*- coding: utf-8 -*-",
   "formats": "ipynb,py:percent"
  },
  "kernelspec": {
   "display_name": "Python 3",
   "language": "python",
   "name": "python3"
  },
  "language_info": {
   "codemirror_mode": {
    "name": "ipython",
    "version": 3
   },
   "file_extension": ".py",
   "mimetype": "text/x-python",
   "name": "python",
   "nbconvert_exporter": "python",
   "pygments_lexer": "ipython3",
   "version": "3.8.5"
  }
 },
 "nbformat": 4,
 "nbformat_minor": 4
}
