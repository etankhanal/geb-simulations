{
 "cells": [
  {
   "cell_type": "markdown",
   "metadata": {},
   "source": [
    "# The Graph Data Access\n",
    "\n",
    "In this notebook, we retrieve live Rai system data from [The Graph](https://thegraph.com/explorer/subgraph/reflexer-labs/rai-mainnet?query=Example%20query) and save it as a CSV for analysis in the [Graph Analysis](TheGraphDataAnalysis.ipynb) notebook."
   ]
  },
  {
   "cell_type": "code",
   "execution_count": null,
   "metadata": {},
   "outputs": [],
   "source": [
    "# import libraries\n",
    "import pandas as pd\n",
    "import json\n",
    "import requests\n",
    "import matplotlib.pyplot as plt\n",
    "url = 'https://api.thegraph.com/subgraphs/name/reflexer-labs/rai-mainnet'"
   ]
  },
  {
   "cell_type": "markdown",
   "metadata": {},
   "source": [
    "## Hourly stats"
   ]
  },
  {
   "cell_type": "code",
   "execution_count": null,
   "metadata": {},
   "outputs": [],
   "source": [
    "query_header = '''\n",
    "query {{\n",
    "    hourlyStats(first: 1000, skip:{}) {{'''\n",
    "\n",
    "query_tail = '''    \n",
    "}\n",
    "}'''\n",
    "\n",
    "query_body = '''\n",
    " timestamp\n",
    "    blockNumber\n",
    "    redemptionPrice {\n",
    "      id\n",
    "      block\n",
    "      redemptionRate\n",
    "      value\n",
    "      \n",
    "    }\n",
    "    marketPriceUsd\n",
    "    marketPriceEth\n",
    "    globalDebt\n",
    "    erc20CoinTotalSupply\n",
    "'''\n",
    "\n",
    "\n",
    "\n",
    "\n",
    "\n",
    "n = 0\n",
    "safes = []\n",
    "while True:\n",
    "    print(f'request {n+1}')\n",
    "    query = query_header.format(n*1000) + query_body + query_tail\n",
    "    r = requests.post(url, json = {'query':query})\n",
    "    s = json.loads(r.content)['data']['hourlyStats']\n",
    "    print(f'results {len(s)}')\n",
    "    safes.extend(s)\n",
    "    print(f'total {len(safes)}')\n",
    "    n += 1\n",
    "    if len(s) < 1000:\n",
    "        break\n",
    "        \n",
    "hourlyStats = pd.DataFrame(safes)"
   ]
  },
  {
   "cell_type": "code",
   "execution_count": null,
   "metadata": {},
   "outputs": [],
   "source": [
    "hourlyStats"
   ]
  },
  {
   "cell_type": "code",
   "execution_count": null,
   "metadata": {},
   "outputs": [],
   "source": [
    "hourlyStats.redemptionPrice.values[0]"
   ]
  },
  {
   "cell_type": "code",
   "execution_count": null,
   "metadata": {},
   "outputs": [],
   "source": [
    "hourlyStats['redemptionPriceActual'] = hourlyStats.redemptionPrice.apply(lambda x: x['value'])"
   ]
  },
  {
   "cell_type": "code",
   "execution_count": null,
   "metadata": {},
   "outputs": [],
   "source": [
    "hourlyStats['redemptionRateActual'] = hourlyStats.redemptionPrice.apply(lambda x: x['redemptionRate'])"
   ]
  },
  {
   "cell_type": "code",
   "execution_count": null,
   "metadata": {},
   "outputs": [],
   "source": [
    "hourlyStats['erc20CoinTotalSupply'] = hourlyStats['erc20CoinTotalSupply'].astype(float)\n",
    "hourlyStats['globalDebt'] = hourlyStats['globalDebt'].astype(float)\n",
    "hourlyStats['blockNumber'] = hourlyStats['blockNumber'].astype(int)\n",
    "hourlyStats['marketPriceEth'] = hourlyStats['marketPriceEth'].astype(float)\n",
    "hourlyStats['marketPriceUsd'] = hourlyStats['marketPriceUsd'].astype(float)\n",
    "hourlyStats['redemptionPriceActual'] = hourlyStats['redemptionPriceActual'].astype(float)\n",
    "hourlyStats['redemptionRateActual'] = hourlyStats['redemptionRateActual'].astype(float)"
   ]
  },
  {
   "cell_type": "code",
   "execution_count": null,
   "metadata": {},
   "outputs": [],
   "source": [
    "hourlyStats.describe()"
   ]
  },
  {
   "cell_type": "code",
   "execution_count": null,
   "metadata": {},
   "outputs": [],
   "source": [
    "hourlyStats.to_csv('saved_results/RaiLiveGraphData.csv')"
   ]
  },
  {
   "cell_type": "markdown",
   "metadata": {},
   "source": [
    "## Collateral Prices"
   ]
  },
  {
   "cell_type": "code",
   "execution_count": null,
   "metadata": {},
   "outputs": [],
   "source": [
    "query_header = '''\n",
    "query {{\n",
    "    collateralPrices(first: 1000, skip:{}) {{'''\n",
    "\n",
    "query_tail = '''    \n",
    "}\n",
    "}'''\n",
    "\n",
    "query_body = '''\n",
    "    block #Block number\n",
    "    timestamp # timestamp in seconds\n",
    "    collateral {\n",
    "      id\n",
    "    } # collateral type\n",
    "    safetyPrice # Price of the collateral divided by the redemptionPrice and then divided again by the safetyCRatio\n",
    "    liquidationPrice # Price of the collateral divided by the redemptionPrice and then divided again by the liquidationCRatio\n",
    "    value # Collateral price in denomination currency\n",
    "        \n",
    "'''\n",
    "\n",
    "\n",
    "n = 0\n",
    "safes = []\n",
    "while True:\n",
    "    print(f'request {n+1}')\n",
    "    query = query_header.format(n*1000) + query_body + query_tail\n",
    "    r = requests.post(url, json = {'query':query})\n",
    "    s = json.loads(r.content)['data']['collateralPrices']\n",
    "    print(f'results {len(s)}')\n",
    "    safes.extend(s)\n",
    "    print(f'total {len(safes)}')\n",
    "    n += 1\n",
    "    if len(s) < 1000:\n",
    "        break\n",
    "        \n",
    "collateralPrices = pd.DataFrame(safes)"
   ]
  },
  {
   "cell_type": "code",
   "execution_count": null,
   "metadata": {},
   "outputs": [],
   "source": [
    "collateralPrices['safetyPrice'] = collateralPrices['safetyPrice'].astype(float)\n",
    "collateralPrices['liquidationPrice'] = collateralPrices['liquidationPrice'].astype(float)\n",
    "collateralPrices['collateralPrice'] = collateralPrices['value'].astype(float)"
   ]
  },
  {
   "cell_type": "code",
   "execution_count": null,
   "metadata": {},
   "outputs": [],
   "source": [
    "collateralPrices.describe()"
   ]
  },
  {
   "cell_type": "code",
   "execution_count": null,
   "metadata": {},
   "outputs": [],
   "source": [
    "collateralPrices['safetyPrice'].plot(title='Price of the collateral divided by the redemptionPrice and then divided again by the safetyCRatio')         "
   ]
  },
  {
   "cell_type": "code",
   "execution_count": null,
   "metadata": {},
   "outputs": [],
   "source": [
    "collateralPrices['liquidationPrice'].plot(title='Price of the collateral divided by the redemptionPrice and then divided again by the liquidationCRatio')"
   ]
  },
  {
   "cell_type": "code",
   "execution_count": null,
   "metadata": {},
   "outputs": [],
   "source": [
    "collateralPrices['collateralPrice'].plot(title='Collateral price in denomination currency')"
   ]
  },
  {
   "cell_type": "markdown",
   "metadata": {},
   "source": [
    "## Safes"
   ]
  },
  {
   "cell_type": "code",
   "execution_count": null,
   "metadata": {},
   "outputs": [],
   "source": [
    "query_header = '''\n",
    "query {{\n",
    "    safes(first: 1000, skip:{}) {{'''\n",
    "\n",
    "query_tail = '''    \n",
    "}\n",
    "}'''\n",
    "\n",
    "query_body = '''\n",
    "    id # Safe ID if this Safe was created through the Safe Manager (GebSafeManager)\n",
    "    collateral #Outstanding Safe debt \n",
    "    debt # Amount of collateral locked in the Safe\n",
    "    owner {\n",
    "        id\n",
    "        safes{\n",
    "            id\n",
    "        }\n",
    "    }\n",
    "    createdAt # Block number at which this Safe was opened\n",
    "\n",
    "'''\n",
    "\n",
    "\n",
    "n = 0\n",
    "safes = []\n",
    "while True:\n",
    "    print(f'request {n+1}')\n",
    "    query = query_header.format(n*1000) + query_body + query_tail\n",
    "    r = requests.post(url, json = {'query':query})\n",
    "    s = json.loads(r.content)['data']['safes']\n",
    "    print(f'results {len(s)}')\n",
    "    safes.extend(s)\n",
    "    print(f'total {len(safes)}')\n",
    "    n += 1\n",
    "    if len(s) < 1000:\n",
    "        break\n",
    "        \n",
    "safes = pd.DataFrame(safes)"
   ]
  },
  {
   "cell_type": "code",
   "execution_count": null,
   "metadata": {},
   "outputs": [],
   "source": [
    "safes['createdAt'] = safes['createdAt'].astype(float)\n",
    "safes['debt'] = safes['debt'].astype(float)"
   ]
  },
  {
   "cell_type": "code",
   "execution_count": null,
   "metadata": {},
   "outputs": [],
   "source": [
    "safes.describe()"
   ]
  },
  {
   "cell_type": "code",
   "execution_count": null,
   "metadata": {},
   "outputs": [],
   "source": [
    "safes.owner.apply(lambda x: len([d['id'] for d in x['safes'] ])).hist()"
   ]
  },
  {
   "cell_type": "code",
   "execution_count": null,
   "metadata": {},
   "outputs": [],
   "source": [
    "safes.debt = safes.debt.apply(float)\n",
    "safes.collateral = safes.collateral.apply(float)\n",
    "safes['debt_ratio'] = safes.debt/safes.collateral "
   ]
  },
  {
   "cell_type": "code",
   "execution_count": null,
   "metadata": {},
   "outputs": [],
   "source": [
    "safes.debt_ratio.hist()"
   ]
  },
  {
   "cell_type": "code",
   "execution_count": null,
   "metadata": {},
   "outputs": [],
   "source": [
    "safes[safes.debt_ratio>0].debt_ratio.apply(lambda x :1/x).hist()"
   ]
  },
  {
   "cell_type": "markdown",
   "metadata": {},
   "source": [
    "## Conclusion\n",
    "\n",
    "Using The Graph, a lot of data about the Rai system can be obtained for analyzing the health of the system. With some data manipulation, these data streams could be intergrated into the Rai cadCAD model to turn it into a true decision support system."
   ]
  }
 ],
 "metadata": {
  "kernelspec": {
   "display_name": "Python 3",
   "language": "python",
   "name": "python3"
  },
  "language_info": {
   "codemirror_mode": {
    "name": "ipython",
    "version": 3
   },
   "file_extension": ".py",
   "mimetype": "text/x-python",
   "name": "python",
   "nbconvert_exporter": "python",
   "pygments_lexer": "ipython3",
   "version": "3.8.5"
  }
 },
 "nbformat": 4,
 "nbformat_minor": 4
}
