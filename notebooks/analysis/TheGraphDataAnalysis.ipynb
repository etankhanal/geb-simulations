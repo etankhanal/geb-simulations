{
 "cells": [
  {
   "cell_type": "markdown",
   "metadata": {},
   "source": [
    "# The Graph Data Access\n",
    "\n",
    "In this notebook, we read in the data that was generated and saved as a csv from the [TheGraphDataSetCreation](TheGraphDataSetCreation.ipynb) notebook. \n",
    "\n",
    "\n",
    "Goals of this notebook are to obtain:\n",
    "\n",
    "* Signals, states, event and sequences\n",
    "* Volatility metrics\n",
    "* ID perceived shocks (correlated with announcements)\n",
    "* Signal for target price\n",
    "* Signal for market price\n",
    "* Error plot\n",
    "\n",
    "As a starting point for moving to a decision support system."
   ]
  },
  {
   "cell_type": "code",
   "execution_count": null,
   "metadata": {},
   "outputs": [],
   "source": [
    "# import libraries\n",
    "import pandas as pd\n",
    "import seaborn as sns\n",
    "import matplotlib.pyplot as plt\n",
    "import scipy as sp\n",
    "from statsmodels.distributions.empirical_distribution import ECDF\n",
    "import scipy.stats as stats"
   ]
  },
  {
   "cell_type": "markdown",
   "metadata": {},
   "source": [
    "## Import data and add additional attributes"
   ]
  },
  {
   "cell_type": "code",
   "execution_count": null,
   "metadata": {},
   "outputs": [],
   "source": [
    "graphData = pd.read_csv('saved_results/RaiLiveGraphData.csv')\n",
    "del graphData['Unnamed: 0']"
   ]
  },
  {
   "cell_type": "code",
   "execution_count": null,
   "metadata": {},
   "outputs": [],
   "source": [
    "graphData.head()"
   ]
  },
  {
   "cell_type": "code",
   "execution_count": null,
   "metadata": {},
   "outputs": [],
   "source": [
    "graphData.describe()"
   ]
  },
  {
   "cell_type": "code",
   "execution_count": null,
   "metadata": {},
   "outputs": [],
   "source": [
    "graphData.plot(x='blockNumber',y='redemptionPriceActual',kind='line',title='redemptionPriceActual')"
   ]
  },
  {
   "cell_type": "code",
   "execution_count": null,
   "metadata": {},
   "outputs": [],
   "source": [
    "graphData.plot(x='blockNumber',y='redemptionRateActual',kind='line',title='redemptionRateActual')"
   ]
  },
  {
   "cell_type": "code",
   "execution_count": null,
   "metadata": {},
   "outputs": [],
   "source": [
    "graphData['error'] = graphData['redemptionPriceActual'] - graphData['marketPriceUsd']\n",
    "graphData['error_integral'] = graphData['error'].cumsum()"
   ]
  },
  {
   "cell_type": "code",
   "execution_count": null,
   "metadata": {},
   "outputs": [],
   "source": [
    "graphData.plot(x='blockNumber',y='error',kind='line',title='error')"
   ]
  },
  {
   "cell_type": "code",
   "execution_count": null,
   "metadata": {},
   "outputs": [],
   "source": [
    "graphData.plot(x='blockNumber',y='error_integral',kind='line',title='Steady state error')"
   ]
  },
  {
   "cell_type": "markdown",
   "metadata": {},
   "source": [
    "## Error experimentation\n",
    "\n",
    "#### Note: not taking into account control period"
   ]
  },
  {
   "cell_type": "code",
   "execution_count": null,
   "metadata": {},
   "outputs": [],
   "source": [
    "kp = 2e-7\n",
    "#ki = (-kp * error)/(integral_error)\n",
    "# computing at each time, what would the value of ki need to be such that the redemption price would be constant\n",
    "graphData['equilibriation_ki'] = (-kp * graphData.error)/graphData.error_integral"
   ]
  },
  {
   "cell_type": "code",
   "execution_count": null,
   "metadata": {},
   "outputs": [],
   "source": [
    "# todo iterate through labels and append negative\n",
    "graphData['equilibriation_ki'].apply(lambda x: -x).plot(logy = True,title='Actual equilibriation_ki - flipped sign for log plotting')\n",
    "plt.hlines(5e-9, 0, 450, linestyles='solid', label='Recommended ki - flipped sign', color='r')\n",
    "plt.hlines(-(graphData['equilibriation_ki'].median()), 0, 450, linestyles='solid', label='median actual ki - flipped', color='g')\n",
    "locs,labels = plt.yticks()  # Get the current locations and labelsyticks\n",
    "new_locs = []\n",
    "for i in locs:\n",
    "    new_locs.append('-'+str(i))\n",
    "plt.yticks(locs, new_locs)\n",
    "plt.legend(loc=\"upper right\")"
   ]
  },
  {
   "cell_type": "code",
   "execution_count": null,
   "metadata": {},
   "outputs": [],
   "source": [
    "graphData['equilibriation_ki'].median()"
   ]
  },
  {
   "cell_type": "markdown",
   "metadata": {},
   "source": [
    "### Counterfactual if intergral control rate had been median the whole time"
   ]
  },
  {
   "cell_type": "code",
   "execution_count": null,
   "metadata": {},
   "outputs": [],
   "source": [
    "graphData['counterfactual_redemption_rate'] = (kp * graphData['error'] + graphData['equilibriation_ki'].median())/ graphData['error_integral']"
   ]
  },
  {
   "cell_type": "code",
   "execution_count": null,
   "metadata": {},
   "outputs": [],
   "source": [
    "subsetGraph = graphData.iloc[50:]\n",
    "sns.lineplot(data=subsetGraph,x=\"blockNumber\", y=\"counterfactual_redemption_rate\",label='Counterfactual')\n",
    "ax2 = plt.twinx()\n",
    "# let reflexer know this is wrong\n",
    "sns.lineplot(data=subsetGraph,x=\"blockNumber\", y=\"redemptionRateActual\",ax=ax2,color='r',label='Actual')\n",
    "plt.title('Actual redemption rate vs counterfactual')\n",
    "plt.legend(loc=\"upper left\")\n"
   ]
  },
  {
   "cell_type": "markdown",
   "metadata": {},
   "source": [
    "## Goodness of fit tests\n",
    "Whether or not counterfactual is far enough from actual to reject null that they are from the same distributions."
   ]
  },
  {
   "cell_type": "code",
   "execution_count": null,
   "metadata": {},
   "outputs": [],
   "source": [
    "# fit a cdf\n",
    "ecdf = ECDF(subsetGraph.redemptionRateActual.values)\n",
    "ecdf2 = ECDF(subsetGraph.counterfactual_redemption_rate.values)\n",
    "\n",
    "plt.plot(ecdf.x,ecdf.y,color='r')\n",
    "plt.title('redemptionRateActual ECDF')\n",
    "plt.show()\n",
    "\n",
    "plt.plot(ecdf2.x,ecdf2.y,color='b')\n",
    "plt.title('counterfactual_redemption_rate ECDF')\n",
    "plt.show()\n",
    "\n",
    "alpha = 0.05\n",
    "\n",
    "statistic, p_value = stats.ks_2samp(subsetGraph.redemptionRateActual.values, subsetGraph.counterfactual_redemption_rate.values)  # two sided\n",
    "if p_value > alpha:\n",
    "    decision = \"Sample is from the distribution\"\n",
    "elif p_value <= alpha:\n",
    "    decision = \"Sample is not from the distribution\"\n",
    "\n",
    "print(p_value)\n",
    "print(decision)"
   ]
  },
  {
   "cell_type": "markdown",
   "metadata": {},
   "source": [
    "Based on our analysis using the Kolmogorov-Smirnov Goodness-of-Fit Test, the distributions are very different. As can be seen above from their EDCF plots, you can see a different in their distributions, however pay close attention to the x axis and you can see the distribution difference is significant. "
   ]
  },
  {
   "cell_type": "code",
   "execution_count": null,
   "metadata": {},
   "outputs": [],
   "source": [
    "# scatterplot of linear regressoin residuals\n",
    "sns.residplot(x='blockNumber', y='redemptionRateActual', data=subsetGraph, label='redemptionRateActual')\n",
    "plt.title('redemptionRateActual regression residuals')"
   ]
  },
  {
   "cell_type": "code",
   "execution_count": null,
   "metadata": {},
   "outputs": [],
   "source": [
    "sns.residplot(x='blockNumber', y='counterfactual_redemption_rate', data=subsetGraph,label='counterfactual_redemption_rate')\n",
    "plt.title('counterfactual_redemption_rate regression residuals')"
   ]
  },
  {
   "cell_type": "code",
   "execution_count": null,
   "metadata": {},
   "outputs": [],
   "source": [
    "graphData.plot(x='blockNumber',y='globalDebt',kind='line',title='globalDebt')"
   ]
  },
  {
   "cell_type": "code",
   "execution_count": null,
   "metadata": {},
   "outputs": [],
   "source": [
    "graphData.plot(x='blockNumber',y='erc20CoinTotalSupply',kind='line',title='erc20CoinTotalSupply')"
   ]
  },
  {
   "cell_type": "code",
   "execution_count": null,
   "metadata": {},
   "outputs": [],
   "source": [
    "graphData.plot(x='blockNumber',y='marketPriceEth',kind='line',title='marketPriceEth')"
   ]
  },
  {
   "cell_type": "code",
   "execution_count": null,
   "metadata": {},
   "outputs": [],
   "source": [
    "graphData.plot(x='blockNumber',y='marketPriceUsd',kind='line',title='marketPriceUsd')"
   ]
  },
  {
   "cell_type": "markdown",
   "metadata": {},
   "source": [
    "## Conclusion\n",
    "\n",
    "Using The Graph, a lot of data about the Rai system can be obtained for analyzing the health of the system. With some data manipulation, these data streams could be intergrated into the Rai cadCAD model to turn it into a true decision support system."
   ]
  }
 ],
 "metadata": {
  "kernelspec": {
   "display_name": "Python 3",
   "language": "python",
   "name": "python3"
  },
  "language_info": {
   "codemirror_mode": {
    "name": "ipython",
    "version": 3
   },
   "file_extension": ".py",
   "mimetype": "text/x-python",
   "name": "python",
   "nbconvert_exporter": "python",
   "pygments_lexer": "ipython3",
   "version": "3.8.5"
  }
 },
 "nbformat": 4,
 "nbformat_minor": 4
}
