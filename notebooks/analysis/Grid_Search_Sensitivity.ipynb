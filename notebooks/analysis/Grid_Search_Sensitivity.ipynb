{
 "cells": [
  {
   "cell_type": "markdown",
   "metadata": {},
   "source": [
    "## Grid Search Sensitivity Analysis\n",
    "\n",
    "Based on an exhausive monte carlo and parameter sweep run previously performed ([run log](../../experiments/system_model_v3/experiment_monte_carlo/experiment_run_log.md) and the [experiment code](../../experiments/system_model_v3/experiment_monte_carlo.py)), postprocessed in the [KPI Notebook](./experiment_notebooks/KPI%20Analysis.ipynb), we will analyze the results and perform sensitivity analysis to illustrate how to examine complex simulation results. \n"
   ]
  },
  {
   "cell_type": "code",
   "execution_count": null,
   "metadata": {},
   "outputs": [],
   "source": [
    "# Import libraries\n",
    "import pandas as pd\n",
    "import matplotlib.pyplot as plt\n",
    "import pickle as pk\n",
    "\n",
    "%matplotlib inline"
   ]
  },
  {
   "cell_type": "markdown",
   "metadata": {},
   "source": [
    "# Simulation Analysis"
   ]
  },
  {
   "cell_type": "code",
   "execution_count": null,
   "metadata": {},
   "outputs": [],
   "source": [
    "# load data\n",
    "df_sensitivity = pd.read_pickle('saved_results/df_sensitivity.pickle')\n",
    "df_sensitivity.head()"
   ]
  },
  {
   "cell_type": "code",
   "execution_count": null,
   "metadata": {},
   "outputs": [],
   "source": [
    "df_sensitivity.columns"
   ]
  },
  {
   "cell_type": "code",
   "execution_count": null,
   "metadata": {},
   "outputs": [],
   "source": [
    "df_sensitivity.substep.unique()"
   ]
  },
  {
   "cell_type": "code",
   "execution_count": null,
   "metadata": {},
   "outputs": [],
   "source": [
    "df_sensitivity.subset.unique()"
   ]
  },
  {
   "cell_type": "code",
   "execution_count": null,
   "metadata": {},
   "outputs": [],
   "source": [
    "# install cadCAD Machine Search\n",
    "# cadCAD tools for preparing & analyzing experiments where large-scale machine search for selecting parameters are involved.\n",
    "!pip install cadcad_machine_search"
   ]
  },
  {
   "cell_type": "markdown",
   "metadata": {},
   "source": [
    "### Sensitivity Analysis via Machine Search\n",
    "\n",
    "With Machine Search, we look at the sensitivity of a KPI towards a set of control parameters.\n",
    "\n",
    "To do so, we fit a decision tree and a random forest classifier to summarize the monte carlo run results. We use the random forest classifier to get feature importance, and the decision tree classifer to visualize the feature importance. We then plot this information to show the KPI's sensativity towards the control parameters."
   ]
  },
  {
   "cell_type": "code",
   "execution_count": null,
   "metadata": {},
   "outputs": [],
   "source": [
    "from cadcad_machine_search.visualizations import kpi_sensitivity_plot\n",
    "\n",
    "# Plots the sensitivity of a result dataset towards a KPI.\n",
    "\n",
    "# Set control parameters for sensitivity analysis\n",
    "control_params = [\n",
    "    'ki',\n",
    "    'kp',\n",
    "    'control_period',\n",
    "]\n",
    "\n",
    "goals = {\n",
    "    'low_volatility'  : lambda metrics: metrics['kpi_volatility'].mean(),\n",
    "    'high_stability'  : lambda metrics: metrics['kpi_stability'].mean(),\n",
    "    'liquidity_threshold': lambda metrics: metrics['kpi_liquidity'].mean(),\n",
    "}\n",
    "\n"
   ]
  },
  {
   "cell_type": "markdown",
   "metadata": {},
   "source": [
    "#### Controller enabled KPI Sensitivity "
   ]
  },
  {
   "cell_type": "code",
   "execution_count": null,
   "metadata": {},
   "outputs": [],
   "source": [
    "enabled = df_sensitivity.query(f'controller_enabled == True')\n",
    "kpi_sensitivity_plot(enabled, goals['low_volatility'], control_params)"
   ]
  },
  {
   "cell_type": "markdown",
   "metadata": {},
   "source": [
    "Plot is inclusive."
   ]
  },
  {
   "cell_type": "code",
   "execution_count": null,
   "metadata": {},
   "outputs": [],
   "source": [
    "kpi_sensitivity_plot(enabled, goals['high_stability'], control_params)"
   ]
  },
  {
   "cell_type": "code",
   "execution_count": null,
   "metadata": {},
   "outputs": [],
   "source": [
    "kpi_sensitivity_plot(enabled, goals['liquidity_threshold'], control_params)"
   ]
  },
  {
   "cell_type": "markdown",
   "metadata": {},
   "source": [
    "#### Liquidity Demand Shock KPI Sensitivity  True"
   ]
  },
  {
   "cell_type": "code",
   "execution_count": null,
   "metadata": {
    "lines_to_next_cell": 2
   },
   "outputs": [],
   "source": [
    "liquidity_demand_shock_true = df_sensitivity.query('liquidity_demand_shock == True')\n",
    "liquidity_demand_shock_false = df_sensitivity.query('liquidity_demand_shock == False')\n",
    "kpi_sensitivity_plot(liquidity_demand_shock_true, goals['low_volatility'], control_params)"
   ]
  },
  {
   "cell_type": "code",
   "execution_count": null,
   "metadata": {},
   "outputs": [],
   "source": [
    "kpi_sensitivity_plot(liquidity_demand_shock_true, goals['high_stability'], control_params)"
   ]
  },
  {
   "cell_type": "code",
   "execution_count": null,
   "metadata": {},
   "outputs": [],
   "source": [
    "kpi_sensitivity_plot(liquidity_demand_shock_true, goals['liquidity_threshold'], control_params)"
   ]
  },
  {
   "cell_type": "markdown",
   "metadata": {},
   "source": [
    "#### Liquidity Demand Shock KPI Sensitivity - False"
   ]
  },
  {
   "cell_type": "code",
   "execution_count": null,
   "metadata": {
    "lines_to_next_cell": 2
   },
   "outputs": [],
   "source": [
    "kpi_sensitivity_plot(liquidity_demand_shock_false, goals['low_volatility'], control_params)"
   ]
  },
  {
   "cell_type": "code",
   "execution_count": null,
   "metadata": {},
   "outputs": [],
   "source": [
    "kpi_sensitivity_plot(liquidity_demand_shock_false, goals['high_stability'], control_params)"
   ]
  },
  {
   "cell_type": "code",
   "execution_count": null,
   "metadata": {},
   "outputs": [],
   "source": [
    "kpi_sensitivity_plot(liquidity_demand_shock_false, goals['liquidity_threshold'], control_params)"
   ]
  },
  {
   "cell_type": "markdown",
   "metadata": {},
   "source": [
    "#### Liquidity Demand Shock KPI Sensitivity - True"
   ]
  },
  {
   "cell_type": "code",
   "execution_count": null,
   "metadata": {
    "lines_to_next_cell": 2
   },
   "outputs": [],
   "source": [
    "kpi_sensitivity_plot(liquidity_demand_shock_true, goals['low_volatility'], control_params)"
   ]
  },
  {
   "cell_type": "code",
   "execution_count": null,
   "metadata": {},
   "outputs": [],
   "source": [
    "kpi_sensitivity_plot(liquidity_demand_shock_true, goals['high_stability'], control_params)"
   ]
  },
  {
   "cell_type": "code",
   "execution_count": null,
   "metadata": {},
   "outputs": [],
   "source": [
    "kpi_sensitivity_plot(liquidity_demand_shock_true, goals['liquidity_threshold'], control_params)"
   ]
  },
  {
   "cell_type": "markdown",
   "metadata": {},
   "source": [
    "## Conclusion"
   ]
  }
 ],
 "metadata": {
  "jupytext": {
   "cell_metadata_filter": "-all",
   "encoding": "# -*- coding: utf-8 -*-",
   "formats": "ipynb,py:percent"
  },
  "kernelspec": {
   "display_name": "Python 3",
   "language": "python",
   "name": "python3"
  },
  "language_info": {
   "codemirror_mode": {
    "name": "ipython",
    "version": 3
   },
   "file_extension": ".py",
   "mimetype": "text/x-python",
   "name": "python",
   "nbconvert_exporter": "python",
   "pygments_lexer": "ipython3",
   "version": "3.8.5"
  }
 },
 "nbformat": 4,
 "nbformat_minor": 4
}
